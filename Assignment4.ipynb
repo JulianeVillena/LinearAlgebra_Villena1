{
  "nbformat": 4,
  "nbformat_minor": 0,
  "metadata": {
    "colab": {
      "name": "Untitled1.ipynb",
      "provenance": [],
      "collapsed_sections": [],
      "authorship_tag": "ABX9TyMXsqmQ+AjS0Ub+IkwGhjd6",
      "include_colab_link": true
    },
    "kernelspec": {
      "name": "python3",
      "display_name": "Python 3"
    },
    "language_info": {
      "name": "python"
    }
  },
  "cells": [
    {
      "cell_type": "markdown",
      "metadata": {
        "id": "view-in-github",
        "colab_type": "text"
      },
      "source": [
        "<a href=\"https://colab.research.google.com/github/JulianeVillena/LinearAlgebra_Villena1/blob/main/Assignment4.ipynb\" target=\"_parent\"><img src=\"https://colab.research.google.com/assets/colab-badge.svg\" alt=\"Open In Colab\"/></a>"
      ]
    },
    {
      "cell_type": "markdown",
      "metadata": {
        "id": "ne6VpjQaCuuf"
      },
      "source": [
        "#Assignment 4 Activity\n"
      ]
    },
    {
      "cell_type": "code",
      "metadata": {
        "id": "ddzrGmIXCqkK"
      },
      "source": [
        "\n",
        "import numpy as np\n",
        "import matplotlib.pyplot as plt\n",
        "import scipy.linalg as la\n",
        "%matplotlib inline"
      ],
      "execution_count": 1,
      "outputs": []
    },
    {
      "cell_type": "markdown",
      "metadata": {
        "id": "dNvT580GuvZD"
      },
      "source": [
        "**TASK 1**\n",
        "Create a function named mat_desc() that througouhly describes a matrix, it should:\n",
        "\n",
        "Displays the shape, size, and rank of the matrix.\n",
        "Displays whether the matrix is square or non-square.\n",
        "Displays whether the matrix is an empty matrix.\n",
        "Displays if the matrix is an identity, ones, or zeros matrix\n",
        "Use 5 sample matrices in which their shapes are not lower than $(3,3)$. In your methodology, create a flowchart discuss the functions and methods you have done. Present your results in the results section showing the description of each matrix you have declared."
      ]
    },
    {
      "cell_type": "code",
      "metadata": {
        "id": "XeRAzFdfDi0Q"
      },
      "source": [
        "def mat_desc(matrix):\n",
        "    print(f'Matrix:\\n{matrix}\\n\\nShape:\\t{matrix.shape}\\nRank:\\t{matrix.ndim}\\n')"
      ],
      "execution_count": 2,
      "outputs": []
    },
    {
      "cell_type": "markdown",
      "metadata": {
        "id": "od2Olwx1zpiY"
      },
      "source": [
        "SQUARE MATRIX"
      ]
    },
    {
      "cell_type": "code",
      "metadata": {
        "colab": {
          "base_uri": "https://localhost:8080/"
        },
        "id": "6bst1okPux24",
        "outputId": "e9648ebf-c7c5-45af-de49-a62fa1e6649b"
      },
      "source": [
        "\n",
        "A = np.array([\n",
        "    [1, 2, 4],\n",
        "    [3, 1, 2],\n",
        "    [3, 0, 5]\n",
        "])\n",
        "print(f'Square Matrix: \\n{A}')\n",
        "mat_desc(A)"
      ],
      "execution_count": 3,
      "outputs": [
        {
          "output_type": "stream",
          "name": "stdout",
          "text": [
            "Square Matrix: \n",
            "[[1 2 4]\n",
            " [3 1 2]\n",
            " [3 0 5]]\n",
            "Matrix:\n",
            "[[1 2 4]\n",
            " [3 1 2]\n",
            " [3 0 5]]\n",
            "\n",
            "Shape:\t(3, 3)\n",
            "Rank:\t2\n",
            "\n"
          ]
        }
      ]
    },
    {
      "cell_type": "markdown",
      "metadata": {
        "id": "VxOkEDHkzrcw"
      },
      "source": [
        "ZERO MATRIX"
      ]
    },
    {
      "cell_type": "code",
      "metadata": {
        "colab": {
          "base_uri": "https://localhost:8080/"
        },
        "id": "-ZMvZvz_xzI5",
        "outputId": "19c5fc67-491d-4910-9383-fbe9dbff4b7c"
      },
      "source": [
        "zero_mat = np.zeros((3,3))\n",
        "print(f'Zero Matrix: \\n{zero_mat}')\n",
        "mat_desc(zero_mat)"
      ],
      "execution_count": 4,
      "outputs": [
        {
          "output_type": "stream",
          "name": "stdout",
          "text": [
            "Zero Matrix: \n",
            "[[0. 0. 0.]\n",
            " [0. 0. 0.]\n",
            " [0. 0. 0.]]\n",
            "Matrix:\n",
            "[[0. 0. 0.]\n",
            " [0. 0. 0.]\n",
            " [0. 0. 0.]]\n",
            "\n",
            "Shape:\t(3, 3)\n",
            "Rank:\t2\n",
            "\n"
          ]
        }
      ]
    },
    {
      "cell_type": "markdown",
      "metadata": {
        "id": "0QVpN57ZztkI"
      },
      "source": [
        "ONES MATRIX"
      ]
    },
    {
      "cell_type": "code",
      "metadata": {
        "colab": {
          "base_uri": "https://localhost:8080/"
        },
        "id": "tOy4PH8pzKzZ",
        "outputId": "f2464a94-32c8-444d-890b-bcafc732a95e"
      },
      "source": [
        "ones_mat = np.ones((5,5))\n",
        "print(f'Ones Matrix: \\n{ones_mat}')\n",
        "mat_desc(ones_mat)"
      ],
      "execution_count": 5,
      "outputs": [
        {
          "output_type": "stream",
          "name": "stdout",
          "text": [
            "Ones Matrix: \n",
            "[[1. 1. 1. 1. 1.]\n",
            " [1. 1. 1. 1. 1.]\n",
            " [1. 1. 1. 1. 1.]\n",
            " [1. 1. 1. 1. 1.]\n",
            " [1. 1. 1. 1. 1.]]\n",
            "Matrix:\n",
            "[[1. 1. 1. 1. 1.]\n",
            " [1. 1. 1. 1. 1.]\n",
            " [1. 1. 1. 1. 1.]\n",
            " [1. 1. 1. 1. 1.]\n",
            " [1. 1. 1. 1. 1.]]\n",
            "\n",
            "Shape:\t(5, 5)\n",
            "Rank:\t2\n",
            "\n"
          ]
        }
      ]
    },
    {
      "cell_type": "markdown",
      "metadata": {
        "id": "IaTZG3eiz0fY"
      },
      "source": [
        "DIAGONAL MATRIX"
      ]
    },
    {
      "cell_type": "code",
      "metadata": {
        "colab": {
          "base_uri": "https://localhost:8080/"
        },
        "id": "GE-7O5iizi-Q",
        "outputId": "982990b6-aeec-4231-b956-a0db4e9c8839"
      },
      "source": [
        "B= np.array([\n",
        "    [2,0,0,0,0],\n",
        "    [0,4,0,0,0],\n",
        "    [0,0,6,0,0],\n",
        "    [0,6,0,5,0],\n",
        "    [0,6,0,0,1],\n",
        "])\n",
        "print(f'Diagonal Matrix: \\n{B}')\n",
        "mat_desc(B)\n"
      ],
      "execution_count": 6,
      "outputs": [
        {
          "output_type": "stream",
          "name": "stdout",
          "text": [
            "Diagonal Matrix: \n",
            "[[2 0 0 0 0]\n",
            " [0 4 0 0 0]\n",
            " [0 0 6 0 0]\n",
            " [0 6 0 5 0]\n",
            " [0 6 0 0 1]]\n",
            "Matrix:\n",
            "[[2 0 0 0 0]\n",
            " [0 4 0 0 0]\n",
            " [0 0 6 0 0]\n",
            " [0 6 0 5 0]\n",
            " [0 6 0 0 1]]\n",
            "\n",
            "Shape:\t(5, 5)\n",
            "Rank:\t2\n",
            "\n"
          ]
        }
      ]
    },
    {
      "cell_type": "markdown",
      "metadata": {
        "id": "EMrVLIr811gW"
      },
      "source": [
        "IDENTITY MATRIX"
      ]
    },
    {
      "cell_type": "code",
      "metadata": {
        "colab": {
          "base_uri": "https://localhost:8080/"
        },
        "id": "jzCbMorc11Im",
        "outputId": "a151d14f-3016-4b4d-9745-b21a8fb84819"
      },
      "source": [
        "\n",
        "mat_identity = np.identity(7)\n",
        "print(f'Identity Matrix: \\n{mat_identity}')\n",
        "mat_desc(mat_identity)"
      ],
      "execution_count": 7,
      "outputs": [
        {
          "output_type": "stream",
          "name": "stdout",
          "text": [
            "Identity Matrix: \n",
            "[[1. 0. 0. 0. 0. 0. 0.]\n",
            " [0. 1. 0. 0. 0. 0. 0.]\n",
            " [0. 0. 1. 0. 0. 0. 0.]\n",
            " [0. 0. 0. 1. 0. 0. 0.]\n",
            " [0. 0. 0. 0. 1. 0. 0.]\n",
            " [0. 0. 0. 0. 0. 1. 0.]\n",
            " [0. 0. 0. 0. 0. 0. 1.]]\n",
            "Matrix:\n",
            "[[1. 0. 0. 0. 0. 0. 0.]\n",
            " [0. 1. 0. 0. 0. 0. 0.]\n",
            " [0. 0. 1. 0. 0. 0. 0.]\n",
            " [0. 0. 0. 1. 0. 0. 0.]\n",
            " [0. 0. 0. 0. 1. 0. 0.]\n",
            " [0. 0. 0. 0. 0. 1. 0.]\n",
            " [0. 0. 0. 0. 0. 0. 1.]]\n",
            "\n",
            "Shape:\t(7, 7)\n",
            "Rank:\t2\n",
            "\n"
          ]
        }
      ]
    },
    {
      "cell_type": "markdown",
      "metadata": {
        "id": "6Nq9EdTA2z83"
      },
      "source": [
        "**TASK 2** Create a function named mat_operations() that takes in two matrices a input parameters it should:\n",
        "\n",
        "Determines if the matrices are viable for operation and returns your own error message if they are not viable.\n",
        "Returns the sum of the matrices.\n",
        "Returns the differen of the matrices.\n",
        "Returns the element-wise multiplication of the matrices.\n",
        "Returns the element-wise division of the matrices.\n",
        "Use 5 sample matrices in which their shapes are not lower than $(3,3)$. In your methodology, create a flowchart discuss the functions and methods you have done. Present your results in the results section showing the description of each matrix you have declared.\n"
      ]
    },
    {
      "cell_type": "code",
      "metadata": {
        "id": "kIRsS5ujmG6f"
      },
      "source": [
        "def mat_operations(matrix):\n",
        "    print(f'Matrix:\\n{matrix}\\n\\nShape:\\t{matrix.shape}\\nRank:\\t{matrix.ndim}\\n')"
      ],
      "execution_count": 24,
      "outputs": []
    },
    {
      "cell_type": "markdown",
      "metadata": {
        "id": "nkqypPXq5ORN"
      },
      "source": [
        "ADDITION"
      ]
    },
    {
      "cell_type": "code",
      "metadata": {
        "id": "-bpSQPSJf7xZ"
      },
      "source": [
        ""
      ],
      "execution_count": null,
      "outputs": []
    },
    {
      "cell_type": "code",
      "metadata": {
        "colab": {
          "base_uri": "https://localhost:8080/"
        },
        "id": "5SCSF2dK5NRY",
        "outputId": "92262589-ae12-4499-de91-8ccb07ae7a5b"
      },
      "source": [
        "A = np.array([\n",
        "    [2,2,7],\n",
        "    [2,6,3],\n",
        "    [5,1,4]\n",
        "])\n",
        "B = np.array([\n",
        "    [2,4,6],\n",
        "    [4,3,6],\n",
        "    [1,5,7]\n",
        "])\n",
        "A+B\n",
        "print(f'Addition Matrix: \\n{A+B}')"
      ],
      "execution_count": 23,
      "outputs": [
        {
          "output_type": "stream",
          "name": "stdout",
          "text": [
            "Addition Matrix: \n",
            "[[ 4  6 13]\n",
            " [ 6  9  9]\n",
            " [ 6  6 11]]\n"
          ]
        }
      ]
    },
    {
      "cell_type": "code",
      "metadata": {
        "colab": {
          "base_uri": "https://localhost:8080/"
        },
        "id": "-TujyR2f7FM1",
        "outputId": "ed5ebbdb-a5d8-415a-86f4-d32a421a6d99"
      },
      "source": [
        "B = np.array([\n",
        "    [2,5,0],\n",
        "    [1,7,3],\n",
        "    [5,2,4]\n",
        "])\n",
        "C = np.array([\n",
        "    [2,0,6],\n",
        "    [6,3,0],\n",
        "    [2,0,5]\n",
        "])\n",
        "\n",
        "B+C\n",
        "print(f'Addition Matrix: \\n{B+C}')\n"
      ],
      "execution_count": 14,
      "outputs": [
        {
          "output_type": "stream",
          "name": "stdout",
          "text": [
            "Addition Matrix: \n",
            "[[ 4  5  6]\n",
            " [ 7 10  3]\n",
            " [ 7  2  9]]\n"
          ]
        }
      ]
    },
    {
      "cell_type": "markdown",
      "metadata": {
        "id": "4mMxAK9b5VqN"
      },
      "source": [
        "SUBTRACTION"
      ]
    },
    {
      "cell_type": "code",
      "metadata": {
        "colab": {
          "base_uri": "https://localhost:8080/"
        },
        "id": "dur99Ide5VVl",
        "outputId": "887d6892-d87d-424f-e02c-8a55cd3259e1"
      },
      "source": [
        "A = np.array([\n",
        "    [2,2,7],\n",
        "    [2,6,3],\n",
        "    [5,1,4]\n",
        "])\n",
        "B = np.array([\n",
        "    [2,4,6],\n",
        "    [4,3,3],\n",
        "    [1,5,5]\n",
        "])\n",
        "\n",
        "A-B\n",
        "print(f'Subtraction Matrix: \\n{A+B}')"
      ],
      "execution_count": 15,
      "outputs": [
        {
          "output_type": "stream",
          "name": "stdout",
          "text": [
            "Subtraction Matrix: \n",
            "[[ 4  6 13]\n",
            " [ 6  9  6]\n",
            " [ 6  6  9]]\n"
          ]
        }
      ]
    },
    {
      "cell_type": "markdown",
      "metadata": {
        "id": "C1G-lFuQ5WVN"
      },
      "source": [
        "ELEMENT-WISE MULTIPLICATION"
      ]
    },
    {
      "cell_type": "code",
      "metadata": {
        "colab": {
          "base_uri": "https://localhost:8080/"
        },
        "id": "_-ILrjXB5VHt",
        "outputId": "d040e93e-d946-4a9f-9728-03be12eebb5e"
      },
      "source": [
        "A*B\n",
        "print(f'Multiplication Matrix: \\n{A*B}')"
      ],
      "execution_count": 26,
      "outputs": [
        {
          "output_type": "stream",
          "name": "stdout",
          "text": [
            "Multiplication Matrix: \n",
            "[[ 4  8 42]\n",
            " [ 8 18 18]\n",
            " [ 5  5 28]]\n"
          ]
        }
      ]
    },
    {
      "cell_type": "code",
      "metadata": {
        "colab": {
          "base_uri": "https://localhost:8080/"
        },
        "id": "anhQJy-zm9jf",
        "outputId": "43feadae-22ec-4142-fe07-a2e02cbecf58"
      },
      "source": [
        "C*B\n",
        "print(f'Multiplication Matrix: \\n{C*B}')"
      ],
      "execution_count": 28,
      "outputs": [
        {
          "output_type": "stream",
          "name": "stdout",
          "text": [
            "Multiplication Matrix: \n",
            "[[ 4  0 36]\n",
            " [24  9  0]\n",
            " [ 2  0 35]]\n"
          ]
        }
      ]
    },
    {
      "cell_type": "markdown",
      "metadata": {
        "id": "hM_VKvY55Wtt"
      },
      "source": [
        "ELEMENT-WISE DIVISION"
      ]
    },
    {
      "cell_type": "code",
      "metadata": {
        "colab": {
          "base_uri": "https://localhost:8080/"
        },
        "id": "UJbLknV-5U4V",
        "outputId": "3e9c44aa-c6de-4c0f-c944-a7a29c7f96b3"
      },
      "source": [
        "A/B\n",
        "print(f'Division Matrix: \\n{A/B}')"
      ],
      "execution_count": 30,
      "outputs": [
        {
          "output_type": "stream",
          "name": "stdout",
          "text": [
            "Division Matrix: \n",
            "[[1.         0.5        1.16666667]\n",
            " [0.5        2.         0.5       ]\n",
            " [5.         0.2        0.57142857]]\n"
          ]
        }
      ]
    },
    {
      "cell_type": "code",
      "metadata": {
        "colab": {
          "base_uri": "https://localhost:8080/"
        },
        "id": "8A8QZY8tnN9W",
        "outputId": "396ed7ec-f43d-4fd5-848b-347fb91c5e3a"
      },
      "source": [
        "B/A\n",
        "print(f'Division Matrix: \\n{B/A}')"
      ],
      "execution_count": 33,
      "outputs": [
        {
          "output_type": "stream",
          "name": "stdout",
          "text": [
            "Division Matrix: \n",
            "[[1.         2.         0.85714286]\n",
            " [2.         0.5        2.        ]\n",
            " [0.2        5.         1.75      ]]\n"
          ]
        }
      ]
    }
  ]
}