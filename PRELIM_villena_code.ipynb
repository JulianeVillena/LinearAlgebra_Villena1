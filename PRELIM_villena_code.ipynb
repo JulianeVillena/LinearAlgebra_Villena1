{
  "nbformat": 4,
  "nbformat_minor": 0,
  "metadata": {
    "colab": {
      "name": "PRELIM villena code.ipynb",
      "provenance": [],
      "authorship_tag": "ABX9TyMWrj2WYDVfKTyKSZRQpgxt",
      "include_colab_link": true
    },
    "kernelspec": {
      "name": "python3",
      "display_name": "Python 3"
    },
    "language_info": {
      "name": "python"
    }
  },
  "cells": [
    {
      "cell_type": "markdown",
      "metadata": {
        "id": "view-in-github",
        "colab_type": "text"
      },
      "source": [
        "<a href=\"https://colab.research.google.com/github/JulianeVillena/LinearAlgebra_Villena1/blob/main/PRELIM_villena_code.ipynb\" target=\"_parent\"><img src=\"https://colab.research.google.com/assets/colab-badge.svg\" alt=\"Open In Colab\"/></a>"
      ]
    },
    {
      "cell_type": "markdown",
      "metadata": {
        "id": "RZOah6QhNfQR"
      },
      "source": [
        "PRELIM EXAM (VILLENA)\n",
        "Code solution"
      ]
    },
    {
      "cell_type": "code",
      "metadata": {
        "id": "cFX_UkXUMdUd"
      },
      "source": [
        "import numpy as np\n",
        "import matplotlib.pyplot as plt\n",
        "import scipy.linalg as la\n",
        "%matplotlib inline"
      ],
      "execution_count": 1,
      "outputs": []
    },
    {
      "cell_type": "markdown",
      "metadata": {
        "id": "976mzRu9NdIa"
      },
      "source": [
        ""
      ]
    },
    {
      "cell_type": "code",
      "metadata": {
        "id": "u_O3ufInMkI6"
      },
      "source": [
        "def describe_mat(matrix):\n",
        "    print(f'Matrix:\\n{matrix}\\n\\nShape:\\t{matrix.shape}\\nRank:\\t{matrix.ndim}\\n')"
      ],
      "execution_count": 3,
      "outputs": []
    },
    {
      "cell_type": "code",
      "metadata": {
        "colab": {
          "base_uri": "https://localhost:8080/"
        },
        "id": "JDafD15AMq0R",
        "outputId": "6d1df795-72bb-4a06-e75b-0cf3d5538a12"
      },
      "source": [
        "i = 0\n",
        "while i < 5:\n",
        "  print(i)\n",
        "  i+= 1\n",
        "  if i == 3:\n",
        "      break\n",
        "else:\n",
        "  print(0)      "
      ],
      "execution_count": 4,
      "outputs": [
        {
          "output_type": "stream",
          "name": "stdout",
          "text": [
            "0\n",
            "1\n",
            "2\n"
          ]
        }
      ]
    },
    {
      "cell_type": "code",
      "metadata": {
        "colab": {
          "base_uri": "https://localhost:8080/",
          "height": 132
        },
        "id": "GJJ7IGL7MwMx",
        "outputId": "3512639c-0eca-41c6-c5ae-c97e14711730"
      },
      "source": [
        "x = 1\n",
        "while True:\n",
        "   if x % 5 == 0:\n",
        "       break\n",
        "   print(x)\n",
        "   x + = 1"
      ],
      "execution_count": 5,
      "outputs": [
        {
          "output_type": "error",
          "ename": "SyntaxError",
          "evalue": "ignored",
          "traceback": [
            "\u001b[0;36m  File \u001b[0;32m\"<ipython-input-5-284feb545b6d>\"\u001b[0;36m, line \u001b[0;32m6\u001b[0m\n\u001b[0;31m    x + = 1\u001b[0m\n\u001b[0m        ^\u001b[0m\n\u001b[0;31mSyntaxError\u001b[0m\u001b[0;31m:\u001b[0m invalid syntax\n"
          ]
        }
      ]
    },
    {
      "cell_type": "code",
      "metadata": {
        "colab": {
          "base_uri": "https://localhost:8080/"
        },
        "id": "UVkw3MqRMzCp",
        "outputId": "d56b4e03-706b-47ad-9e16-1c5be457c7d7"
      },
      "source": [
        "x, y, z = 2, 4.0, '3'\n",
        "type(z)"
      ],
      "execution_count": 6,
      "outputs": [
        {
          "output_type": "execute_result",
          "data": {
            "text/plain": [
              "str"
            ]
          },
          "metadata": {},
          "execution_count": 6
        }
      ]
    },
    {
      "cell_type": "code",
      "metadata": {
        "colab": {
          "base_uri": "https://localhost:8080/"
        },
        "id": "BYVZ0ceKNBCZ",
        "outputId": "ca66bf11-b2db-4db2-c5ec-91354a839a0f"
      },
      "source": [
        "d = {0,1,2}\n",
        "for x in d:\n",
        "  print(x)"
      ],
      "execution_count": 7,
      "outputs": [
        {
          "output_type": "stream",
          "name": "stdout",
          "text": [
            "0\n",
            "1\n",
            "2\n"
          ]
        }
      ]
    },
    {
      "cell_type": "code",
      "metadata": {
        "colab": {
          "base_uri": "https://localhost:8080/"
        },
        "id": "vyMNxrVdNDLI",
        "outputId": "c056f2d6-d614-47ff-c2aa-af456c4905e1"
      },
      "source": [
        "P = np.array([\n",
        "    [5,7,2],\n",
        "    [2,3,3],\n",
        "    [4,1,0]          \n",
        "])\n",
        "Q = np.array([\n",
        "    [2,2,-3],\n",
        "    [0,0,1],\n",
        "    [1,1,-3]\n",
        "]) \n",
        "P + 2*Q"
      ],
      "execution_count": 8,
      "outputs": [
        {
          "output_type": "execute_result",
          "data": {
            "text/plain": [
              "array([[ 9, 11, -4],\n",
              "       [ 2,  3,  5],\n",
              "       [ 6,  3, -6]])"
            ]
          },
          "metadata": {},
          "execution_count": 8
        }
      ]
    },
    {
      "cell_type": "code",
      "metadata": {
        "id": "_326q0I8NF3q"
      },
      "source": [
        "import numpy as np\n",
        "X = np.array([\n",
        "    [5,0,4],\n",
        "    [4,-1,5],\n",
        "    [3,-1,-6]\n",
        "]) "
      ],
      "execution_count": 9,
      "outputs": []
    },
    {
      "cell_type": "code",
      "metadata": {
        "colab": {
          "base_uri": "https://localhost:8080/"
        },
        "id": "KalsJUaiNL7K",
        "outputId": "c7879be4-87cb-4f84-c5b7-8cdbb366b8c2"
      },
      "source": [
        "import numpy as np\n",
        "A = np.array([[8,2],\n",
        "    [5,4],\n",
        "    [1,1]])\n",
        "describe_mat(A)"
      ],
      "execution_count": 10,
      "outputs": [
        {
          "output_type": "stream",
          "name": "stdout",
          "text": [
            "Matrix:\n",
            "[[8 2]\n",
            " [5 4]\n",
            " [1 1]]\n",
            "\n",
            "Shape:\t(3, 2)\n",
            "Rank:\t2\n",
            "\n"
          ]
        }
      ]
    },
    {
      "cell_type": "code",
      "metadata": {
        "colab": {
          "base_uri": "https://localhost:8080/"
        },
        "id": "-QvLohEsNNUx",
        "outputId": "6c3a355e-2757-4f85-e93b-a9dcb3f1eb3b"
      },
      "source": [
        "def create_user (userid):\n",
        "    print(\"Successfully created user: {}\".format(userid))\n",
        "\n",
        "userid = 2021_100001\n",
        "create_user(2021-100100)"
      ],
      "execution_count": 11,
      "outputs": [
        {
          "output_type": "stream",
          "name": "stdout",
          "text": [
            "Successfully created user: -98079\n"
          ]
        }
      ]
    },
    {
      "cell_type": "code",
      "metadata": {
        "colab": {
          "base_uri": "https://localhost:8080/"
        },
        "id": "luTmDmAxNQ2h",
        "outputId": "ad1e9205-cbf5-4496-9ba7-3ecfd69759b3"
      },
      "source": [
        "import numpy as np\n",
        "a = np.array([[1,2,3],[0,1,4]])\n",
        "print (a.shape)"
      ],
      "execution_count": 12,
      "outputs": [
        {
          "output_type": "stream",
          "name": "stdout",
          "text": [
            "(2, 3)\n"
          ]
        }
      ]
    },
    {
      "cell_type": "markdown",
      "metadata": {
        "id": "415EbGMzNTQr"
      },
      "source": [
        "$$\n",
        "B = \\left\\{\n",
        "    \\begin{array}\\\n",
        "      x+y+z\\\\\n",
        "      3x-2y-z\\\\\n",
        "      -x+4y+2z\n",
        "    \\end{array}\n",
        "  \\right.$$"
      ]
    },
    {
      "cell_type": "code",
      "metadata": {
        "colab": {
          "base_uri": "https://localhost:8080/"
        },
        "id": "0__k57nANWcB",
        "outputId": "818642cb-f356-4473-d394-54c6415edc3f"
      },
      "source": [
        "import numpy as np\n",
        "a = np.array([1,2,3,5,8])\n",
        "b = np.array([0,3,4,2,1])\n",
        "c = a + b\n",
        "c"
      ],
      "execution_count": 13,
      "outputs": [
        {
          "output_type": "execute_result",
          "data": {
            "text/plain": [
              "array([1, 5, 7, 7, 9])"
            ]
          },
          "metadata": {},
          "execution_count": 13
        }
      ]
    },
    {
      "cell_type": "code",
      "metadata": {
        "colab": {
          "base_uri": "https://localhost:8080/"
        },
        "id": "n_0n8Cu-NZwC",
        "outputId": "a6adf2f9-f5f2-45c5-a7a7-3397dcb73a65"
      },
      "source": [
        "int1 = 10\n",
        "int2 = 6\n",
        "if int1 != int2:\n",
        "    int2 = ++ int2\n",
        "    print(int1 - int2)"
      ],
      "execution_count": 14,
      "outputs": [
        {
          "output_type": "stream",
          "name": "stdout",
          "text": [
            "4\n"
          ]
        }
      ]
    }
  ]
}