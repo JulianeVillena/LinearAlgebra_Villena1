{
  "nbformat": 4,
  "nbformat_minor": 0,
  "metadata": {
    "kernelspec": {
      "display_name": "Python 3",
      "language": "python",
      "name": "python3"
    },
    "language_info": {
      "codemirror_mode": {
        "name": "ipython",
        "version": 3
      },
      "file_extension": ".py",
      "mimetype": "text/x-python",
      "name": "python",
      "nbconvert_exporter": "python",
      "pygments_lexer": "ipython3",
      "version": "3.8.3"
    },
    "colab": {
      "name": "Assignment 10_VILLENA.ipynb",
      "provenance": [],
      "collapsed_sections": [],
      "include_colab_link": true
    }
  },
  "cells": [
    {
      "cell_type": "markdown",
      "metadata": {
        "id": "view-in-github",
        "colab_type": "text"
      },
      "source": [
        "<a href=\"https://colab.research.google.com/github/JulianeVillena/LinearAlgebra_Villena1/blob/main/Assignment_10_VILLENA.ipynb\" target=\"_parent\"><img src=\"https://colab.research.google.com/assets/colab-badge.svg\" alt=\"Open In Colab\"/></a>"
      ]
    },
    {
      "cell_type": "markdown",
      "metadata": {
        "id": "F7JH-Oc2O9Sw"
      },
      "source": [
        "# Linear Algebra for ECE\n",
        "## Laboratory 10 : Linear Combination and Vector Spaces"
      ]
    },
    {
      "cell_type": "markdown",
      "metadata": {
        "id": "aTacEIfvO9S0"
      },
      "source": [
        "Now that you have a fundamental knowledge about linear combination, we'll try to visualize it using scientific programming."
      ]
    },
    {
      "cell_type": "markdown",
      "metadata": {
        "id": "5Rk-2NPqO9S1"
      },
      "source": [
        "### Objectives\n",
        "At the end of this activity you will be able to:\n",
        "1. Be familiar with representing linear combinations in the 2-dimensional plane.\n",
        "2. Visualize spans using vector fields in Python.\n",
        "3. Perform vector fields operations using scientific programming."
      ]
    },
    {
      "cell_type": "markdown",
      "metadata": {
        "id": "PJYUg0_dO9S1"
      },
      "source": [
        "## Discussion"
      ]
    },
    {
      "cell_type": "code",
      "metadata": {
        "id": "ZQYRaKtkO9S1"
      },
      "source": [
        "import numpy as np\n",
        "import matplotlib.pyplot as plt\n",
        "%matplotlib inline"
      ],
      "execution_count": 1,
      "outputs": []
    },
    {
      "cell_type": "markdown",
      "metadata": {
        "id": "REOM226CO9S2"
      },
      "source": [
        "## Linear Combination"
      ]
    },
    {
      "cell_type": "markdown",
      "metadata": {
        "id": "mXycshXOO9S3"
      },
      "source": [
        "It is said that a linear combination is the combination of linear scaling and addition of a vector its bases/components"
      ]
    },
    {
      "cell_type": "markdown",
      "metadata": {
        "id": "_-14ifj_O9S3"
      },
      "source": [
        "We will try to visualize the vectors and their linear combinations by plotting a sample of real number values for the scalars for the vectors. Let's first try the vectors below:"
      ]
    },
    {
      "cell_type": "markdown",
      "metadata": {
        "id": "A1p9s0DvO9S4"
      },
      "source": [
        "$$X = \\begin{bmatrix} 2\\\\5 \\\\\\end{bmatrix} , Y = \\begin{bmatrix} 7\\\\9 \\\\\\end{bmatrix} $$"
      ]
    },
    {
      "cell_type": "code",
      "metadata": {
        "id": "V0jYnfAaO9S4"
      },
      "source": [
        "vectX =  np.array([2,5])\n",
        "vectY =  np.array([7,9])"
      ],
      "execution_count": 2,
      "outputs": []
    },
    {
      "cell_type": "markdown",
      "metadata": {
        "id": "ZnweVCl3O9S4"
      },
      "source": [
        "#### Span of single vectors"
      ]
    },
    {
      "cell_type": "markdown",
      "metadata": {
        "id": "I1is-SWEO9S5"
      },
      "source": [
        "As discussed in the lecture, the span of individual vectors can be represented by a line span. Let's take vector $X$ as an example."
      ]
    },
    {
      "cell_type": "markdown",
      "metadata": {
        "id": "1TuPwTkVO9S5"
      },
      "source": [
        "$$X = c\\cdot \\begin{bmatrix} 2\\\\5 \\\\\\end{bmatrix} $$"
      ]
    },
    {
      "cell_type": "code",
      "metadata": {
        "colab": {
          "base_uri": "https://localhost:8080/",
          "height": 269
        },
        "id": "ttPQ0Ti4O9S5",
        "outputId": "f0ae8937-0a80-489e-d3b2-67b7b7546bb3"
      },
      "source": [
        "c = np.arange(-10,10,0.125)\n",
        "\n",
        "plt.scatter(c*vectX[0],c*vectX[1])\n",
        "\n",
        "plt.xlim(-10,10)\n",
        "plt.ylim(-10,10)\n",
        "plt.axhline(y=0, color='k')\n",
        "plt.axvline(x=0, color='k')\n",
        "plt.grid()\n",
        "plt.show()"
      ],
      "execution_count": 3,
      "outputs": [
        {
          "output_type": "display_data",
          "data": {
            "image/png": "[encoded data removed]",
            "text/plain": [
              "<Figure size 432x288 with 1 Axes>"
            ]
          },
          "metadata": {
            "needs_background": "light"
          }
        }
      ]
    },
    {
      "cell_type": "markdown",
      "metadata": {
        "id": "pf_rVm8FV0Jy"
      },
      "source": [
        "$$Y = c\\cdot \\begin{bmatrix} 7\\\\9 \\\\\\end{bmatrix} $$"
      ]
    },
    {
      "cell_type": "code",
      "metadata": {
        "colab": {
          "base_uri": "https://localhost:8080/",
          "height": 269
        },
        "id": "OjoN2KdzV5s2",
        "outputId": "f4580237-9e5c-4c2e-838f-f1be62351d52"
      },
      "source": [
        "c = np.arange(-15,15,0.5)\n",
        "\n",
        "plt.scatter(c*vectY[0],c*vectY[1])\n",
        "\n",
        "plt.xlim(-20,20)\n",
        "plt.ylim(-20,20)\n",
        "plt.axhline(y=0, color='k')\n",
        "plt.axvline(x=0, color='k')\n",
        "plt.grid()\n",
        "plt.show()"
      ],
      "execution_count": 4,
      "outputs": [
        {
          "output_type": "display_data",
          "data": {
            "image/png": "[encoded data removed]",
            "text/plain": [
              "<Figure size 432x288 with 1 Axes>"
            ]
          },
          "metadata": {
            "needs_background": "light"
          }
        }
      ]
    },
    {
      "cell_type": "markdown",
      "metadata": {
        "id": "BXNrnuFLO9S6"
      },
      "source": [
        "### Span of a linear combination of vectors"
      ]
    },
    {
      "cell_type": "markdown",
      "metadata": {
        "id": "5gYQM__tO9S6"
      },
      "source": [
        "So what if we are to plot the span of a linear combination of vectors? We can visualize as a plane on the 2-dimensional coordinate system. Let's take the span of the linear combination below:"
      ]
    },
    {
      "cell_type": "markdown",
      "metadata": {
        "id": "7Tc0vPm-O9S6"
      },
      "source": [
        "$$S = \\begin{Bmatrix} c_1 \\cdot\\begin{bmatrix} 1\\\\0 \\\\\\end{bmatrix}, \n",
        "c_2 \\cdot \\begin{bmatrix} 1\\\\-1 \\\\\\end{bmatrix}\\end{Bmatrix} $$"
      ]
    },
    {
      "cell_type": "code",
      "metadata": {
        "colab": {
          "base_uri": "https://localhost:8080/",
          "height": 265
        },
        "id": "Z8UT7UNUO9S6",
        "outputId": "a3ab292b-3b9b-4814-f637-835b0a47d956"
      },
      "source": [
        "vectA = np.array([1,0])\n",
        "vectB = np.array([1,-1])\n",
        "\n",
        "R = np.arange(-10,10,1)\n",
        "\n",
        "c1, c2 = np.meshgrid(R,R)\n",
        "\n",
        "vectR = vectA + vectB\n",
        "spanRx = c1*vectA[0] + c2*vectB[0]\n",
        "spanRy = c1*vectA[1] + c2*vectB[1]\n",
        "##plt.scatter(R*vectA[0],R*vectA[1])\n",
        "##plt.scatter(R*vectB[0],R*vectB[1])\n",
        "plt.scatter(spanRx,spanRy, s=5, alpha=0.75)\n",
        "\n",
        "plt.axhline(y=0, color='k')\n",
        "plt.axvline(x=0, color='k')\n",
        "plt.grid()\n",
        "plt.show()"
      ],
      "execution_count": 5,
      "outputs": [
        {
          "output_type": "display_data",
          "data": {
            "image/png": "[encoded data removed]",
            "text/plain": [
              "<Figure size 432x288 with 1 Axes>"
            ]
          },
          "metadata": {
            "needs_background": "light"
          }
        }
      ]
    },
    {
      "cell_type": "code",
      "metadata": {
        "colab": {
          "base_uri": "https://localhost:8080/",
          "height": 265
        },
        "id": "REIskplJad3G",
        "outputId": "b4088202-8c43-4c89-b997-0a449eb51863"
      },
      "source": [
        "vectP = np.array([2,1])\n",
        "vectQ = np.array([4,3])\n",
        "\n",
        "R = np.arange(-10,10,1)\n",
        "\n",
        "c1, c2 = np.meshgrid(R,R)\n",
        "\n",
        "vectR = vectP + vectQ\n",
        "spanRx = c1*vectP[0] + c2*vectQ[0]\n",
        "spanRy = c1*vectP[1] + c2*vectQ[1]\n",
        "##plt.scatter(R*vectA[0],R*vectA[1])\n",
        "##plt.scatter(R*vectB[0],R*vectB[1])\n",
        "plt.scatter(spanRx,spanRy, s=5, alpha=0.75)\n",
        "\n",
        "plt.axhline(y=0, color='k')\n",
        "plt.axvline(x=0, color='k')\n",
        "plt.grid()\n",
        "plt.show()"
      ],
      "execution_count": 4,
      "outputs": [
        {
          "output_type": "display_data",
          "data": {
            "image/png": "[encoded data removed]",
            "text/plain": [
              "<Figure size 432x288 with 1 Axes>"
            ]
          },
          "metadata": {
            "needs_background": "light"
          }
        }
      ]
    },
    {
      "cell_type": "markdown",
      "metadata": {
        "id": "N9nhJvXFO9S7"
      },
      "source": [
        "Take note that if vectors are seen to be as a 2-dimensional span we can say it has a Rank of 2 or $\\mathbb{R}^2$. But if the span of the linear combination of vectors are seen to be like a line, they are said to be <b> linearly dependent </b> and they have a rank of 1 or $\\mathbb{R}^1$."
      ]
    },
    {
      "cell_type": "markdown",
      "metadata": {
        "id": "2OVPBMoSO9S7"
      },
      "source": [
        "# Activity"
      ]
    },
    {
      "cell_type": "markdown",
      "metadata": {
        "id": "iT7GLOf6O9S7"
      },
      "source": [
        "### Task 1"
      ]
    },
    {
      "cell_type": "markdown",
      "metadata": {
        "id": "As7P0lcrO9S7"
      },
      "source": [
        "Try different linear combinations using different scalar values. In your methodology discuss the different functions that you have used, the  linear equation and vector form of the linear combination, and the flowchart for declaring and displaying linear combinations. Please make sure that your flowchart has only few words and not putting the entire code as it is bad practice. In your results, display and discuss the linear combination visualization you made. You should use the cells below for displaying the equation markdows using LaTeX and your code."
      ]
    },
    {
      "cell_type": "markdown",
      "metadata": {
        "id": "8Usvs9WoO9S7"
      },
      "source": [
        "$$Juliane = \\begin{Bmatrix} V_1 \\cdot\\begin{bmatrix} 2\\\\5 \\\\\\end{bmatrix}, \n",
        "V_2 \\cdot \\begin{bmatrix} 3\\\\4 \\\\\\end{bmatrix}\\end{Bmatrix} $$"
      ]
    },
    {
      "cell_type": "markdown",
      "metadata": {
        "id": "peZ6TepdO9S7"
      },
      "source": [
        "$$Villena = x+y =-7$$"
      ]
    },
    {
      "cell_type": "markdown",
      "metadata": {
        "id": "d2gKto4pzVJ4"
      },
      "source": [
        "J = 0.2G + 0.1H + 0.3I\n",
        "\n",
        "G, H, I"
      ]
    },
    {
      "cell_type": "code",
      "metadata": {
        "colab": {
          "base_uri": "https://localhost:8080/"
        },
        "id": "rUqfEYol0If4",
        "outputId": "62346982-8500-491f-fca6-6ddfc6cd8bea"
      },
      "source": [
        "J = np.array([0.2, 0.4, 0.4])\n",
        "grades = np.array([89, 93, 95])\n",
        "J @ grades"
      ],
      "execution_count": 8,
      "outputs": [
        {
          "output_type": "execute_result",
          "data": {
            "text/plain": [
              "93.0"
            ]
          },
          "metadata": {},
          "execution_count": 8
        }
      ]
    },
    {
      "cell_type": "code",
      "metadata": {
        "id": "0zDr8Wt0O9S8",
        "colab": {
          "base_uri": "https://localhost:8080/",
          "height": 265
        },
        "outputId": "05d244eb-f393-469b-c3be-aae274c24a77"
      },
      "source": [
        "vectJ1 = np.array([2, 5]) \n",
        "vectJ2 = np.array([3, 4])\n",
        "\n",
        "R = np.arange (-10,10,1)\n",
        "\n",
        "V1, V2 = np.meshgrid (R,R)\n",
        "\n",
        "vectR = vectJ1 + vectJ2\n",
        "\n",
        "spanRx = V1*vectJ1[0] + V2*vectJ2[0]\n",
        "\n",
        "spanRy = V1*vectJ1[1]+ V2*vectJ2[1]\n",
        "\n",
        "plt.scatter(spanRx, spanRy, s=5, alpha=0.75)\n",
        "\n",
        "plt.axhline(y=0, color='Yellow')\n",
        "\n",
        "plt.axvline(x=0, color='Orange')\n",
        "\n",
        "plt.grid() \n",
        "plt.show()"
      ],
      "execution_count": 16,
      "outputs": [
        {
          "output_type": "display_data",
          "data": {
            "image/png": "[encoded data removed]",
            "text/plain": [
              "<Figure size 432x288 with 1 Axes>"
            ]
          },
          "metadata": {
            "needs_background": "light"
          }
        }
      ]
    },
    {
      "cell_type": "markdown",
      "metadata": {
        "id": "PrVKqPGs8Lx3"
      },
      "source": [
        "FLOWCHART"
      ]
    },
    {
      "cell_type": "markdown",
      "metadata": {
        "id": "EJabtlVq8OKW"
      },
      "source": [
        "![image.png](data:image/png;base64,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)"
      ]
    },
    {
      "cell_type": "markdown",
      "metadata": {
        "id": "FyEYibVfO9S9"
      },
      "source": [
        "## Conclusion \n"
      ]
    },
    {
      "cell_type": "markdown",
      "metadata": {
        "id": "smmACaxLO9S9"
      },
      "source": [
        "Therefore, For the conclusion of this lab experiment that such declaring functions like the usage of np arrays and plt functions we would be able to convert the declared matrices into linear equations and turn them into a graph which depends to the values assigned and how it affects the position of each plotting of dots, this visualization of linear equation can be really beneficial to the course of engineering as such vectors can be applied in real life situations. Moreover vectors can be applied in situtations involving force and velocity, a great example of this when it comes to engineering we can apply vectors in engineering mechanics in order to employ both magnitude and direction. "
      ]
    }
  ]
}