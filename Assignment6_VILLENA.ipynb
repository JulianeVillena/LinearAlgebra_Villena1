{
  "nbformat": 4,
  "nbformat_minor": 0,
  "metadata": {
    "kernelspec": {
      "display_name": "Python 3",
      "language": "python",
      "name": "python3"
    },
    "language_info": {
      "codemirror_mode": {
        "name": "ipython",
        "version": 3
      },
      "file_extension": ".py",
      "mimetype": "text/x-python",
      "name": "python",
      "nbconvert_exporter": "python",
      "pygments_lexer": "ipython3",
      "version": "3.8.3"
    },
    "colab": {
      "name": " Assignment6 VILLENA.ipynb",
      "provenance": [],
      "collapsed_sections": [],
      "include_colab_link": true
    }
  },
  "cells": [
    {
      "cell_type": "markdown",
      "metadata": {
        "id": "view-in-github",
        "colab_type": "text"
      },
      "source": [
        "<a href=\"https://colab.research.google.com/github/JulianeVillena/LinearAlgebra_Villena1/blob/main/Assignment6_VILLENA.ipynb\" target=\"_parent\"><img src=\"https://colab.research.google.com/assets/colab-badge.svg\" alt=\"Open In Colab\"/></a>"
      ]
    },
    {
      "cell_type": "markdown",
      "metadata": {
        "id": "YH6dSOMX5qAQ"
      },
      "source": [
        "# Linear Algebra for ECE\n",
        "## Laboratory 6 : Matrix Operations"
      ]
    },
    {
      "cell_type": "markdown",
      "metadata": {
        "id": "jYeiRZm35qAU"
      },
      "source": [
        "Now that you have a fundamental knowledge about representing and operating with vectors as well as the fundamentals of matrices, we'll try to the same operations with matrices and even more."
      ]
    },
    {
      "cell_type": "markdown",
      "metadata": {
        "id": "BInKdhlu5qAV"
      },
      "source": [
        "### Objectives\n",
        "At the end of this activity you will be able to:\n",
        "1. Be familiar with the fundamental matrix operations.\n",
        "2. Apply the operations to solve intermediate equations.\n",
        "3. Apply matrix algebra in engineering solutions."
      ]
    },
    {
      "cell_type": "markdown",
      "metadata": {
        "id": "Fz9EI_8Z5qAV"
      },
      "source": [
        "## Discussion"
      ]
    },
    {
      "cell_type": "code",
      "metadata": {
        "id": "S6r8UaPu5qAW"
      },
      "source": [
        "import numpy as np\n",
        "import matplotlib.pyplot as plt\n",
        "%matplotlib inline"
      ],
      "execution_count": null,
      "outputs": []
    },
    {
      "cell_type": "markdown",
      "metadata": {
        "id": "ORllWzOl5qAX"
      },
      "source": [
        "## Transposition"
      ]
    },
    {
      "cell_type": "markdown",
      "metadata": {
        "id": "4LtZTUbY5qAY"
      },
      "source": [
        "One of the fundamental operations in matrix algebra is Transposition. The transpose of a matrix is done by flipping the values of its elements over its diagonals. With this, the rows and columns from the original matrix will be switched. So for a matrix $A$ its transpose is denoted as $A^T$. So for example:"
      ]
    },
    {
      "cell_type": "markdown",
      "metadata": {
        "id": "HZeNXvo-5qAY"
      },
      "source": [
        "$$A = \\begin{bmatrix} 1 & 2 & 5\\\\5 & -1 &0 \\\\ 0 & -3 & 3\\end{bmatrix} $$"
      ]
    },
    {
      "cell_type": "markdown",
      "metadata": {
        "id": "tgGXC4Uz5qAZ"
      },
      "source": [
        "$$ A^T = \\begin{bmatrix} 1 & 5 & 0\\\\2 & -1 &-3 \\\\ 5 & 0 & 3\\end{bmatrix}$$"
      ]
    },
    {
      "cell_type": "markdown",
      "metadata": {
        "id": "JMVtzwZG5qAZ"
      },
      "source": [
        "This can now be achieved programmatically by using `np.transpose()` or using the `T` method."
      ]
    },
    {
      "cell_type": "code",
      "metadata": {
        "colab": {
          "base_uri": "https://localhost:8080/"
        },
        "id": "7cIxacBV5qAa",
        "outputId": "699c7fc4-067b-4101-f9f4-8e3a8cf6a25c"
      },
      "source": [
        "A = np.array([\n",
        "    [1 ,2, 5],\n",
        "    [5, -1, 0],\n",
        "    [0, -3, 3]\n",
        "])\n",
        "A"
      ],
      "execution_count": null,
      "outputs": [
        {
          "output_type": "execute_result",
          "data": {
            "text/plain": [
              "array([[ 1,  2,  5],\n",
              "       [ 5, -1,  0],\n",
              "       [ 0, -3,  3]])"
            ]
          },
          "metadata": {},
          "execution_count": 3
        }
      ]
    },
    {
      "cell_type": "code",
      "metadata": {
        "colab": {
          "base_uri": "https://localhost:8080/"
        },
        "id": "AhW8-DMO5qAb",
        "outputId": "b3a2a68c-e3e7-449e-c9ef-7f5add3df54d"
      },
      "source": [
        "AT1 = np.transpose(A)\n",
        "AT1"
      ],
      "execution_count": null,
      "outputs": [
        {
          "output_type": "execute_result",
          "data": {
            "text/plain": [
              "array([[ 1,  5,  0],\n",
              "       [ 2, -1, -3],\n",
              "       [ 5,  0,  3]])"
            ]
          },
          "metadata": {},
          "execution_count": 4
        }
      ]
    },
    {
      "cell_type": "code",
      "metadata": {
        "id": "eP1SHyCK5qAb",
        "colab": {
          "base_uri": "https://localhost:8080/"
        },
        "outputId": "ec982bff-eb56-476c-ea14-bc9ee2338a76"
      },
      "source": [
        "AT2 = A.T\n",
        "AT2"
      ],
      "execution_count": null,
      "outputs": [
        {
          "output_type": "execute_result",
          "data": {
            "text/plain": [
              "array([[ 1,  5,  0],\n",
              "       [ 2, -1, -3],\n",
              "       [ 5,  0,  3]])"
            ]
          },
          "metadata": {},
          "execution_count": 5
        }
      ]
    },
    {
      "cell_type": "code",
      "metadata": {
        "id": "sQzzt0hr5qAb",
        "colab": {
          "base_uri": "https://localhost:8080/"
        },
        "outputId": "7ac2bbab-14a8-4d45-8819-104a931ea921"
      },
      "source": [
        "np.array_equiv(AT1, AT2)"
      ],
      "execution_count": null,
      "outputs": [
        {
          "output_type": "execute_result",
          "data": {
            "text/plain": [
              "True"
            ]
          },
          "metadata": {},
          "execution_count": 6
        }
      ]
    },
    {
      "cell_type": "code",
      "metadata": {
        "id": "Z2piL7OG5qAb",
        "colab": {
          "base_uri": "https://localhost:8080/"
        },
        "outputId": "a0f7bb32-b8ff-48dc-ae4e-b0e4ce0c85a3"
      },
      "source": [
        "B = np.array([\n",
        "    [1,2,3,4],\n",
        "    [1,0,2,1],\n",
        "])\n",
        "B.shape"
      ],
      "execution_count": null,
      "outputs": [
        {
          "output_type": "execute_result",
          "data": {
            "text/plain": [
              "(2, 4)"
            ]
          },
          "metadata": {},
          "execution_count": 7
        }
      ]
    },
    {
      "cell_type": "code",
      "metadata": {
        "id": "AJ99IXpz5qAc",
        "colab": {
          "base_uri": "https://localhost:8080/"
        },
        "outputId": "0a66e782-5657-4669-f463-7c16da83cff6"
      },
      "source": [
        "np.transpose(B).shape"
      ],
      "execution_count": null,
      "outputs": [
        {
          "output_type": "execute_result",
          "data": {
            "text/plain": [
              "(4, 2)"
            ]
          },
          "metadata": {},
          "execution_count": 8
        }
      ]
    },
    {
      "cell_type": "code",
      "metadata": {
        "id": "lZCQUI7M5qAc",
        "colab": {
          "base_uri": "https://localhost:8080/"
        },
        "outputId": "50743e58-8c2a-4804-8f5c-bac04456cd53"
      },
      "source": [
        "B.T.shape"
      ],
      "execution_count": null,
      "outputs": [
        {
          "output_type": "execute_result",
          "data": {
            "text/plain": [
              "(4, 2)"
            ]
          },
          "metadata": {},
          "execution_count": 9
        }
      ]
    },
    {
      "cell_type": "markdown",
      "metadata": {
        "id": "-GmVMkBk5qAc"
      },
      "source": [
        "#### Try to create your own matrix (you can try non-squares) to test transposition."
      ]
    },
    {
      "cell_type": "code",
      "metadata": {
        "id": "agJQTy6E5qAc",
        "colab": {
          "base_uri": "https://localhost:8080/"
        },
        "outputId": "6aed1db7-a756-4ce9-b5a4-6caa6048c139"
      },
      "source": [
        "## Try out your code here.\n",
        "Z=np.array([\n",
        "    [3,6,9],\n",
        "    [1,0,1]        \n",
        "])\n",
        "Z.shape"
      ],
      "execution_count": null,
      "outputs": [
        {
          "output_type": "execute_result",
          "data": {
            "text/plain": [
              "(2, 3)"
            ]
          },
          "metadata": {},
          "execution_count": 10
        }
      ]
    },
    {
      "cell_type": "code",
      "metadata": {
        "colab": {
          "base_uri": "https://localhost:8080/"
        },
        "id": "m6NkJ8GlLjXS",
        "outputId": "bb3da015-a04c-45d2-df80-2bdead718333"
      },
      "source": [
        "np.transpose(Z).shape"
      ],
      "execution_count": null,
      "outputs": [
        {
          "output_type": "execute_result",
          "data": {
            "text/plain": [
              "(3, 2)"
            ]
          },
          "metadata": {},
          "execution_count": 11
        }
      ]
    },
    {
      "cell_type": "code",
      "metadata": {
        "colab": {
          "base_uri": "https://localhost:8080/"
        },
        "id": "jJsTKo-bLphu",
        "outputId": "1f9c35ba-a4dd-404a-e6eb-fae59cc56e55"
      },
      "source": [
        "Z.T.shape"
      ],
      "execution_count": null,
      "outputs": [
        {
          "output_type": "execute_result",
          "data": {
            "text/plain": [
              "(3, 2)"
            ]
          },
          "metadata": {},
          "execution_count": 12
        }
      ]
    },
    {
      "cell_type": "code",
      "metadata": {
        "colab": {
          "base_uri": "https://localhost:8080/"
        },
        "id": "Z3ZZVLBGLxeE",
        "outputId": "94823e0f-3238-4d63-d49c-aaf2b6333247"
      },
      "source": [
        "ZT = Z.T\n",
        "ZT"
      ],
      "execution_count": null,
      "outputs": [
        {
          "output_type": "execute_result",
          "data": {
            "text/plain": [
              "array([[3, 1],\n",
              "       [6, 0],\n",
              "       [9, 1]])"
            ]
          },
          "metadata": {},
          "execution_count": 13
        }
      ]
    },
    {
      "cell_type": "markdown",
      "metadata": {
        "id": "xkLTJ0fl5qAc"
      },
      "source": [
        "## Dot Product / Inner Product"
      ]
    },
    {
      "cell_type": "markdown",
      "metadata": {
        "id": "6kzi5rKI5qAd"
      },
      "source": [
        "If you recall the dot product from laboratory activity before, we will try to implement the same operation with matrices. In matrix dot product we are going to get the sum of products of the vectors by row-column pairs. So if we have two matrices $X$ and $Y$:\n",
        "\n",
        "$$X = \\begin{bmatrix}x_{(0,0)}&x_{(0,1)}\\\\ x_{(1,0)}&x_{(1,1)}\\end{bmatrix}, Y = \\begin{bmatrix}y_{(0,0)}&y_{(0,1)}\\\\ y_{(1,0)}&y_{(1,1)}\\end{bmatrix}$$\n",
        "\n",
        "The dot product will then be computed as:\n",
        "$$X \\cdot Y= \\begin{bmatrix} x_{(0,0)}*y_{(0,0)} + x_{(0,1)}*y_{(1,0)} & x_{(0,0)}*y_{(0,1)} + x_{(0,1)}*y_{(1,1)} \\\\  x_{(1,0)}*y_{(0,0)} + x_{(1,1)}*y_{(1,0)} & x_{(1,0)}*y_{(0,1)} + x_{(1,1)}*y_{(1,1)}\n",
        "\\end{bmatrix}$$\n",
        "\n",
        "So if we assign values to $X$ and $Y$:\n",
        "$$X = \\begin{bmatrix}1&2\\\\ 0&1\\end{bmatrix}, Y = \\begin{bmatrix}-1&0\\\\ 2&2\\end{bmatrix}$$"
      ]
    },
    {
      "cell_type": "markdown",
      "metadata": {
        "id": "JqxInb_P5qAd"
      },
      "source": [
        "$$X \\cdot Y= \\begin{bmatrix} 1*-1 + 2*2 & 1*0 + 2*2 \\\\  0*-1 + 1*2 & 0*0 + 1*2 \\end{bmatrix} = \\begin{bmatrix} 3 & 4 \\\\2 & 2 \\end{bmatrix}$$\n",
        "This could be achieved programmatically using `np.dot()`, `np.matmul()` or the `@` operator."
      ]
    },
    {
      "cell_type": "code",
      "metadata": {
        "id": "tcFdaGtG5qAd"
      },
      "source": [
        "X = np.array([\n",
        "    [1,2],\n",
        "    [0,1]\n",
        "])\n",
        "Y = np.array([\n",
        "    [-1,0],\n",
        "    [2,2]\n",
        "])"
      ],
      "execution_count": null,
      "outputs": []
    },
    {
      "cell_type": "code",
      "metadata": {
        "colab": {
          "base_uri": "https://localhost:8080/"
        },
        "id": "U-s-XqsqXYn1",
        "outputId": "e42c57e7-890a-459b-8b40-7d8a22c3bc97"
      },
      "source": [
        "np.array_equiv(X, Y)"
      ],
      "execution_count": null,
      "outputs": [
        {
          "output_type": "execute_result",
          "data": {
            "text/plain": [
              "False"
            ]
          },
          "metadata": {},
          "execution_count": 96
        }
      ]
    },
    {
      "cell_type": "code",
      "metadata": {
        "id": "RUczGxF85qAe",
        "colab": {
          "base_uri": "https://localhost:8080/"
        },
        "outputId": "12607b3d-4715-4654-d75f-3c4d76ee955a"
      },
      "source": [
        "np.dot(X,Y)"
      ],
      "execution_count": null,
      "outputs": [
        {
          "output_type": "execute_result",
          "data": {
            "text/plain": [
              "array([[3, 4],\n",
              "       [2, 2]])"
            ]
          },
          "metadata": {},
          "execution_count": 38
        }
      ]
    },
    {
      "cell_type": "code",
      "metadata": {
        "id": "q-mALRKb5qAe",
        "colab": {
          "base_uri": "https://localhost:8080/"
        },
        "outputId": "da910f6b-1fb2-4cfc-cce2-1e18e1616ea8"
      },
      "source": [
        "X.dot(Y)"
      ],
      "execution_count": null,
      "outputs": [
        {
          "output_type": "execute_result",
          "data": {
            "text/plain": [
              "array([[3, 4],\n",
              "       [2, 2]])"
            ]
          },
          "metadata": {},
          "execution_count": 39
        }
      ]
    },
    {
      "cell_type": "code",
      "metadata": {
        "id": "ZTuRvubF5qAe",
        "colab": {
          "base_uri": "https://localhost:8080/"
        },
        "outputId": "0351e289-836e-4889-da4a-efb1ab2a3e69"
      },
      "source": [
        "X @ Y"
      ],
      "execution_count": null,
      "outputs": [
        {
          "output_type": "execute_result",
          "data": {
            "text/plain": [
              "array([[3, 4],\n",
              "       [2, 2]])"
            ]
          },
          "metadata": {},
          "execution_count": 15
        }
      ]
    },
    {
      "cell_type": "code",
      "metadata": {
        "id": "kKqFUIuC5qAe",
        "colab": {
          "base_uri": "https://localhost:8080/"
        },
        "outputId": "7f65990d-eae3-4280-c07f-cc01dfb118ca"
      },
      "source": [
        "np.matmul(X,Y)"
      ],
      "execution_count": null,
      "outputs": [
        {
          "output_type": "execute_result",
          "data": {
            "text/plain": [
              "array([[3, 4],\n",
              "       [2, 2]])"
            ]
          },
          "metadata": {},
          "execution_count": 41
        }
      ]
    },
    {
      "cell_type": "code",
      "metadata": {
        "id": "Ty1dji7QOBUZ"
      },
      "source": [
        "D = np.array([\n",
        "    [3,2,2],\n",
        "    [3,1,3],\n",
        "    [5,3,2]\n",
        "])\n",
        "E = np.array([\n",
        "    [-2,0,5],\n",
        "    [2,4,6],\n",
        "    [7,4,3]\n",
        "])"
      ],
      "execution_count": null,
      "outputs": []
    },
    {
      "cell_type": "code",
      "metadata": {
        "colab": {
          "base_uri": "https://localhost:8080/"
        },
        "id": "hx-ww5y9OHKU",
        "outputId": "112a23ac-e232-464e-e609-aac89a184bc3"
      },
      "source": [
        "D @ E"
      ],
      "execution_count": null,
      "outputs": [
        {
          "output_type": "execute_result",
          "data": {
            "text/plain": [
              "array([[12, 16, 33],\n",
              "       [17, 16, 30],\n",
              "       [10, 20, 49]])"
            ]
          },
          "metadata": {},
          "execution_count": 45
        }
      ]
    },
    {
      "cell_type": "code",
      "metadata": {
        "colab": {
          "base_uri": "https://localhost:8080/"
        },
        "id": "Z0gcf6UIOKMR",
        "outputId": "8778ed1c-def3-4f75-d73c-81e19581cb8c"
      },
      "source": [
        "D.dot(E)"
      ],
      "execution_count": null,
      "outputs": [
        {
          "output_type": "execute_result",
          "data": {
            "text/plain": [
              "array([[12, 16, 33],\n",
              "       [17, 16, 30],\n",
              "       [10, 20, 49]])"
            ]
          },
          "metadata": {},
          "execution_count": 46
        }
      ]
    },
    {
      "cell_type": "code",
      "metadata": {
        "colab": {
          "base_uri": "https://localhost:8080/"
        },
        "id": "nklBm-huOM2S",
        "outputId": "c392127c-ad42-43b8-9e9b-ac0b3e805b2d"
      },
      "source": [
        "np.matmul(D, E)"
      ],
      "execution_count": null,
      "outputs": [
        {
          "output_type": "execute_result",
          "data": {
            "text/plain": [
              "array([[12, 16, 33],\n",
              "       [17, 16, 30],\n",
              "       [10, 20, 49]])"
            ]
          },
          "metadata": {},
          "execution_count": 17
        }
      ]
    },
    {
      "cell_type": "code",
      "metadata": {
        "colab": {
          "base_uri": "https://localhost:8080/"
        },
        "id": "lvjJit8FOQtr",
        "outputId": "fc6fb9e2-e874-4d1b-82db-fc0d0c043637"
      },
      "source": [
        "np.dot(D, E)"
      ],
      "execution_count": null,
      "outputs": [
        {
          "output_type": "execute_result",
          "data": {
            "text/plain": [
              "array([[12, 16, 33],\n",
              "       [17, 16, 30],\n",
              "       [10, 20, 49]])"
            ]
          },
          "metadata": {},
          "execution_count": 48
        }
      ]
    },
    {
      "cell_type": "markdown",
      "metadata": {
        "id": "tmcO-1oc5qAf"
      },
      "source": [
        "In matrix dot products there are additional rules compared with vector dot products. Since vector dot products were just in one dimension there are less restrictions. Since now we are dealing with Rank 2 vectors we need to consider some rules:\n",
        "\n",
        "### Rule 1: The inner dimensions of the two matrices in question must be the same. \n",
        "\n",
        "So given a matrix $A$ with a shape of $(a,b)$ where $a$ and $b$ are any integers. If we want to do a dot product between $A$ and another matrix $B$, then matrix $B$ should have a shape of $(b,c)$ where $b$ and $c$ are any integers. So for given the following matrices:\n",
        "\n",
        "$$A = \\begin{bmatrix}2&4\\\\5&-2\\\\0&1\\end{bmatrix}, B = \\begin{bmatrix}1&1\\\\3&3\\\\-1&-2\\end{bmatrix}, C = \\begin{bmatrix}0&1&1\\\\1&1&2\\end{bmatrix}$$\n",
        "\n",
        "So in this case $A$ has a shape of $(3,2)$, $B$ has a shape of $(3,2)$ and $C$ has a shape of $(2,3)$. So the only matrix pairs that is eligible to perform dot product is matrices $A \\cdot C$, or $B \\cdot C$.  "
      ]
    },
    {
      "cell_type": "code",
      "metadata": {
        "colab": {
          "base_uri": "https://localhost:8080/"
        },
        "id": "BHg0ldDB5qAf",
        "outputId": "ede0a7ff-0c7a-4502-dc3f-2363d5069913"
      },
      "source": [
        "A = np.array([\n",
        "    [2, 4],\n",
        "    [5, -2],\n",
        "    [0, 1]\n",
        "])\n",
        "B = np.array([\n",
        "    [1,1],\n",
        "    [3,3],\n",
        "    [-1,-2]\n",
        "])\n",
        "C = np.array([\n",
        "    [0,1,1],\n",
        "    [1,1,2]\n",
        "])\n",
        "print(A.shape)\n",
        "print(B.shape)\n",
        "print(C.shape)"
      ],
      "execution_count": null,
      "outputs": [
        {
          "output_type": "stream",
          "name": "stdout",
          "text": [
            "(3, 2)\n",
            "(3, 2)\n",
            "(2, 3)\n"
          ]
        }
      ]
    },
    {
      "cell_type": "code",
      "metadata": {
        "colab": {
          "base_uri": "https://localhost:8080/"
        },
        "id": "v5A58bku5qAg",
        "outputId": "cc8febd0-b164-42a9-a2ad-24326843ad9d"
      },
      "source": [
        "A @ C"
      ],
      "execution_count": null,
      "outputs": [
        {
          "output_type": "execute_result",
          "data": {
            "text/plain": [
              "array([[ 4,  6, 10],\n",
              "       [-2,  3,  1],\n",
              "       [ 1,  1,  2]])"
            ]
          },
          "metadata": {},
          "execution_count": 50
        }
      ]
    },
    {
      "cell_type": "code",
      "metadata": {
        "id": "XpFBfYcr5qAg",
        "colab": {
          "base_uri": "https://localhost:8080/"
        },
        "outputId": "29e617ad-807f-4642-90ce-a5d5784f597d"
      },
      "source": [
        "B @ C"
      ],
      "execution_count": null,
      "outputs": [
        {
          "output_type": "execute_result",
          "data": {
            "text/plain": [
              "array([[ 1,  2,  3],\n",
              "       [ 3,  6,  9],\n",
              "       [-2, -3, -5]])"
            ]
          },
          "metadata": {},
          "execution_count": 51
        }
      ]
    },
    {
      "cell_type": "code",
      "metadata": {
        "colab": {
          "base_uri": "https://localhost:8080/",
          "height": 166
        },
        "id": "dQNPPUjLPt57",
        "outputId": "4ed6628b-f76d-44da-9738-e58664a0b956"
      },
      "source": [
        ""
      ],
      "execution_count": null,
      "outputs": [
        {
          "output_type": "error",
          "ename": "ValueError",
          "evalue": "ignored",
          "traceback": [
            "\u001b[0;31m---------------------------------------------------------------------------\u001b[0m",
            "\u001b[0;31mValueError\u001b[0m                                Traceback (most recent call last)",
            "\u001b[0;32m<ipython-input-55-455d622f3b50>\u001b[0m in \u001b[0;36m<module>\u001b[0;34m()\u001b[0m\n\u001b[0;32m----> 1\u001b[0;31m \u001b[0mA\u001b[0m \u001b[0;34m@\u001b[0m \u001b[0mB\u001b[0m\u001b[0;34m\u001b[0m\u001b[0;34m\u001b[0m\u001b[0m\n\u001b[0m",
            "\u001b[0;31mValueError\u001b[0m: matmul: Input operand 1 has a mismatch in its core dimension 0, with gufunc signature (n?,k),(k,m?)->(n?,m?) (size 3 is different from 2)"
          ]
        }
      ]
    },
    {
      "cell_type": "markdown",
      "metadata": {
        "id": "xrKDcZQu5qAg"
      },
      "source": [
        "If you would notice the shape of the dot product changed and its shape is not the same as any of the matrices we used. The shape of a dot product is actually derived from the shapes of the matrices used. So recall matrix $A$ with a shape of $(a,b)$ and matrix $B$ with a shape of $(b,c)$, $A \\cdot B$ should have a shape $(a,c)$."
      ]
    },
    {
      "cell_type": "code",
      "metadata": {
        "colab": {
          "base_uri": "https://localhost:8080/"
        },
        "id": "GV5OX8Yq5qAg",
        "outputId": "1eb576c1-29ae-4b3c-f198-4a255912b113"
      },
      "source": [
        "A @ B.T"
      ],
      "execution_count": null,
      "outputs": [
        {
          "output_type": "execute_result",
          "data": {
            "text/plain": [
              "array([[  6,  18, -10],\n",
              "       [  3,   9,  -1],\n",
              "       [  1,   3,  -2]])"
            ]
          },
          "metadata": {},
          "execution_count": 52
        }
      ]
    },
    {
      "cell_type": "code",
      "metadata": {
        "colab": {
          "base_uri": "https://localhost:8080/"
        },
        "id": "3lB2SJC45qAi",
        "outputId": "a74ff89a-9c67-4735-fb4a-942ad28683c1"
      },
      "source": [
        "X = np.array([\n",
        "    [1,2,3,0]\n",
        "])\n",
        "Y = np.array([\n",
        "    [1,0,4,-1]\n",
        "])\n",
        "print(X.shape)\n",
        "print(Y.shape)"
      ],
      "execution_count": null,
      "outputs": [
        {
          "output_type": "stream",
          "name": "stdout",
          "text": [
            "(1, 4)\n",
            "(1, 4)\n"
          ]
        }
      ]
    },
    {
      "cell_type": "code",
      "metadata": {
        "colab": {
          "base_uri": "https://localhost:8080/"
        },
        "id": "6wmNHDiG5qAi",
        "outputId": "20ec60c8-d78f-4649-e11b-9fb2173321bf"
      },
      "source": [
        "Y.T @ X"
      ],
      "execution_count": null,
      "outputs": [
        {
          "output_type": "execute_result",
          "data": {
            "text/plain": [
              "array([[ 1,  2,  3,  0],\n",
              "       [ 0,  0,  0,  0],\n",
              "       [ 4,  8, 12,  0],\n",
              "       [-1, -2, -3,  0]])"
            ]
          },
          "metadata": {},
          "execution_count": 54
        }
      ]
    },
    {
      "cell_type": "code",
      "metadata": {
        "colab": {
          "base_uri": "https://localhost:8080/"
        },
        "id": "56reEXdeRXjl",
        "outputId": "6f5ca1ed-c962-453d-bbff-35793bd47dae"
      },
      "source": [
        "X @ Y.T"
      ],
      "execution_count": null,
      "outputs": [
        {
          "output_type": "execute_result",
          "data": {
            "text/plain": [
              "array([[13]])"
            ]
          },
          "metadata": {},
          "execution_count": 57
        }
      ]
    },
    {
      "cell_type": "markdown",
      "metadata": {
        "id": "eeaqcqWN5qAi"
      },
      "source": [
        "And youcan see that when you try to multiply A and B, it returns `ValueError` pertaining to matrix shape mismatch."
      ]
    },
    {
      "cell_type": "markdown",
      "metadata": {
        "id": "4LuGMTDV5qAi"
      },
      "source": [
        "### Rule 2: Dot Product has special properties\n",
        "\n",
        "Dot products are prevalent in matrix algebra, this implies that it has several unique properties and it should be considered when formulation solutions:\n",
        " 1. $A \\cdot B \\neq B \\cdot A$\n",
        " 2. $A \\cdot (B \\cdot C) = (A \\cdot B) \\cdot C$\n",
        " 3. $A\\cdot(B+C) = A\\cdot B + A\\cdot C$\n",
        " 4. $(B+C)\\cdot A = B\\cdot A + C\\cdot A$\n",
        " 5. $A\\cdot I = A$\n",
        " 6. $A\\cdot \\emptyset = \\emptyset$ "
      ]
    },
    {
      "cell_type": "markdown",
      "metadata": {
        "id": "1Q88K3zL5qAi"
      },
      "source": [
        "I'll be doing just one of the properties and I'll leave the rest to test your skills!"
      ]
    },
    {
      "cell_type": "code",
      "metadata": {
        "id": "NIuJS5DD5qAj"
      },
      "source": [
        "A = np.array([\n",
        "    [3,2,1],\n",
        "    [4,5,1],\n",
        "    [1,1,1]\n",
        "])\n",
        "B = np.array([\n",
        "    [4,1,6],\n",
        "    [4,1,9],\n",
        "    [1,4,8]\n",
        "])\n",
        "C = np.array([\n",
        "    [1,1,0],\n",
        "    [0,1,1],\n",
        "    [1,0,1]\n",
        "])"
      ],
      "execution_count": null,
      "outputs": []
    },
    {
      "cell_type": "code",
      "metadata": {
        "colab": {
          "base_uri": "https://localhost:8080/"
        },
        "id": "rMKQRQiGXqIO",
        "outputId": "fde723f7-e4d7-4a73-d659-4d8ca9db9c09"
      },
      "source": [
        "np.eye(3)"
      ],
      "execution_count": null,
      "outputs": [
        {
          "output_type": "execute_result",
          "data": {
            "text/plain": [
              "array([[1., 0., 0.],\n",
              "       [0., 1., 0.],\n",
              "       [0., 0., 1.]])"
            ]
          },
          "metadata": {},
          "execution_count": 100
        }
      ]
    },
    {
      "cell_type": "code",
      "metadata": {
        "colab": {
          "base_uri": "https://localhost:8080/"
        },
        "id": "C-jC2s9zX5lr",
        "outputId": "24556f43-5fcd-4742-a7ff-36602cb5430f"
      },
      "source": [
        "A.dot(np.eye(3))"
      ],
      "execution_count": null,
      "outputs": [
        {
          "output_type": "execute_result",
          "data": {
            "text/plain": [
              "array([[3., 2., 1.],\n",
              "       [4., 5., 1.],\n",
              "       [1., 1., 1.]])"
            ]
          },
          "metadata": {},
          "execution_count": 103
        }
      ]
    },
    {
      "cell_type": "code",
      "metadata": {
        "colab": {
          "base_uri": "https://localhost:8080/"
        },
        "id": "odT_OJP3TZ4w",
        "outputId": "589db491-580d-4440-a54c-d0e1b1dc9fbb"
      },
      "source": [
        "np.array_equal(A@B, B@A)"
      ],
      "execution_count": null,
      "outputs": [
        {
          "output_type": "execute_result",
          "data": {
            "text/plain": [
              "False"
            ]
          },
          "metadata": {},
          "execution_count": 86
        }
      ]
    },
    {
      "cell_type": "code",
      "metadata": {
        "colab": {
          "base_uri": "https://localhost:8080/"
        },
        "id": "tiDdHhxcWgVM",
        "outputId": "3b323de1-49c7-4a88-c2e6-60f91653707e"
      },
      "source": [
        "E = A @ (B @ C)\n",
        "E"
      ],
      "execution_count": null,
      "outputs": [
        {
          "output_type": "execute_result",
          "data": {
            "text/plain": [
              "array([[ 65,  30,  53],\n",
              "       [114,  50,  90],\n",
              "       [ 23,  10,  17]])"
            ]
          },
          "metadata": {},
          "execution_count": 88
        }
      ]
    },
    {
      "cell_type": "code",
      "metadata": {
        "colab": {
          "base_uri": "https://localhost:8080/"
        },
        "id": "ExZZG4eZWpAl",
        "outputId": "32438411-1db7-4aac-cd79-0895beb9cdfc"
      },
      "source": [
        "F = (A @ B) @ C\n",
        "F"
      ],
      "execution_count": null,
      "outputs": [
        {
          "output_type": "execute_result",
          "data": {
            "text/plain": [
              "array([[ 65,  30,  53],\n",
              "       [114,  50,  90],\n",
              "       [ 23,  10,  17]])"
            ]
          },
          "metadata": {},
          "execution_count": 90
        }
      ]
    },
    {
      "cell_type": "code",
      "metadata": {
        "colab": {
          "base_uri": "https://localhost:8080/"
        },
        "id": "UfXEP6q-W5yL",
        "outputId": "526d3969-aa58-493c-bc72-b22ed534a55d"
      },
      "source": [
        "np.array_equal(E, X)"
      ],
      "execution_count": null,
      "outputs": [
        {
          "output_type": "execute_result",
          "data": {
            "text/plain": [
              "False"
            ]
          },
          "metadata": {},
          "execution_count": 94
        }
      ]
    },
    {
      "cell_type": "code",
      "metadata": {
        "colab": {
          "base_uri": "https://localhost:8080/"
        },
        "id": "FJnDxAlTWud1",
        "outputId": "63606e68-17b8-4c00-f1f4-7b912ac54c2a"
      },
      "source": [
        "np.array_equiv(E, F)"
      ],
      "execution_count": null,
      "outputs": [
        {
          "output_type": "execute_result",
          "data": {
            "text/plain": [
              "True"
            ]
          },
          "metadata": {},
          "execution_count": 91
        }
      ]
    },
    {
      "cell_type": "code",
      "metadata": {
        "id": "SFOQkxtHWuVg"
      },
      "source": [
        ""
      ],
      "execution_count": null,
      "outputs": []
    },
    {
      "cell_type": "code",
      "metadata": {
        "colab": {
          "base_uri": "https://localhost:8080/",
          "height": 286
        },
        "id": "HUwRJACI5qAj",
        "outputId": "df588e99-a2ee-4399-98aa-96bd402197e1"
      },
      "source": [
        "np.eye(A)"
      ],
      "execution_count": null,
      "outputs": [
        {
          "output_type": "error",
          "ename": "TypeError",
          "evalue": "ignored",
          "traceback": [
            "\u001b[0;31m---------------------------------------------------------------------------\u001b[0m",
            "\u001b[0;31mTypeError\u001b[0m                                 Traceback (most recent call last)",
            "\u001b[0;32m<ipython-input-68-13ff6dcd75e1>\u001b[0m in \u001b[0;36m<module>\u001b[0;34m()\u001b[0m\n\u001b[0;32m----> 1\u001b[0;31m \u001b[0mnp\u001b[0m\u001b[0;34m.\u001b[0m\u001b[0meye\u001b[0m\u001b[0;34m(\u001b[0m\u001b[0mA\u001b[0m\u001b[0;34m)\u001b[0m\u001b[0;34m\u001b[0m\u001b[0;34m\u001b[0m\u001b[0m\n\u001b[0m",
            "\u001b[0;32m/usr/local/lib/python3.7/dist-packages/numpy/lib/twodim_base.py\u001b[0m in \u001b[0;36meye\u001b[0;34m(N, M, k, dtype, order)\u001b[0m\n\u001b[1;32m    197\u001b[0m     \u001b[0;32mif\u001b[0m \u001b[0mM\u001b[0m \u001b[0;32mis\u001b[0m \u001b[0;32mNone\u001b[0m\u001b[0;34m:\u001b[0m\u001b[0;34m\u001b[0m\u001b[0;34m\u001b[0m\u001b[0m\n\u001b[1;32m    198\u001b[0m         \u001b[0mM\u001b[0m \u001b[0;34m=\u001b[0m \u001b[0mN\u001b[0m\u001b[0;34m\u001b[0m\u001b[0;34m\u001b[0m\u001b[0m\n\u001b[0;32m--> 199\u001b[0;31m     \u001b[0mm\u001b[0m \u001b[0;34m=\u001b[0m \u001b[0mzeros\u001b[0m\u001b[0;34m(\u001b[0m\u001b[0;34m(\u001b[0m\u001b[0mN\u001b[0m\u001b[0;34m,\u001b[0m \u001b[0mM\u001b[0m\u001b[0;34m)\u001b[0m\u001b[0;34m,\u001b[0m \u001b[0mdtype\u001b[0m\u001b[0;34m=\u001b[0m\u001b[0mdtype\u001b[0m\u001b[0;34m,\u001b[0m \u001b[0morder\u001b[0m\u001b[0;34m=\u001b[0m\u001b[0morder\u001b[0m\u001b[0;34m)\u001b[0m\u001b[0;34m\u001b[0m\u001b[0;34m\u001b[0m\u001b[0m\n\u001b[0m\u001b[1;32m    200\u001b[0m     \u001b[0;32mif\u001b[0m \u001b[0mk\u001b[0m \u001b[0;34m>=\u001b[0m \u001b[0mM\u001b[0m\u001b[0;34m:\u001b[0m\u001b[0;34m\u001b[0m\u001b[0;34m\u001b[0m\u001b[0m\n\u001b[1;32m    201\u001b[0m         \u001b[0;32mreturn\u001b[0m \u001b[0mm\u001b[0m\u001b[0;34m\u001b[0m\u001b[0;34m\u001b[0m\u001b[0m\n",
            "\u001b[0;31mTypeError\u001b[0m: only integer scalar arrays can be converted to a scalar index"
          ]
        }
      ]
    },
    {
      "cell_type": "code",
      "metadata": {
        "colab": {
          "base_uri": "https://localhost:8080/"
        },
        "id": "R2xJmFlUVlbb",
        "outputId": "6f752294-82a5-4b7d-c197-2f5124f15470"
      },
      "source": [
        "A @ E"
      ],
      "execution_count": null,
      "outputs": [
        {
          "output_type": "execute_result",
          "data": {
            "text/plain": [
              "array([[ 6.,  6.,  6.],\n",
              "       [10., 10., 10.],\n",
              "       [ 2.,  2.,  2.]])"
            ]
          },
          "metadata": {},
          "execution_count": 80
        }
      ]
    },
    {
      "cell_type": "code",
      "metadata": {
        "colab": {
          "base_uri": "https://localhost:8080/"
        },
        "id": "UhgjprXt5qAj",
        "outputId": "8adfed06-5f69-4342-acdf-1643a7cfd785"
      },
      "source": [
        "z_mat = np.zeros(A.shape)\n",
        "z_mat"
      ],
      "execution_count": null,
      "outputs": [
        {
          "output_type": "execute_result",
          "data": {
            "text/plain": [
              "array([[0., 0., 0.],\n",
              "       [0., 0., 0.],\n",
              "       [0., 0., 0.]])"
            ]
          },
          "metadata": {},
          "execution_count": 66
        }
      ]
    },
    {
      "cell_type": "code",
      "metadata": {
        "colab": {
          "base_uri": "https://localhost:8080/"
        },
        "id": "Y88CuKNy5qAj",
        "outputId": "f2a12818-a6b5-481c-a637-3a3cb2bb9507"
      },
      "source": [
        "a_dot_z = A.dot(np.zeros(A.shape))\n",
        "a_dot_z"
      ],
      "execution_count": null,
      "outputs": [
        {
          "output_type": "execute_result",
          "data": {
            "text/plain": [
              "array([[0., 0., 0.],\n",
              "       [0., 0., 0.],\n",
              "       [0., 0., 0.]])"
            ]
          },
          "metadata": {},
          "execution_count": 67
        }
      ]
    },
    {
      "cell_type": "code",
      "metadata": {
        "colab": {
          "base_uri": "https://localhost:8080/"
        },
        "id": "7gLbl0xi5qAj",
        "outputId": "59b3cd6e-5dfe-44d0-ad26-72b5eaf2f42f"
      },
      "source": [
        "np.array_equal(a_dot_z,z_mat)"
      ],
      "execution_count": null,
      "outputs": [
        {
          "output_type": "execute_result",
          "data": {
            "text/plain": [
              "True"
            ]
          },
          "metadata": {},
          "execution_count": 68
        }
      ]
    },
    {
      "cell_type": "code",
      "metadata": {
        "colab": {
          "base_uri": "https://localhost:8080/"
        },
        "id": "O-BVE7BT5qAj",
        "outputId": "e49d248f-9a48-4534-a501-88029154f355"
      },
      "source": [
        "null_mat = np.empty(A.shape, dtype=float)\n",
        "null = np.array(null_mat,dtype=float)\n",
        "print(null)\n",
        "np.allclose(a_dot_z,null)"
      ],
      "execution_count": null,
      "outputs": [
        {
          "output_type": "stream",
          "name": "stdout",
          "text": [
            "[[0. 0. 0.]\n",
            " [0. 0. 0.]\n",
            " [0. 0. 0.]]\n"
          ]
        },
        {
          "output_type": "execute_result",
          "data": {
            "text/plain": [
              "True"
            ]
          },
          "metadata": {},
          "execution_count": 69
        }
      ]
    },
    {
      "cell_type": "markdown",
      "metadata": {
        "id": "meSNX76X5qAk"
      },
      "source": [
        "## Determinant"
      ]
    },
    {
      "cell_type": "markdown",
      "metadata": {
        "id": "usidzlzW5qAk"
      },
      "source": [
        "A determinant is a scalar value derived from a square matrix. The determinant is a fundamental and important value used in matrix algebra. Although it will not be evident in this laboratory on how it can be used practically, but it will be reatly used in future lessons.\n",
        "\n",
        "The determinant of some matrix $A$ is denoted as $det(A)$ or $|A|$. So let's say $A$ is represented as:\n",
        "$$A = \\begin{bmatrix}a_{(0,0)}&a_{(0,1)}\\\\a_{(1,0)}&a_{(1,1)}\\end{bmatrix}$$\n",
        "We can compute for the determinant as:\n",
        "$$|A| = a_{(0,0)}*a_{(1,1)} - a_{(1,0)}*a_{(0,1)}$$\n",
        "So if we have $A$ as:\n",
        "$$A = \\begin{bmatrix}1&4\\\\0&3\\end{bmatrix}, |A| = 3$$\n",
        "\n",
        "But you might wonder how about square matrices beyond the shape $(2,2)$? We can approach this problem by using several methods such as co-factor expansion and the minors method. This can be taught in the lecture of the laboratory but we can achieve the strenuous computation of high-dimensional matrices programmatically using Python. We can achieve this by using `np.linalg.det()`."
      ]
    },
    {
      "cell_type": "code",
      "metadata": {
        "id": "UXIlruLY5qAk",
        "outputId": "f4b9c46e-cbe4-410f-d65e-683d058f5bef"
      },
      "source": [
        "A = np.array([\n",
        "    [1,4],\n",
        "    [0,3]\n",
        "])\n",
        "np.linalg.det(A)"
      ],
      "execution_count": null,
      "outputs": [
        {
          "data": {
            "text/plain": [
              "3.0000000000000004"
            ]
          },
          "execution_count": 67,
          "metadata": {},
          "output_type": "execute_result"
        }
      ]
    },
    {
      "cell_type": "code",
      "metadata": {
        "colab": {
          "base_uri": "https://localhost:8080/"
        },
        "id": "sRPD8UryYoTd",
        "outputId": "cf3cb069-8070-4718-88e4-2a1f7151f2e9"
      },
      "source": [
        "B = np.array([\n",
        "              [1, 5, 2],\n",
        "              [3, -1 ,-1],\n",
        "              [0, -2, 1]\n",
        "])\n",
        "np.linalg.det(B)"
      ],
      "execution_count": null,
      "outputs": [
        {
          "output_type": "execute_result",
          "data": {
            "text/plain": [
              "-30.000000000000014"
            ]
          },
          "metadata": {},
          "execution_count": 105
        }
      ]
    },
    {
      "cell_type": "code",
      "metadata": {
        "id": "-H6sOqcu5qAk",
        "colab": {
          "base_uri": "https://localhost:8080/"
        },
        "outputId": "78543fb3-f394-4c87-ad6e-9b92e81896c5"
      },
      "source": [
        "## Now other mathematics classes would require you to solve this by hand, \n",
        "## and that is great for practicing your memorization and coordination skills \n",
        "## but in this class we aim for simplicity and speed so we'll use programming\n",
        "## but it's completely fine if you want to try to solve this one by hand.\n",
        "B = np.array([\n",
        "    [1,3,5,6],\n",
        "    [0,3,1,3],\n",
        "    [3,1,8,2],\n",
        "    [5,2,6,8]\n",
        "])\n",
        "np.linalg.det(B)"
      ],
      "execution_count": null,
      "outputs": [
        {
          "output_type": "execute_result",
          "data": {
            "text/plain": [
              "-235.0000000000002"
            ]
          },
          "metadata": {},
          "execution_count": 107
        }
      ]
    },
    {
      "cell_type": "markdown",
      "metadata": {
        "id": "YgnCzR5i5qAk"
      },
      "source": [
        "## Inverse"
      ]
    },
    {
      "cell_type": "markdown",
      "metadata": {
        "id": "NyZt93mR5qAk"
      },
      "source": [
        "The inverse of a matrix is another fundamental operation in matrix algebra. Determining the inverse of a matrix let us determine if its solvability and its characteristic as a system of linear equation — we'll expand on this in the nect module. Another use of the inverse matrix is solving the problem of divisibility between matrices. Although element-wise division exists but dividing the entire concept of matrices does not exists. Inverse matrices provides a related operation that could have the same concept of \"dividing\" matrices.\n",
        "\n",
        "Now to determine the inverse of a matrix we need to perform several steps. So let's say we have a matrix $M$:\n",
        "$$M = \\begin{bmatrix}1&7\\\\-3&5\\end{bmatrix}$$\n",
        "First, we need to get the determinant of $M$.\n",
        "$$|M| = (1)(5)-(-3)(7) = 26$$\n",
        "Next, we need to reform the matrix into the inverse form:\n",
        "$$M^{-1} = \\frac{1}{|M|} \\begin{bmatrix} m_{(1,1)} & -m_{(0,1)} \\\\ -m_{(1,0)} & m_{(0,0)}\\end{bmatrix}$$\n",
        "So that will be:\n",
        "$$M^{-1} = \\frac{1}{26} \\begin{bmatrix} 5 & -7 \\\\ 3 & 1\\end{bmatrix} = \\begin{bmatrix} \\frac{5}{26} & \\frac{-7}{26} \\\\ \\frac{3}{26} & \\frac{1}{26}\\end{bmatrix}$$\n",
        "For higher-dimension matrices you might need to use co-factors, minors, adjugates, and other reduction techinques. To solve this programmatially we can use `np.linalg.inv()`."
      ]
    },
    {
      "cell_type": "code",
      "metadata": {
        "id": "6o_tzKcx5qAl",
        "colab": {
          "base_uri": "https://localhost:8080/"
        },
        "outputId": "1157c9ac-f908-411a-c22d-b3f1af983296"
      },
      "source": [
        "M = np.array([\n",
        "    [1,7],\n",
        "    [-3, 5]\n",
        "])\n",
        "\n",
        "np.array(M @ np.linalg.inv(M), dtype=int)"
      ],
      "execution_count": null,
      "outputs": [
        {
          "output_type": "execute_result",
          "data": {
            "text/plain": [
              "array([[1, 0],\n",
              "       [0, 1]])"
            ]
          },
          "metadata": {},
          "execution_count": 109
        }
      ]
    },
    {
      "cell_type": "code",
      "metadata": {
        "colab": {
          "base_uri": "https://localhost:8080/"
        },
        "id": "crpht7JFZ1gU",
        "outputId": "ea4b9538-1799-4332-a426-80f1cda82152"
      },
      "source": [
        "P = np.array([\n",
        "              [6, 9, 0],\n",
        "              [4, 2, -1],\n",
        "              [3, 6, 7]\n",
        "])\n",
        "Q = np.linalg.inv(P)\n",
        "Q"
      ],
      "execution_count": null,
      "outputs": [
        {
          "output_type": "execute_result",
          "data": {
            "text/plain": [
              "array([[-0.12578616,  0.39622642,  0.05660377],\n",
              "       [ 0.19496855, -0.26415094, -0.03773585],\n",
              "       [-0.11320755,  0.05660377,  0.1509434 ]])"
            ]
          },
          "metadata": {},
          "execution_count": 117
        }
      ]
    },
    {
      "cell_type": "code",
      "metadata": {
        "colab": {
          "base_uri": "https://localhost:8080/"
        },
        "id": "5hMKCRpzaIf0",
        "outputId": "a5707502-7e4a-466d-d0f4-5263887a0f6f"
      },
      "source": [
        "P @ Q"
      ],
      "execution_count": null,
      "outputs": [
        {
          "output_type": "execute_result",
          "data": {
            "text/plain": [
              "array([[ 1.00000000e+00, -5.55111512e-17, -6.93889390e-18],\n",
              "       [ 8.32667268e-17,  1.00000000e+00, -2.77555756e-17],\n",
              "       [ 2.77555756e-17, -1.38777878e-17,  1.00000000e+00]])"
            ]
          },
          "metadata": {},
          "execution_count": 122
        }
      ]
    },
    {
      "cell_type": "code",
      "metadata": {
        "id": "67IPZoJM5qAl",
        "colab": {
          "base_uri": "https://localhost:8080/"
        },
        "outputId": "48813cf0-53e3-4508-9ed5-a65b282502a1"
      },
      "source": [
        "## And now let's test your skills in solving a matrix with high dimensions:\n",
        "N = np.array([\n",
        "    [18,5,23,1,0,33,5],\n",
        "    [0,45,0,11,2,4,2],\n",
        "    [5,9,20,0,0,0,3],\n",
        "    [1,6,4,4,8,43,1],\n",
        "    [8,6,8,7,1,6,1],\n",
        "    [-5,15,2,0,0,6,-30],\n",
        "    [-2,-5,1,2,1,20,12],\n",
        "])\n",
        "N_inv = np.linalg.inv(N)\n",
        "np.array(N @ N_inv,dtype=int)"
      ],
      "execution_count": null,
      "outputs": [
        {
          "output_type": "execute_result",
          "data": {
            "text/plain": [
              "array([[0, 0, 0, 0, 0, 0, 0],\n",
              "       [0, 0, 0, 0, 0, 0, 0],\n",
              "       [0, 0, 1, 0, 0, 0, 0],\n",
              "       [0, 0, 0, 1, 0, 0, 0],\n",
              "       [0, 0, 0, 0, 0, 0, 0],\n",
              "       [0, 0, 0, 0, 0, 0, 0],\n",
              "       [0, 0, 0, 0, 0, 0, 1]])"
            ]
          },
          "metadata": {},
          "execution_count": 124
        }
      ]
    },
    {
      "cell_type": "markdown",
      "metadata": {
        "id": "v3tMlBTN5qAl"
      },
      "source": [
        "To validate the wether if the matric that you have solved is really the inverse, we follow this dot product property for a matrix $M$:\n",
        "$$M\\cdot M^{-1} = I$$"
      ]
    },
    {
      "cell_type": "code",
      "metadata": {
        "id": "UPMGu4cQ5qAm",
        "colab": {
          "base_uri": "https://localhost:8080/"
        },
        "outputId": "7b9baeda-2e47-4203-c20f-79fe6b434f62"
      },
      "source": [
        "squad = np.array([\n",
        "    [1.0, 1.0, 0.5],\n",
        "    [0.7, 0.7, 0.9],\n",
        "    [0.3, 0.3, 1.0]\n",
        "])\n",
        "weights = np.array([\n",
        "    [0.2, 0.2, 0.6]\n",
        "])\n",
        "p_grade = squad @ weights.T\n",
        "p_grade\n"
      ],
      "execution_count": null,
      "outputs": [
        {
          "output_type": "execute_result",
          "data": {
            "text/plain": [
              "array([[0.7 ],\n",
              "       [0.82],\n",
              "       [0.72]])"
            ]
          },
          "metadata": {},
          "execution_count": 125
        }
      ]
    },
    {
      "cell_type": "markdown",
      "metadata": {
        "id": "hlP1zGsC5qAm"
      },
      "source": [
        "## Activity"
      ]
    },
    {
      "cell_type": "markdown",
      "metadata": {
        "id": "HpB1u3t05qAm"
      },
      "source": [
        "### Task 1"
      ]
    },
    {
      "cell_type": "markdown",
      "metadata": {
        "id": "RHhAZ_IM5qAm"
      },
      "source": [
        "Prove and implement the remaining 6 matrix multiplication properties. You may create your own matrices in which their shapes should not be lower than $(3,3)$.\n",
        "In your methodology, create individual flowcharts for each property and discuss the property you would then present your proofs or validity of your implementation in the results section by comparing your result to present functions from NumPy."
      ]
    },
    {
      "cell_type": "code",
      "metadata": {
        "id": "S0RNScmO5qAn",
        "colab": {
          "base_uri": "https://localhost:8080/"
        },
        "outputId": "b5812ea6-6e7a-4f1a-a44d-77f0bd1379d8"
      },
      "source": [
        "np.array([])"
      ],
      "execution_count": null,
      "outputs": [
        {
          "output_type": "execute_result",
          "data": {
            "text/plain": [
              "array([], dtype=float64)"
            ]
          },
          "metadata": {},
          "execution_count": 18
        }
      ]
    },
    {
      "cell_type": "markdown",
      "metadata": {
        "id": "bw5-r4w00TJq"
      },
      "source": [
        "TRANSPOSITION\n"
      ]
    },
    {
      "cell_type": "code",
      "metadata": {
        "id": "RLPgIfWf5qAn",
        "colab": {
          "base_uri": "https://localhost:8080/"
        },
        "outputId": "fd85bed9-c0af-411f-f988-46d8f6ad3452"
      },
      "source": [
        "J1 = np.array([\n",
        "    [6 ,2, 3],\n",
        "    [2, -1, 0],\n",
        "    [1, 4, 6]\n",
        "])\n",
        "J1"
      ],
      "execution_count": null,
      "outputs": [
        {
          "output_type": "execute_result",
          "data": {
            "text/plain": [
              "array([[ 6,  2,  3],\n",
              "       [ 2, -1,  0],\n",
              "       [ 1,  4,  6]])"
            ]
          },
          "metadata": {},
          "execution_count": 19
        }
      ]
    },
    {
      "cell_type": "code",
      "metadata": {
        "colab": {
          "base_uri": "https://localhost:8080/"
        },
        "id": "BfLGm-zR2J0C",
        "outputId": "d9f00090-511b-4a33-c150-b27b0b3d3aed"
      },
      "source": [
        "AT1 = np.transpose(J1)\n",
        "AT1"
      ],
      "execution_count": null,
      "outputs": [
        {
          "output_type": "execute_result",
          "data": {
            "text/plain": [
              "array([[ 6,  2,  1],\n",
              "       [ 2, -1,  4],\n",
              "       [ 3,  0,  6]])"
            ]
          },
          "metadata": {},
          "execution_count": 20
        }
      ]
    },
    {
      "cell_type": "code",
      "metadata": {
        "colab": {
          "base_uri": "https://localhost:8080/"
        },
        "id": "Hvs-rlXK2KNG",
        "outputId": "b6eea7f7-2aa0-4604-8fe9-4ff1ea25e120"
      },
      "source": [
        "AT2 = J1.T\n",
        "AT2"
      ],
      "execution_count": null,
      "outputs": [
        {
          "output_type": "execute_result",
          "data": {
            "text/plain": [
              "array([[ 6,  2,  1],\n",
              "       [ 2, -1,  4],\n",
              "       [ 3,  0,  6]])"
            ]
          },
          "metadata": {},
          "execution_count": 22
        }
      ]
    },
    {
      "cell_type": "code",
      "metadata": {
        "colab": {
          "base_uri": "https://localhost:8080/"
        },
        "id": "YQig9GPj2nzt",
        "outputId": "02bbbadd-6797-404b-c210-1436c81d389b"
      },
      "source": [
        "np.array_equiv(AT1, AT2)"
      ],
      "execution_count": null,
      "outputs": [
        {
          "output_type": "execute_result",
          "data": {
            "text/plain": [
              "True"
            ]
          },
          "metadata": {},
          "execution_count": 23
        }
      ]
    },
    {
      "cell_type": "code",
      "metadata": {
        "colab": {
          "base_uri": "https://localhost:8080/"
        },
        "id": "H1HW9yhJ3Dmq",
        "outputId": "8f8290dc-2590-45e8-b431-e105db7ea1cb"
      },
      "source": [
        "J1.shape"
      ],
      "execution_count": null,
      "outputs": [
        {
          "output_type": "execute_result",
          "data": {
            "text/plain": [
              "(3, 3)"
            ]
          },
          "metadata": {},
          "execution_count": 24
        }
      ]
    },
    {
      "cell_type": "code",
      "metadata": {
        "id": "MbEUgX265qAn",
        "colab": {
          "base_uri": "https://localhost:8080/"
        },
        "outputId": "963bfca1-6e51-4867-959a-b91613322d7b"
      },
      "source": [
        "J2 = np.array([\n",
        "    [4,1,2],\n",
        "    [6,1,2],\n",
        "    [8,3,2]\n",
        "])\n",
        "J3 = np.array([\n",
        "    [-1,3,-5],\n",
        "    [3,2,3],\n",
        "    [1,1,3]\n",
        "])\n",
        "J2 @ J3"
      ],
      "execution_count": null,
      "outputs": [
        {
          "output_type": "execute_result",
          "data": {
            "text/plain": [
              "array([[  1,  16, -11],\n",
              "       [ -1,  22, -21],\n",
              "       [  3,  32, -25]])"
            ]
          },
          "metadata": {},
          "execution_count": 30
        }
      ]
    },
    {
      "cell_type": "code",
      "metadata": {
        "colab": {
          "base_uri": "https://localhost:8080/"
        },
        "id": "Mn2iZPGZ4xlx",
        "outputId": "0981111a-9a07-4265-834a-466414080f13"
      },
      "source": [
        "np.dot(J2,J3)"
      ],
      "execution_count": null,
      "outputs": [
        {
          "output_type": "execute_result",
          "data": {
            "text/plain": [
              "array([[  1,  16, -11],\n",
              "       [ -1,  22, -21],\n",
              "       [  3,  32, -25]])"
            ]
          },
          "metadata": {},
          "execution_count": 31
        }
      ]
    },
    {
      "cell_type": "code",
      "metadata": {
        "colab": {
          "base_uri": "https://localhost:8080/"
        },
        "id": "v9PjWiZn4dsB",
        "outputId": "11bd2484-fc17-4ae1-a10e-a6cd071b0464"
      },
      "source": [
        "J2.dot(J3)"
      ],
      "execution_count": null,
      "outputs": [
        {
          "output_type": "execute_result",
          "data": {
            "text/plain": [
              "array([[  1,  16, -11],\n",
              "       [ -1,  22, -21],\n",
              "       [  3,  32, -25]])"
            ]
          },
          "metadata": {},
          "execution_count": 32
        }
      ]
    },
    {
      "cell_type": "code",
      "metadata": {
        "id": "q1MRaCin5qAn",
        "colab": {
          "base_uri": "https://localhost:8080/"
        },
        "outputId": "c86bd48f-9ba0-4564-88d3-0a027ecea02f"
      },
      "source": [
        "#1\n",
        "A1 = J1@J2\n",
        "A1"
      ],
      "execution_count": null,
      "outputs": [
        {
          "output_type": "execute_result",
          "data": {
            "text/plain": [
              "array([[60, 17, 22],\n",
              "       [ 2,  1,  2],\n",
              "       [76, 23, 22]])"
            ]
          },
          "metadata": {},
          "execution_count": 39
        }
      ]
    },
    {
      "cell_type": "code",
      "metadata": {
        "colab": {
          "base_uri": "https://localhost:8080/"
        },
        "id": "PqeSq84gLEgM",
        "outputId": "1770509f-4d8f-4aef-ae16-c86a14af8200"
      },
      "source": [
        "B1 = J2@J1\n",
        "B1"
      ],
      "execution_count": null,
      "outputs": [
        {
          "output_type": "execute_result",
          "data": {
            "text/plain": [
              "array([[28, 15, 24],\n",
              "       [40, 19, 30],\n",
              "       [56, 21, 36]])"
            ]
          },
          "metadata": {},
          "execution_count": 40
        }
      ]
    },
    {
      "cell_type": "code",
      "metadata": {
        "colab": {
          "base_uri": "https://localhost:8080/"
        },
        "id": "QSsXPDatLRzs",
        "outputId": "682cf4e9-6a43-404e-e9ed-5f5564df469f"
      },
      "source": [
        "np.array_equal(A1,B1)"
      ],
      "execution_count": null,
      "outputs": [
        {
          "output_type": "execute_result",
          "data": {
            "text/plain": [
              "False"
            ]
          },
          "metadata": {},
          "execution_count": 45
        }
      ]
    },
    {
      "cell_type": "markdown",
      "metadata": {
        "id": "A1Revy2_TkVq"
      },
      "source": [
        "![image.png](data:image/png;base64,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)"
      ]
    },
    {
      "cell_type": "code",
      "metadata": {
        "colab": {
          "base_uri": "https://localhost:8080/"
        },
        "id": "RHbRBTMILVEE",
        "outputId": "3fa164c7-2262-4ea4-c0ab-6ef349059efb"
      },
      "source": [
        "#2\n",
        "A2 = J1 @ (J2 @ J3)\n",
        "A2"
      ],
      "execution_count": null,
      "outputs": [
        {
          "output_type": "execute_result",
          "data": {
            "text/plain": [
              "array([[  13,  236, -183],\n",
              "       [   3,   10,   -1],\n",
              "       [  15,  296, -245]])"
            ]
          },
          "metadata": {},
          "execution_count": 42
        }
      ]
    },
    {
      "cell_type": "code",
      "metadata": {
        "colab": {
          "base_uri": "https://localhost:8080/"
        },
        "id": "C58TOOhlLiIc",
        "outputId": "5f5f4150-4abe-4627-ecf5-b49b67606c49"
      },
      "source": [
        "B2 = (J1 @ J2) @ J3\n",
        "B2"
      ],
      "execution_count": null,
      "outputs": [
        {
          "output_type": "execute_result",
          "data": {
            "text/plain": [
              "array([[  13,  236, -183],\n",
              "       [   3,   10,   -1],\n",
              "       [  15,  296, -245]])"
            ]
          },
          "metadata": {},
          "execution_count": 43
        }
      ]
    },
    {
      "cell_type": "code",
      "metadata": {
        "colab": {
          "base_uri": "https://localhost:8080/"
        },
        "id": "jQwpbpTrLmtc",
        "outputId": "50795e56-d6e4-4153-b548-b8129cc44af9"
      },
      "source": [
        "np.array_equal(A2,B2)"
      ],
      "execution_count": null,
      "outputs": [
        {
          "output_type": "execute_result",
          "data": {
            "text/plain": [
              "True"
            ]
          },
          "metadata": {},
          "execution_count": 44
        }
      ]
    },
    {
      "cell_type": "markdown",
      "metadata": {
        "id": "F0TpJoAXTuhl"
      },
      "source": [
        "![image.png](data:image/png;base64,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)"
      ]
    },
    {
      "cell_type": "code",
      "metadata": {
        "colab": {
          "base_uri": "https://localhost:8080/"
        },
        "id": "iSq3oameLsL8",
        "outputId": "4b525082-ef91-4d25-da35-bf8cd817d4a7"
      },
      "source": [
        "#3\n",
        "A3 = J1 @ (J2 + J3)\n",
        "A3"
      ],
      "execution_count": null,
      "outputs": [
        {
          "output_type": "execute_result",
          "data": {
            "text/plain": [
              "array([[ 63,  42,   7],\n",
              "       [ -3,   5, -11],\n",
              "       [ 93,  40,  47]])"
            ]
          },
          "metadata": {},
          "execution_count": 46
        }
      ]
    },
    {
      "cell_type": "code",
      "metadata": {
        "colab": {
          "base_uri": "https://localhost:8080/"
        },
        "id": "gx66_bfcL2QX",
        "outputId": "3f43a991-7d48-4221-ec37-f1bfdaf68604"
      },
      "source": [
        "B3 = J1 @ J2 + J1 @ J3\n",
        "B3"
      ],
      "execution_count": null,
      "outputs": [
        {
          "output_type": "execute_result",
          "data": {
            "text/plain": [
              "array([[ 63,  42,   7],\n",
              "       [ -3,   5, -11],\n",
              "       [ 93,  40,  47]])"
            ]
          },
          "metadata": {},
          "execution_count": 47
        }
      ]
    },
    {
      "cell_type": "code",
      "metadata": {
        "colab": {
          "base_uri": "https://localhost:8080/"
        },
        "id": "I0nwAW-OMLYc",
        "outputId": "026c379a-f752-457e-aca5-b63eeaa0480c"
      },
      "source": [
        "np.array_equal(A3,B3)"
      ],
      "execution_count": null,
      "outputs": [
        {
          "output_type": "execute_result",
          "data": {
            "text/plain": [
              "True"
            ]
          },
          "metadata": {},
          "execution_count": 48
        }
      ]
    },
    {
      "cell_type": "markdown",
      "metadata": {
        "id": "HKEzI01HVLSi"
      },
      "source": [
        "![image.png](data:image/png;base64,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)"
      ]
    },
    {
      "cell_type": "code",
      "metadata": {
        "colab": {
          "base_uri": "https://localhost:8080/"
        },
        "id": "JVGLkDd8MRY0",
        "outputId": "099ceec7-75e5-47cb-b9a1-6e8b663671eb"
      },
      "source": [
        "#4\n",
        "A4 = (J2 + J3) @ J1\n",
        "A4"
      ],
      "execution_count": null,
      "outputs": [
        {
          "output_type": "execute_result",
          "data": {
            "text/plain": [
              "array([[ 23, -10,  -9],\n",
              "       [ 65,  35,  57],\n",
              "       [ 67,  34,  57]])"
            ]
          },
          "metadata": {},
          "execution_count": 51
        }
      ]
    },
    {
      "cell_type": "code",
      "metadata": {
        "colab": {
          "base_uri": "https://localhost:8080/"
        },
        "id": "I66BMVxUMSA9",
        "outputId": "26f736f5-99fc-4f45-a789-0c393d1d3c23"
      },
      "source": [
        "B4 = J2 @ J1 + J3 @ J1\n",
        "B4"
      ],
      "execution_count": null,
      "outputs": [
        {
          "output_type": "execute_result",
          "data": {
            "text/plain": [
              "array([[ 23, -10,  -9],\n",
              "       [ 65,  35,  57],\n",
              "       [ 67,  34,  57]])"
            ]
          },
          "metadata": {},
          "execution_count": 50
        }
      ]
    },
    {
      "cell_type": "code",
      "metadata": {
        "colab": {
          "base_uri": "https://localhost:8080/"
        },
        "id": "b9Q2AuMVMSeE",
        "outputId": "c72aaf1c-e245-4ed8-a85b-1bf8ed248455"
      },
      "source": [
        "np.array_equal(A4,B4)"
      ],
      "execution_count": null,
      "outputs": [
        {
          "output_type": "execute_result",
          "data": {
            "text/plain": [
              "True"
            ]
          },
          "metadata": {},
          "execution_count": 52
        }
      ]
    },
    {
      "cell_type": "markdown",
      "metadata": {
        "id": "iGUseaonVpu6"
      },
      "source": [
        "![image.png](data:image/png;base64,iVBORw0KGgoAAAANSUhEUgAAAcAAAAKACAYAAAALlaiCAAAgAElEQVR4Aey9e5QdVZn3f/5xrXfNDMOsGQQF5WckgyQGFDG0XBIlkAhEaCWiA4KZZDSvr8FRwQvtBQUBHRwGFSUCueA4ICKiqJMwQBQdgYExGDAMTPp0d/qWK5ekO9CQBp7feurUrr2funef3XV21fmetWqd2nWq6uzz3d/9fOrZVXWqRjGv8fFx4int9fzzz6d97H22bdu21HWy9oF6SPmgB/SQCsgS/AE9pAKyBH9E9ajJRY0ShJKqQA/oIRWQJfgDekgFZAn+cFcPAJCIkIlKg0IP6CEVkCX4A3pIBWSpTP4AAAFA6V7oAT1w6kJ4AKdyhBxUJT0AQAR86W7oAT0AQOGBKgV8Ho5Ne2Vlb7xtlfQAABHwI/0hqxPgnIaUDHpAD6mALMEf7upR42AXnkZHR4mn8HKz/Mwzz6R+zusODg6mrpO1D9RDtg30gB5mHwzPwx/wR9gTZhn+iPoDGSAyQHl4Bj2gB4ZAhQeqNOSHIVDdtKwFAIiArx3hz/FRY9oLQzpSHegBPaQCsgR/uKsHAAgASndCD+iBDFB4ABmgkAMXwbAcWVkCrwPjVNc4fFSb9oI/pDrQA3pIBWQJ/miNHsgAc8AcQxjSnNADekgFZAn+gB5SAVlyyR8AIAAo3Qk9oAeGQIUHMJIl5KjUyB4AiIAv3Q09oAcAKDwAAAo5qgVAlY6a72NjY8STuSw8PzIykvo5rz88PJy6Dt+XEt6vWUY9Gk/lUJpAD+ihvBD3Dn/AH3G+UMvgj6g/akoc8x1CRYViTUyNwvM4IJCaQQ+px7M767R323/R7t6f0dP/cwPtfPhrtO13n6bhe/6Bhu76EA39+9nUc8d7vPehdefS8D1LadtvP0U7H76Unn58Be3u+Sk9veU3NLanP9GH6LdSc+gBPcJx2iyzPzAEiiE/Ob4BPZrSY99IH4303UE7//OzNPCzd1PPvx5G3asPpvqN06lvxdHU/63jaODrJ9LgJe+koS+eQsNdp9Hw599DWz93Jm39XKc3DX/+DG/50Bfne+sNXDmH+q85jvquO5p6Vh5O3atfS/UfvIEGfnoy7bjvU7Snfiu9uPt/AzBGfoCxAFcbGmLk8DqvjSFQqVmV9AAAc3QCddQgbSBLCCztqcfYU3+knQ9dQf23n0Ldaw6h3pVHUP+3j6fBL8+jrZ85i3Z8YintXL7M/nTBR2jbZ95Pg186mfqvOYF6b5xJ3WsOpi23zaVdD36Fnt/5X7JB/BJ8KmWBHu2tBwAIAMoeAD0y9HiFRnp+SsO/+gDV17yO+m44iga/cZIHuykB3QThue2i99PglSdT3/VHU33NITR455m058kf0ivjjX/3QcCXzQs92lsPABABX/YA6BGrx96BdTT0i/dR9+pDqP+7x9HwxafZz+omCLs8wOXh1f7vnOgNww7ecSo99cQtkd8XXlClIS4evUl7AYBSnXbTAwBEwJc9AHoEeow/v512/u7z1L3m9bTl+8fS8MWnlwJ6SWDkc4tbvvcOL3Pdvv4C2jfSE/xWcwYANNXAOUCpRrX0AAAR8MP+zvybu6qfE33hmT/R8K8+SPXVr6PBq06hHf+4pNTgiwDxgo/S0JXzqWfVG2nw5++h53fI84UAoOwS0KO6egCAAKB0dxvr8cIzm2jo553Us+pwGvpqubO9CPQShleHvriQele+mQZuPzm4cAYBX3YJ6FFdPWIfiMv3cPHE48FJU9bDbHm7Zh+Ii3pI/aHH1Ogx0PsnGvzlh6i+8o00fEk5zu3lBVze9Xh4t2flETTws04a2Pxfif2e+3VW34dPp8aniKdSVxt6IANs44xHHtfpEge5tFeVhkCffugq2rzqYBr6xqnVGuZMyPiygDj8tdNp88qDaefvvphogXbyB4uADFBaoUp6AIAAoHR3m+jBN473//gE6r/ueNrxiYqd45sk/Ew4DnznndR381E0tvPhtvSH+aOrFPBxVaxuWdYCAGyTgK+bHUe0z/zhW94FLsNfPgNZXwost36+k+qr30C7fv8V0z5tf5GUEAPxIyxHqfwBAMLApTbwRI9oh391Lm25/u3I+lLAZ2aCPN9/3Qk0eMdCeuXlfZ5XMAQquwz0KK8eACAAKN1bUT1eGttFW350LA1+6xRkfROAn4Lh0FWnUs8Pj6AX92wu1RH+RA+QIp0B5wAjklRpSBgArGjAj7jWWFAlA+cJcHy+r/6DacQXeKiAjveJ/z/p8JfOoPqa19Oz/b8x3BSd5TbJ0y7RLeWSdvOp/PXREvSQmtjQAwAEAKWrKqbHnq1/oPpNh9LWL3UCfpPI/MIHCls/2/g7uOcG1kd8oxYAgEqJxjv0cFcPALBiAT/rfARb0caRUxmO8F/c0+39jdnwxbjYJQyyZsr8h9v8R+DPb39QRja/hIAvZYEe7upR42AYnvhJ7jyFl5tlvgnRLMfN1+v11HWy9oF6yLaBHvn12Dq4mTavmUbDXz4TmZ+FzC8MTM4EN68+hIZ7Hor0cfg0v09V3MyKhbwe4qnU1YYeyACRAcrDs4ro0X/bXBq6sj3/1SUMq6kq820kvf92ZMQ/yHikJNDDXT0AwIoEfGUxDIESbb/3Ahq49l3I/KYg8wvDdPDqBTT8yw8o+3nvCPhCDu+CINYk7YV+K9UpSg8AEACUziu5HqO9v6LelTMAvwLgp2C45YZj6NlHbwh8BAAGUngz0MNdPQDAkgd8aS3KvEeL1+fzCWmvrKMvlzs03+7AF2mo4Iz3id/uMFHNtn/yfO+imJdefNazlcv+CPs+y+u8fpX7S7vrAQACgOE+kAlRVwPczt9+lga/dRLgV2D2p2A5+I0FtHXt+Z6XXPVHxOg5+j5vAwBK5aqkBwCYoxOgQ8sO4KIe/E8v3asPAfxaAD8FwZ5VhxE/U9FFf0gH6xIyQK0Fz7WbHgBgjkZHh5adxEU9tq+/gAb/aT4A2EIADn31NBr6xfsBQNldoIfDesQ+EHd0dJR44qOBpCnroZi8XbMPLEQ9pP7QI0GP5/ZS9+qDAb8Wwk9lgd2rXk+7d3YjfhixE/02od8aGoU5UxRfkAEiAwwdn2UPg7iWAe7edCMNfOdEANABAA5eNY92/OcXvawnYixjAQe8rFeVzjVxn0l7QQ+pTlF6AIAAoHReCfXo/8lc2vrZswBABwC4/VMf8p4agYCvu5VrB4y6ZtG5osDjij8AwBIG/Kht9ZJ2M/C+F3j487WAnwPwU8OgPSv/lsaerWtTxsy1m09dCfiohzYjawEAAoDaEf5cVnBi47jSkfb030VbrjsWAHQIgAPXzKWn/6RvjI8YLEef420wBCqVgx729QAAc3RGlwK+K+BxpR477v8iDX4Vf3umsi8X3oe6TqXhuxbLaBUqZR1k8eoI+FI06GFfDwAQAJSuKpkegz8/g7Z+Ds/6cwF8qg7bP30u9f3o7RFfmQsAQFON7AvPeG0AUGpmQw8AsGQB35XMy5V69N7yVtr+qfPcHgJdNJtqtVowLVyg6nserVgwEXhPdP2p/xs0Bb3we/dNr5PRKlQCAKUg0KM1etQ4kIWnsbEx4im83CyPjIykfs7r8nPBzG3C83x/THiZWUY9ZNtAj6ge3TcdSjsv+KjDAOykrtpsWhucozuPVkyfRisWL6Odi+fRwo4JAHCi6wffWTwI+cIksy+H5xE/pJehR2v0AADHx72bdsMd1CwDPNKcLunRvcb1vz8zgCeAxMsbWWEjI2RQhrPExrYLeb3pJ9I/ifWLh1o4y0srd696DQDoJxcu9ReuixnbwvPtBmIMgWIIVI49lEwPHmpLC8RufKZhx0OhwRComdEt6tRZIi+fPo82LQ/B01xfwNQ9GHIGmPbCkJ9UB3q0Rg8AsGQBn4/Y0l7t1pHq/zqddnxiaQkgqCG1tqNGXYuiQ6C8PDhXGADQGD4tEwDXHJxm07b702X0W20HlXXqJdG5ouIYAAgARtyXZT6XDLzltuNp24V/5y4Ag2xOA3DTgmkRAAbLOLMLtuEMsHwA5AOS+r8eFvGVuSDLY7yujav8AB6tukv91pV2AQABQN1D/Lms4ORSRxpedz4Nd53mLgAZaKGrQGvqwhcGHZ/347K5zvTZ1OWBLwaAan2Hh0C3fmYR9d9+csRX5oIsj/G6AKCpGPSQatjRAwAEAMO+yhyecgmAT228lgaumus2AB2G1VScIx38yjza/rvPRnxlLgAATTVwH6BUozg9AEAAMOy9UgHwuZ1/pL4bjwQAHYLslu8dS3v610Z8ZS4AAE01igv4rgw9ulIPABAAlD2xhHrU+UpQp+8F1Of/piLjcm2ffAXovhfHIr4yFwCAphoAoFSjOD1iH4jL94LwxCZNmop4YCHqIfWHHvF6DP7qPBr6yqnIAh3IArd+7kzqu+1kxA8jdqLfxvfbJLbw8qL4ggywhBlP+GjJLLN5sl5Vu7jg+e33U98NbwEAHQBg//feQc8+eYt3s3WaD9vRp9CjoYBL1xAAgABgpF9mBSeXDKzOJfTefCRtu+hsQLCFENzxj4upftPrg38aiRjLWJDlMV61agdqxs+PzEIPKUlRegCAAKB0Xkn12P34Guq/7h0AYAsBOPDtd9FTD14OAIZ6lIsHjKEqBsWiwKMOXIMvDs0UVQ8AsKQBP+SXoFiUcVwxsFmP3n97M/E9aK5dFNIO9eEncnD2xy8E/KA7Qg8phXN6AIAAYMSiWRB1NcCN9v6C+m48CgBsQRa4ZUUHPbvxOucCnHmAFDF6jr7P22AoVipXJT0AwBydwNWAL23ZKGXBq+odeujORTT0DVwRWmTWOfzV91D/bXMDO6K/BFJ4M9DDXT0AQABQurPkery8b8Qbitt20QeQCRaQCe745IepvvoQ2renHvgIAT+QwpuBHu7qAQCWPOBLaxV3Ayl36rRXKzNRHgrtWfW3AGABAOy78S307KPXCysg4As5cE5UyuGUHjUezw1P/CR3nsLLzfLg4GDq57xuvV5PXSdrH6iHbBvokV+P/rs/S73XHQMITiEE+649gfp+uTTSx+HT/D5VMTUrFiKeSk1t6YEMEBlg6PgsO4ssyxH+trv+gfq/OwcQnAIIDn7rFBr6+Xsj3uEFZfEH17WVIxWmeKiHqUZx7QIA5ugE6NDSnGXSY+Dn76eBa98JCFqE4MDVp9DA7fOlKYxSmfwB8BgNlyMW8tqcfaW9sjR1yR8AYI5Gd6nBuC5pryzz8bZVMnAePYZ/+XfUfx0yQRtXhg5++2Ta8pNk+LG/0F9kD4Ue7uoBAAKA0p0V1WP73R+jLTe8HZlgE5lg/3Un0PAvP5A5bIiAL7sU9HBXDwCwogFfWk6W2i0DVL/+qQevpJ5V0/GfoROEIP/LS+/KWbTzNxd5UmaNMiDgK8c13qGHu3oAgACgdGfF9djbt5bqNx1KQ1eehmwwBwiHv7KQ6mteR3v+54eBTwDAQApvBnqUVw8AsOIBX1qzUWrXDFBp8dILz9DgHafTluuPJX6CgY1zY5XbxwUfof7rTqT+H59I+0b7lHTeOwK+kANDwlKOUukR+0Dc0dFR4omNnjQV8cBC1EPqDz3s6rHz4W9R9+rX0cAV8wFBIxscuvQ06l51CG373Vdi+39W34dP7fpUxWC+V1DNx72jXaTuefRABogMMHT8ln0PTpXOabz0wtPU+9P3Ue+qI2j44ve0NQi3fvZ93p+J9/x4Pu0b3RLxhVrAwTftVSV/8O9s9xGTcFtXSQ8AEAAM+9s7yowsNBZUMcA9v+NB7w+d+244mrZ+rrOtQLjtM++nLd8/lvpueRvt7b8LAd/wOs9WKeBz3017ZR3cVE0PABAAjPSHrE5QRQAqEUa3/DttufU4LxMa7jq90iAc/tyZtOX6Y6jv5rfQyP/+SEmAgB8o0ZgBAKUgVdIDAAQApbuhh6fH89v/kwZ/tpDqq95AA18/mXb8499XA4YXfISGrlhAPasOp/7bT6K9A2sj7V+lAIeMRzdvlQ9c9a/Uc3kO5AFABHztGH8uj3HaJbDs2ztAW399oXfrBGdLw18u57MGh7pO9YY5u9e8jravX04v7n4y0u5qAQColGi8Q4/q6gEAAoDS3dAjUY/ntt5HW9d9mOo3vY76rj+aBi87hbZ/6kNOZobbP/lhGrpkPm1Z8XaqrzmEhn/1Ado7eFfm+V3+8Qj40gLQo7p6AIAI+NLd0COXHs/veIB23Hch9d58FNVXvZ76v/sOGvrKKbTtwg+2BIjbP30ODX15PvV/5ziqr5pGvT88grbf+3F6butvxO/Jyu55ZQR8IRn0kHJUSo+aGhc238fGxognc1l4fmRkJPVzXp+fCxbezizz/UJmOTyPeowLfaCHm3o8N7KTnun5OW2779O05cfHUfeag6ln5eG05dpjaeCKdxIPP2676Gza8YklTcFxxyeW0rYLP0DDF59Gg197J235zjuo98YjqHv1wdT3o9k0fM//o6e7f0Iv7N0ufGP2K/Rb6SHo0d56AIDj495N/2aQCM8DPLKTQI9sPcb2bKE9/eto14araPg/llLfbe+knh8e7sGxe9Vrqb5yGvXccAT1ff9I6rvurdT3vbfRXV1H0P/8y1sa5e8fSb03zKD6yjcSr89Q7f7BYbTlJ3NpeN2Hadd/X0l7+n5JY8/WA9ihXbLbJdy3AUCpWbvpgSFQDPmFBjja60b4Vg35vfTis97N5i88s4nGdv2B+D7EWTPeSLv61tPYrv+mF575E+0b6SO+UV+9soYvVXBX68e9Z+2Dt8EQqFQOelRXDwAQAJTuhh4t02PWrFm0d+/eyPerBVnwAgCVUo136AE9pAKyxP4AABHwpSugR8v0AACl9Mi8oIdUQJZs+AMARMCXroIeLdMDAJTS2whwfJSf9srKqnlb1EMqWCU9AEAEfOlu6NEyPQBAKX2VAi1ArNvWpaFpABABXzvTn8s6KnbJwFUKLACgtCIACD2kArJkwx8AIAAoXQU9WqYHACiltxHgqnSABD3s+yP2gbh8LwhPnAkkTVkPG+Ttmn2AI+oh9Yce1daDAbhr165J9zn4o9r+QDyV7WtDD2SAyHjkYRX0aJkeyACl9Mh4oIdUQJZs+AMARMCXroIeLdMDAJTS2whwGALVmuLcvdaC51gPABABX7oCerRMDwBQSg8AQg+pgCzZ8AcAiIAvXQU9WqYHACiltxHgkAFqTZEBai14Dhmgrwcu+5fGgB6t0QMAlLoDgNBDKiBLNvyBDBAZj3QV9GiZHgCglN5GgEMGqDVFBqi14DlkgL4eyHikMaBHa/QAAKXuACD0kArIkg1/IANExiNdBT1apgcAKKW3EeCQAWpNkQFqLXjOywDZZOGJn+TOU3i5WeabEM1y3Hy9Xk9dJ2sfqIdsG+hRbT1mzpxJPT09iX0G/UW2P/SAHnHcUcvy+AMZIDIeeVgEPVqmBzJAKT0HsrQXhuqlOtBj4noAgAj40jXQo2V6AIBSegAQekgFZMmGPwBABHzpKujRMj0AQCm9jQCHc4BaU5wD1FrwnHcOUC5qlCCUVAV6QA+pgCzZ8gcAKHUFAKGHVECWbPgDGSAyHukq6NEyPQBAKb2NAMcHJ2mvrPNmvC3qIRWskh4AIAK+dDf0aJkeAKCUvkqBFiDWbWtrxMSGPwBABHztTH8u66jYJQNXKbAAgNKKNgJclfwBPez7I/aBuKOjo8QTB8KkqYgH4qIeUn/oUW09GIDNPBAX/qi2P/i+tqR4zMuzYjL8EfUHMkBkgPKwCnq0TA9kgFJ6ZDzQQyogSzb8AQAi4EtXQY+W6QEASultBDgMgWpNcepCa8FzrAcAiIAvXQE9WqYHACilBwChh1RAlmz4AwBEwJeugh4t0wMAlNLbCHDIALWmyAC1FjyHDNDXg08gp71gHKkO9JgaPQBAqSsACD2kArJkwx/IAJHxSFdBj5bpAQBK6W0EOD5YS3tlHfzytqiHVLBKegCACPjS3dCjZXoAgFL6KgVagFi3rUsjSDVVGfN9bGyMeDKXhedHRkZSP+f1+fl14e3MMt+XYpbD86jHuNAHelRbDwbg7t27RZubfQL9RbY/9IAeZv8Iz+fxBwA4Pu7d9B8WzywDPLKjQY+p0QMAlLriABp6mHE4PG/DHxgCxZCfHpvw57LOiygjRjY0FmTtg1fFEJchGBFhCFTqAX9AD6mALNnwBwAIAEpXQY+W6QEASultBDg+WEt74UBNqtNuegCACPiyB0CPlukBAErpAUDoIRWQJRv+AAAR8KWroEfL9AAApfQ2AhwyQK0pTl1oLXiO9QAAEfClK6BHy/QAAKX0ACD0kArIkg1/AIAI+NJV0KNlegCAUnobAQ4ZoNYUGaDWgueQAfp6ZJ34hXGixkFg0ZrY8gcAqDXlOQAQekgFZMmGP2IfiMs3ufPEYEiash6+yNs1+wBH1EPqDz2qrQcDsJkH4sIf1fYH4qlsXxt6YAgUQ37ysAp6tEwPZIBSehtH+Bip0JraGqmoUrsAgAj4uof4cxgSlpJMpR7r1q2jDRs2eF+oAPjEE0/Q6tWrZSXgU+ixbVtEA3PBVPrU/B4AMEdnZMGqJBSOJHUXwJGk1oLnmtFj7ty5tP/++9PixYvp0EMPpaVLl3rlGTNmyC/J0eeaqYf5Zei3phqIY1KNaumBDBCBJexv77xvZKGxAIHWEKNJAD766KN00EEHUa1W88DH7wcccACtX79efgl8Cj2QAQoP2DhQAwARWISpuIChFCnJVOvBWR+DT03z58+XFfBLU10P9aU2AgsfJKW9sn4Lb4t6SAWhh309AEAEfOkq6FG4Hhs3bgyywKTsjyuVBQ1k5rLpoAf0kArIEvsDAERgka6AHi3RY8mSJV4GmJT9caUAQNk00AN6SAVkKY8/AEAEFuka6NESPTgL/Mu//Eu69957I9+vFuTp0Bh6VGo1d3GS3guGYk0teL5KQ7E1/jHhiR80yFN4uVnmmxDNctx8vV5PXSdrH6iHbBvoMTV6dN+5lHp/vihxqt9xVuJnvF3PzxpTM/vgbTff/t7U7ylVPe78YFN9n+MJ4of0O/SwrwcyQGQ84QO8thpqG3vqEeq+4Q00/Pn3YLKkwcAlc6j3liMjvjIXZGWzVcs0kJnr1nfp3CwACABqZ/pzWcHJJQM3G1ieeuRKGvjq8bRz+TJMljQYuPx42rXx6oivzAVZHuN1OQtMe2Xto0o+hR5RJ9jwBwAIAEac1U6BZcutx9K2i84G/CzBjw8kelfOpOd2PRbxlbkgy2O8ro0A1+wBEuphtlpjvkrtAgACgBGHZwWnqhxZ8/Bn341HAn4W4bf1M2fRlttO9P4dJ2IsY0GWx3jVKgVagFg3vkvxAwAEALUz/bms4OSSgZsJLN7w56UnAIAWAaiGP5tpF2VIAFAp0XiHHvb1AAABQOmqNtIDw5/2z3uq4U8AUHerqhwwql9UJRADgG0U8Kto4MkGWgx/2ocfD3/2/2ROU38OrjzK71UKtJP1KfQwFZDzNvwR+0Dc0dFR4omHwpKmIh6Ii3pI/aGHPT22P3QpDWD40+rwb//lx9OODVd5sQPxQ3sV/VZrwTxxSQ9kgMgA5WFVm+iB4U/7GSAPf77w7OPIAEM9CkOgUhCX9AAA2yTgmxa0MXRQ5iEdDH/ah58a/mSfuRTgyuxTs8/yfLv326nQAwAEAMO+qvw/weDqT/sA5Ks/n/nTNZ6XAEDZpaCHu3oAgACgdGcb6IHhT/sAVMOfbCYEfNmloIe7egCAbRDwpf3aeygFw5/24WcOfwKA4d6GA4KwIi4dEACAAGDYn5UeAsXwp30AmsOfAGCkOyEjDkkCAPqCtMs/jqj2x0lspUTjvRV6YPjTPgDN4U9uWZcCHNcl7ZUVg3jbVvg0rs6oh1TFhh41ZVbzfWxsjHgyl4XnR0ZGUj/n9fn5deHtzDLfD2KWw/Oox7jQB3o0p8fe7Q9TL/770+q9fzz8qf77U/Vf+LQ5nyodw++Ip1JXG3oAgOPj3o2ZYbOZZXRoabyy6rHzvy/Hze8W//eTn/xg/ven6jNl9Yeqf/jdRqBlTcL7NctIKGSMKUoPnAPEOUA5rlBhPTD8OfXDn2wmFdgjxjIWYOjRECNHn+O1bQz5cdukvdqtXQDAHOZDh5Zdpox64OpP+/Dj4U/+78/wq4z+CP8GswzwmGpUC8QAIAAo3V1RPXD1p30Ahq/+VEYCAJUSjXfo4a4eAGBFA760nCy14xEthj/tAzB89adyGQK+UqLxDj3c1QMABAClOyuoB4Y/7cMvafiTzYSAL7sU9HBXDwCwggFf2i1aarcMMP/wZyd1TZ9Hm2xdKbloHq1YbBE+CfvbtGAadS2y+D05fn/S8Ce7DQFf9jno4a4eACAAKN1ZQT1aNfy5tmOaVQDa3h/fxjDZKWn4EwCMdCccEIQkcemAIPaBuHwPBk98SWzSVMQDcVEPqT/0mLgeO3vvo94bZuUM9CoDPI9WTJ9GC6fXqFbjaTat9WDBn8+mLrVcZYuLZtPCBef53+HvY9Hs0LYKNnIfvN3aDv97Ojob+1g8jxZ639tY7mV3Yn+8j2mNdTo6SWeAXG9VZwXfuGXLaGewP/P3qTqmv2/9zFnU9+MTEmMDfDpxnyKeSs2K0gMZYAUzntABV6TYTkOgE3vyuw+v5Q1oqGFFBlRjvpO6agosyzxwKThFALicP9fr6kzL3AfPm/tugHbTok49DMug8sGo98fbKSgvCwDIIFTreoDz4Sjq5m+n95UOO11vvR4/+V09+ihiLgyBRiRxKePhuqS9cB8gDBzxBwwsJSmTHr23vJ22XXT2JDLAKGB2LleA9GGgMj/1HmSJjfOI8ZAx92GCjKGrvtPM2moB1PT+zH1IACpoK3AF2WWQUfpQFlmm+l4NObV93HvPyhnek9+lK3SpTP5ot4APAEqfIgNEBqgd4c9lBYWyBDi++jP/8CcHfwUWE0YaMN7nCRlgkPH3/zkAACAASURBVHkxWPyhUQ0sEyzqO/zvCzI5/Z1iu6QMUA2/Ltf14wwwyPb8etxnLks45ye2S1hHgXCrP/wZMY2xoCz+4CpneZ3XaacRk3bTAwDM0QnQoY3oVqIRgvxXfypAKThpGHHg1+fY+HPjHKA6Z8fgVBmWd+5QZYB8fi08DKq+IxmA3lCm2l8Hf194f+Y+zPqZmaP6XnOZPt8nM8P8GSBf/bljw1XSEKES+osUBHq4qwcACABKd1ZID/tXf0rwqKyond756s892x6JeMZcgIBvqoHbQqQabukBAFYo4LPR2m0Ig4Nt3Gtqbn5vbwDy8Cf/92eWxwBA6Ujo4a4eAGAOaMDA7ho4CYATH/5Uw6B4T8po1c3vAKDsD9CjvHoAgACgdG9F9LA//AkwqpvfEfBll4Ee5dWjxlc4hSd+ACRP4eVmeXBwMPVzXrder6euk7UP1EO2DfTIp8fQk3dT/fo357z1AWBLyvjM5Vs/cxbVb36H15/Rb6UPoUd59UAGWJGMRx2DZR2N8np8cJL2ytqH60PCGP60D3U1/Mm+Kbs/TO9n/RZet+r9pZ31AADRoU3/e/NZQcF1AGL40z4A1fAnG6Ts/jANn/VbeF0A0FSsWnoAgOjQ0t0l12Nqrv60DxRzeNH1eR7+NJ/8ngUN1w+QTMNn/RYA0FSrMV+lAwIAsOQBP2zPdu/QGP60D2tz+JP9luUxAFD2Sujhrh4AIDq0dGfJ9cDwp30AmsOfAGCku+CAICRJmQ6QAMCSB/yQ9zI7I69fpSEMPrpWLwx/2odfePiTtS5TgDP9oXxivmf9Fl63qv3F1EHNt5seACA6tPJ+8J7VCVwd0sHwp30Ahoc/2SRl9UdgcGMm67fwqgCgIVjF9Ih9IO7o6CjxxOZImop4YCHqIfWHHul6TOzRR/Zh4frFLJOpHz/6iP/704wDWX0fPk33qamlms/SlNfj+w3V+nHvWftAu0TbBRkgjmjl4V1J9cDwp32gxw1/slk4+Ka9XB0hiKtz1m/hbZABSuWqpAcAiA4t3V1SPTD8aR+AccOfbJYsaACAsktBD3f1AADRoaU7S6oHrv60D8Dw1Z/KKACgUqLxDj3KqwcAWNKALy2nS1mdkdes0hAGH11j+NM+/JKGP9k/WR5DxqP7I89BD3f1AADRoaU7S6gHhj/tAzBp+JPNAgDKLgM9yqsHAIgOLd1bQj0w/GkfgEnDnwBgpLvggCAkSZkOCADAEgb8kN9EMct8vHKVhkD3bn+Y+m48Eo8+Wm4PgmnDn+yfLI9hyE90SQyBSjmc0qOmzGq+j42NEU/msvD8yMhI6ue8Pj+/LrydWeb7UsxyeB71GBf6QI+oHtsfuowGLj0BALQIwP7Lj6ddG68W3jP7Jvqt9CH0KK8eAOD4uHfTv9nBw/MAjzS4S3r0/NtM6v3ekbTl2tnx03cSlhvr9377mPht1To59pH4/RPYx10Xz6T/uTqlLgXVY/MNh9Bzux4DAMcbvseBvOz/VdIDQ6AY0gkNUJRriGtk4B56bvjXidMzfesSP1PbDW66PXWdrH1wHWzUY9aMabSze21iXYqqB+uR9sIQqFQHepRXDwAQAJTuhR4t02PWrFm0d+/eyPerBQi0SonGO/SAHlIBWcrjDwAQAV+6Bnq0TA8AUEpfpYu1+LRK2isrWPO20EMqaEMPABABX7oKerRMDwBQSm8jwAE8WlN1bYNeEp1rNxADgAj4kV6Q1QnQkaRktvQAAKWuACD0kArIkg1/AIAAoHQV9GiZHgCglN5GgEMGqDW1daBWpXYBABHwdQ/x55ABSkmK0gMAlLpXKdACxLptXQJx7ANx+SZ3nrjjJ01ZD1/k7Zp9gCPqIfWHHtXWgwG4a9euSfc5+KPa/kA8le1rQw9kgMgA9aGZP1dUxoMjfCk9MkCpB/wBPaQCsmTDHwAgAChdBT1apgcAKKW3EeAw9Kg1dWno0ZV2AQAR8HUP8eeQAUpJitIDAJS6A4DQQyogSzb8AQACgNJV0KNlegCAUnobAc6VTAP10G3rUiYKACLga2f6c0VlPAhwUnoAUOoBf0APqYAs2fAHAAgASldBj5bpAQBK6W0EOGReWlOXMi9X2gUARMDXPcSfQwYoJSlKDwBQ6g4AQg+pgCzZ8AcACABKV0GPlukBAErpbQQ4VzIN1EO3rUuZaI1NFp74gYc8hZebZb4J0SzHzdfr9dR1svaBesi2gR7V1mPmzJnU09OT2GfQX2T7Qw/oEccdtSyPP5ABIuPRh2b+XFFDfmzUtFe71QMZoHQD/AE9pAKyZMMfACAAKF0FPVqmBwAopbcR4DD0qDV1aejRlXYBABHwdQ/x59ot83Il0AKA0oqutAvqUd12AQABQOlu6NEyPQBAKT3AAz2kArJkwx8AIAK+dBX0aJkeAKCU3kaAc2WoDfXQbevSUCwAiICvnenPYQhUSlKUHgCg1B0AhB5SAVmy4Q8AEACUroIeLdMDAJTS2whwyLy0pi5lXq60S+wDcUdHR4knPvJNmop4IC7qIfWHHtXWgwHYzANx4Y9q+4Pva0uKx7w8KybDH1F/IANExqMPEf057kxpLxxJSnVs6YEMUOqKDBB6SAVkyYY/AEAAULoKerRMDwBQSm8jwLky1IZ66La1dcBowx8AIAK+dqY/hwxQSlKUHgCg1N1GgAN4tKYugceVdgEAAUDdQ/y5ogI+ApyUHgCUesAf0EMqIEs2/AEAAoDSVdCjZXoAgFJ6GwHOlUwD9dBt61ImCgAi4Gtn+nPIAKUkRekBAErdAUDoIRWQJRv+AAABQOkq6NEyPQBAKb2NAIfMS2vqUublSrvUlCjm+9jYGPFkLgvPj4yMpH7O6/Pz68LbmWW+L8Ush+dRj3GhD/Soth4MwN27d4s2N/sE+otsf+gBPcz+EZ7P4w8AcHzcu+k/LJ5ZBnhkR4MeU6MHACh1xQE09DDjcHjehj8wBIohPz1G4s8Vdc4LQ1xE+/btC/Q3h0C3bt0aLFczaBelROMdekAPqYAs5fEHAAgAStdAj0L1WLBgAZ1xxhm0YcMGYgA+8sgj9KEPfYhmz57t/bWVWZk8HZqPktNeWfvgbXFgIhWEHtXVAwBEwJfuhh6F6nHTTTfR//k//4de85rXeO8HHHAAvepVr6JLL7200HqYX4aAb6qBAwKpRrX0AAAR8MP+9v5wN7LQWKDG4o1FkVlkGlKSND3e9KY3Ua1WC6YDDzwwkv3x3tL2wZ+jXaTm0AN6SAVkif0BACKwSFdAj8L14Cxwv/328wDI2eDll18eqQMvAAClLNADekgFZCmPPwBABBbpGujREj1UFvjqV7+ann766UgdeEGeDs1HtWmvrH3wthgClQpCj+rqAQAisEh3Q4+W6MFZ4J/92Z/R1772tcj3qwVZ8MKQn1Kq8Q49oIdUQJa8IVDuVOGJb3LnKbzcLGc9fJHXbfYBjqiHbBvoEdXj6YEHaPfwQ4nTzr7fJX6mtuv/n/9IXSdrH1wHG/X4yN+fRX2P35NYl6LqYUuP50Z2JcYQxA/pZejRGj2QASLjkYdFJdOje81rqPeGNyVP1x+e/Jm/Xf37f5u+TtY+rn8T9fKEejQ0uP5N1L3qQHp532jEW2oBHyBnvTD0KBWCHvb1AABLFvBxjkd3AtaCAbjjE0to5/JlmBzSAACUPkW/dVMPABAA1M7057KOzrkzu9KhAUA3wQ8A6m7lUn9xpd+6Ug8AEADUPRUARBZpKYsEAHW3AgC1Fjznkh4AIAAo3VkyPZABIgOMGNhf4FKgdSXjQT20W1gLALBkAR8GlgYGAAFA7Qg5x30F/UVrAj20FjzHegCAAKB0Rcn0AAABwIiB/QUI+FIZ6BHVAwAsWcBnE6e9si5g4W2rdDk1AAgAJvUHBHypDPSI6lHjYBie+EGDPIWXm2W+yd0sx83X6/XUdbL2gXrItoEeUT02rzoQt0FYunDF5q0km1e+mrYOJvf/rL7P8QTxQ/odetjXAxkgMkB5WFQyPZABIgOMGNhfgIxHKgM9onoAgCUL+GzitBeGQN0Egs3sqgz7wm0QupcCPFoLnnNJDwAQAJTuLJkeyADdBD4AqLuVSwEfB9CyXQDAkgV8GFgaGAAEALUj5BzAAz2kArLE/gAAAUDpipLpAQACgBED+wsAQKkM9IjqAQCWLOCzidNeOAfoJhDKcN7OZh0xBKp7KcCjteA5l/QAAAFA6c6S6YEM0E3gA4C6W7kU8HEALdulxhlDeBodHSWewsvNchEPcEQ9ZNtAj6ge3asPwn2ADt4H2L3y1dTqB+Kiv0T7C+K61oS1QAZYsowHR3DyCC6cAa7tqFGtNpvWGlDYtGBaZFlkuG/RPFqxOJpN8bZdi6LLI9sb37e2Y1poX+fRiunhZcY+F82mWo3rXUv4Lt6+RrXp82iT+J7oski9puR3+fVJqTMyQOlT9Fs39QAAAUDtTH+OM/20l0tDOlEATqOF002QNOCzcLqEYhgUUWgZgDKgE94uriz31UldHiiSAMj18+u2eB4t7OiMeSST+g3mPjqpazr/VgnFcH1kXSb/m3i/al98ULBwwXl+Pfn3RbUFAHUPcqm/AMSyXQBAAFA7wp8rOwBXLJhNNQUSDyrzNGSWKyA1Mi4vkAcZGAdyBZtGdnWfnwFyZqmCvpdRqv3HwFGBgqGxacG8YJ9xGaYHrOD7TcCZsGpAcoUJnkWzaeGCedSlAMi/08/Igkwy2C//Lh+YvE5HJ6nMdrK/S4PWALihBQCouxUAqLXgOZf0AAABQOnOkukRlwGuWMzBvpEZNQK9EaQXderhUYaGv56GVgOAClYKFEEGZMLVCPgaCDpT0svkPvVyhlwDyAs5mwuyKhN+PO/X38gQG/U1fueiTj08yuDzAa1/l8zU7P0uM9vW9QYAdbdyKeAjA5TtAgCWLODDwNLA8QBUwDmPVnQwCH2A+MBqnCdsZIDqvJoGhVzXBEUDVtHhPgm0iQFQf29ju66OaQG89H5VnRTEOqnLA5wGYAOS/m/yszzeXu/fXJczU/PcptqvBpj+br1M74uX8TZJGesyAgClT9Fv3dQDAAQAtTP9udIPgS5uBPiFHbOpy8uqFEBCgT8xA9SQ06DgfUyjFYt01mhCgqHauFjGX09cUBO3rAEWcwgyGSq6/t738O/yLszRUBNwSsoA1XCpNzSrADiJ3+UNt2qNTB3UPACouxUyQK0Fz7mkBwAIAEp3lkyP+AxwGe30grTKUDRAdgbnxfgc32zq8i9AaWSFvL6xbgAKXpZxDtD7Pj8Di5wf9CEjoKgyK86kVObG3x+XWRl18uqv4KMByKBWV5LWGJDB0C7v299vBICT+10NrVSd+V3VR/0mZIBmp3Ip4CMT1S3DWtRU45jvY2NjxJO5LDw/MjKS+jmvz8+vC29nlvk+DLMcnkc9xoU+0COqR/ca3Aeosi6X3jkDfHHsWeFfs38jfkgvQ4/W6AEAjo97N/2bnTM8D/BIc7qkBwCosy4A0F2fcp8JxxWzDADKtitKDwyBlmzIjztN2ivr/B1vy0/bTntl7UN13Gb2Yase4SFQlyDQznXBOUDdO1zqL4gfsl0AQABQO8KfAwDdzKrKBFQAUHcrAFBrwXMu6QEAAoDSnSXTAxmgm7AGAHW3cingIwOU7QIAlizgw8DSwEUCUF/9GL3qsZGdNa6qVPcWqozN2864AlMtN98b/xgThplx9WfCTffmPhrz5jZ+fbyrTNUVseHvmJoyACh9in7rph4AIAConenPYQg0Bgp8m4N/e4O+NzC8HgOH/5/ThA3fqpD1n50mtML7nGjZ2Jf3d2n+f3Ya9wZGoTnR78heHwDU3QoZoNaC51zSAwAEAKU7S6ZHSzLAxGyuAZ+J/mdncA+ft18fmN6/uZzq/4cp71fdaM//7qLvSYzCzACgmTUCgBGf84Ksgz1ep0oXjSET1TZgLQDAHJ3ApSMWGFgauDAAejegh7O7cCbkw8fIFhv/0GLcsB77n50mtMy/JTOXN+YFXE3ABfPmNlw/Lqub4cP1nboyMkDpU/RbN/WIfSAu34PBEx8dJU1FPBAX9ZD6Q4+oHsU8EFcDzPu7Mu8fZHRGprMwBR8Fsbz/2am2YyCZ32Uu9//dJjH7VDALbZMIRrX+1Ly78EBc9Jdof0Fc15qwFsgAkQHqQzN/LmtYyKWMuJgMMPT3ZJwNxoJIw4eHKbty/2en3i4ZgD5UY4cyeXt13lHB1/8/1OAJE3q5BvbUwI/3jwxQdyuX+gsyUdkuACAAqB0BAMY8jNaHhDcE6v//JcMvFoIGyLz11dWiOqsLzvd55/jUf3byduo/NfW6wWOQ/EcmqSfTx54DNOqnH6uk9tuot9oeANSWzzrY4zVxDlDrVTU9AEAAULq7ZHoUkwFOXaZUBIxa8R3IAHW3QgaoteA5l/QAAEsW8DGEoTsTawEAuglnAFD6FP3WTT0AQABQO9OfyxoWcukIDgAEACMG9he45FMAULeSS+0CAAKA2pn+HADoJlRaMZQ52e9EBqi7lUsBHyCW7QIAAoDaEQBg8kUwwe0EgGMeKAKAulsBgFoLnnNJDwAQAJTuLJkeGAJ1E8gAoO5WLgV8ZICyXWp8iW944ie58xRebpYHBwdTP+d16/V66jpZ+0A9ZNtAj6gem1cdSDs+sQSZm2MZ6uaVr6atg8n9P6vvI35Ir0OPqdEDGWDJMh4cwckjOGSAyAC1I+QcMi/oIRWQJfYHAAgASleUTA8AEACMGNhfAABKZaBHVA8AsGQBn02c9sq6gpO35eGUtFfWPlzqSAAgAJjkZZd8in6rW8mldgEAAUDtTH8OAHQTKnmuvnRlHVwEo7uVSwEfIJbtAgACgNoRACAuprF0MQ0AqLsVAKi14DmX9AAAAUDpzpLpgSFQN7NVAFB3K5cCPjJA2S4AYMkCPgwsDQwAAoDaEXIO4IEeUgFZYn/EPhB3dHSUeOJzQUlTEQ/ERT2k/tAjqgc/EHfbZxZhckwDFx6Ii/4S7S+I61oT1gIZIDJAeVhUMj22/LiD+lOmvluPTf2ct63ffEzqOln74DrYqMc5J7+anvjX2Yl1KaoetvR4ed9oxFtqQdaFVrxela5WxsiNanmcAwyUyOoEGMIIpPJmoEe19Zg1axbt3btX/kijhP5iiFGyAzUAULedS3EMGSA6knamP4dAKyUpSg8AUOqODBB6SAVkyYY/AEAAULoKerRMDwBQSm8jwCHz0pq6lHm50i4AIAK+7iH+XFEZDwKclB4AlHrAH9BDKiBLNvwBAAKA0lXQo2V6AIBSehsBzpVMA/XQbetSJgoAIuBrZ/pzyAClJEXpAQBK3QFA6CEVkCUb/qgpGpvvY2NjxJO5LDw/MjKS+jmvz8+vC29nlvk+DLMcnkc9xoU+0KPaejAAd+/eLdrc7BPoL7L9oQf0MPtHeD6PPwDA8XHvpv+weGYZ4JEdDXpMjR4AoNQVB9DQw4zD4Xkb/sAQKIZA5bgC9GiZHhgCldLbGOLioJn2yhre5m1RD6lglfQAABHwpbuhR8v0AACl9FUKtACxbluVyekl0bmiDkwAQAT8iPuyzOeSgasUWABAaUUAEHpIBWTJhj8AQABQugp6tEwPAFBKbyPAVekACXrY9wcAiIAvXQU9WqYHACilR8CHHlIBWbLhDwAQAV+6Cnq0TA8AUEpvI8AhA9Sa4tSF1oLnWA8AEAFfugJ6tEwPAFBKDwBCD6mALNnwR+wDcfkmd574YoikqYgH4qIeUn/oUW09GIC7du2adJ+DP6rtj8HBwURvcJzOisnwR9QfyACR8cjDKujRMj2QAUrpbRzhYwhUa4ohUK0Fz2EI1NcDl/1LY0CP1ugBAErdAUDoIRWQJRv+QAaIjEe6Cnq0TA8AUEpvI8AhA9SaIgPUWvAcMkBfD2Q80hjQozV6AIBSdwAQekgFZMmGP5ABIuORroIeLdMDAJTS2whwyAC1psgAtRY8hwzQ1wMZjzQG9GiNHgCg1B0AhB5SAVmy4Q9kgMh4pKugR8v0AACl9DYCHDJArSkyQK0FzyED9PVAxiONAT1aowcAKHUHAKGHVECWbPijxjsJT/ygQZ7Cy80y35RpluPm6/V66jpZ+0A9ZNtAj2rrMXPmTOrp6UnsM+gvsv2hB/SI445alscfGALFkJ88rIIeLdMDGaCUngNZ2gsjFVId6DFxPQBABHzpGujRMj0AQCk9AAg9pAKyZMMfACACvnQV9GiZHgCglN5GgMNFMFpTXASjteA5XATj64GhA2kM6NEaPQBAqTsACD2kArJkwx/IAJHxSFdBj5bpAQBK6W0EOGSAWlNkgFoLnkMG6OuBjEcaA3q0Rg8AUOoOAEIPqYAs2fAHMkBkPNJV0KNlegCAUnobAQ4ZoNYUGaDWgue8DJCP9sPT6Ogo8RRebpazHr7I6/J9GOY24fmsfaAesm2gR7X1YAA280Bc+KPa/kA8le1rQw9kgMh45GER9GiZHsgApfTIAKGHVECWbPgDAETAl66CHoXqsW7dOtqwYYP3nQqATzzxBK1evbrQephfZiOwYOhRK4qhR60Fz7mkBwCIgC/dCT0K1WPu3Lm0//770+LFi+nQQw+lpUuXeuUZM2YUWg/zywBAUw3y/ppOLpElPrWT9nIp4OPARLcUawEAIuBrR/hz6NBSkqnU49FHH6WDDjqIarWaBz5+P+CAA2j9+vWyEvAp9MBfwwkP2DhQAwARWISpuDCVAd/8MhsGrsIRLWd9DD41zZ8/35QpmEe7BFJ4M9ADekgFZCmPPwBABHzpGuhRuB4bN24MssCk7I8rladDV+GAQDUADpCUEo136GFfDwAQgUW6Cnq0RI8lS5Z4GWBS9seVAgBl00AP6CEVkKU8/qjxEWN4GhsbI57Cy83yyMhI6ue8Lj+/ztwmPM/3LYWXmWXUQ7YN9KiuHnwl6H777Ud33313Yp9Af5HtDz2gh8mL8HwefwCA4+PeTf9h8cwywCM7mkt6DPziTBr8ZWfitOXnZyR+prbr+elpqev035m+D64D6qHbQOnx4tiziTDHAbTsU9CjNXpgCBRDS3LcoGR6dK95DQ1ffDomxzToXnUgvbxvNOIttSBreIrXwzkvpVbjHXrY1wMALFnA58w07dVugYUBuOMTS2jn8mWYHNIAANS9VI0m6SXRuXbrt67EMQAQAIz0xqzO6FKHBgDdBD8AqLuVS/3FFfC4Ug8AEADUPdWfAwDdhEqZslwAUHcrAFBrwXMu6QEAAoDSnSXTAxmgm7AGAHW3cingu5J5uVIPALBkAd8V47hSDwAQANSokXPsUVd8inrotnGpXQBAAFA705/DEKibUMEQqLRqmXwKAOq2cwqAbKLwxPek8BRebpazHmbL6zb7wELUQ7YN9Ijq0b36IFwF6tDVnwrS3StfTc+N7EqMIYgf0svQozV6IANEBqgPzZAB4lYKSzDFOUDdrVzKeJCJynYBAAFA7QgAEAAEACP9ATegS0mqpAcACABKd5dMj8hFMIvn0cKOztwg27RgHq1NCvqLZlNt+jzaFPt5J3XVptGKxZM9X9hJXeF9m3Xn71aPSAqvF1uftHqcRyumz/Z/J8+rRy+p+pufJ+yH66bq478vXHBeos7IAHW3QgaoteA5l/QAAEsW8DGEoTsTa9EcANMCP382jbo6plHXojAUFEQUQMKfZ5fXdsRsGwCQ4aqAtYw2LZhGSbBJ+0ydj9u53Pidi2brfTFkg4OFTuoK5kP192Acrq+vQcI2AKD0Kfqtm3oAgACgdqY/xxcwpb1cOoLLDUAzo/KDNsPDy7LiMiwFI/VuZF0N6HR6gIxkgDGZkoaMAktM9sf7j/kuD2ImtIx68GcTBqC5vQDgMoqF8nIN40Cv2mzvwGDF4sZBQkSD5csIANQ9yKX+AhDLdgEAAUDtCH+uegDUQVxCw8iMTDAsZxjUgsxPgCGARnLw15mXAl7oPQlocQDk74sBtIaRGs6s6cwu9FtEBuh95mdvoSFc3mc42w0AG/xuH9R+hhq3Df9+AFB3KwBQa8FzLukBAAKA0p0l0yNXBpiYlSUBkIGpwcJZohqCZDAG5+a8dfRQpQe+xO8yIJgTgB7kEoYYFWQDQEWgZ3yfOQQq1pO/P25f6kBAHARwVujXS32u6qPeAUDdrVwK+MgAZbsAgCUL+DCwNHAuABrDeCpAN94lANRnURDIDFJvGz4vZkInZd4EIANTZXhGlsVgUdBV9Yp7j9ZVfS//NlU/XX+5vl7O++bP4jJAXmaCLqhbQnbK+wIApU/Rb93Uo8aXtIYnfpI7T+HlZplvcjfLcfP1ej11nax9oB6ybaBHVI/Nqw6UN8LHZGBeUOdgbWR1DbgwJDijM7M4ExwKJnHn2uLXi4NUdJk8B8hAadTNB1bMb8gDw8j3GL9Zb69+c+M7TeDJLM//7QpyRp26OpSWpm5aK67H5pWvpq2Dyf0/q+9zPEH8kH6HHvb1QAaIDFAfmvlzpT4HKIb4ZFCOAKKF68bCpoX1SbwAxz8fKg8SlK6NoWINV7UcGaDZqTAEaqqBc4CBGmUKtBjCCJrNqZPYkSHQVkJkQt8ts8DWwpmzwuRszqubkU3qTDp5GwyButlfEMdkuyADRAaoHeHPlenApLwA1NlSa+E3NfUAAHW3QgaoteA5l/QAAAFA6c6S6QEATg3AmoUyAKi7lUsBHxmgbBcAsGQBHwaWBgYAAUDtCDkH8EAPqYAssT8AQABQuqJkeuQGIF/FGL6njs9rhZeFz+MZVz+qc1/mlZONTIkvBlG3HDQBJOP2CL4lQX1fah1j6hd3UUo4o4tchMP7UbdjhDWYRBkZoO5WALHWgudc0gMALFnAZ/OkvbLO3/G2fIl52itrHy4ZeLIADACTB4DmOhFQqNsKLAIw9B3mPXgCZN6FKeHv9etj1jkGYAKA6gKXVADKewZFPWL2CWncswAAIABJREFUDwDqHuZSf0H8kO1S42AXnkZHR4mn8HKzXMQDHFEP2TbQI6pH7gfiMlQCKHTSCn6SQd4MMNiu8TdgXcZTEBo3ljfzv6BGxmhkgCZg4m5Q32nc3B/APMd/dKr9agCeRysWdDb+h9QmAB14IC76S7S/IK5rTVgLZIDIAPUhkT/HBzppL5eOaCebAXogyAtA4wZ6b1hSATHYnrOucCZmgC0mQ1IgEu8xAPTgpr7P2E8DvCGIM+Qz/qNTfZ8GoF/PUNap1muAVt2or96Tb39Q2yED1D3Ipf6CDFC2CwAIAGpH+HMAoAEvkTnycg07/Q8uCWDwgKQ+899jYKagwRmpef4u+MsxA3xqXTUsKkGW/R+devsQsBMBqLTAEGiko5SwvwCAuhVZCwAQANSOKGGHTs0AzaAeZGsqoC+b3BBo7B9LaygqwOR+N+oVZHXed+inUcTti9ed6H90KmiaEA/2bWoVA1xzyDXYJna9hr7IAHW3QgaoteA5l/QAAAFA6c6S6ZEKwOBvvDj7CmU8HLwN+MRCgdeJyeKiV4E2AUAfdo0rPv2hRa5XaNg18p28Dp+zM+qX+R+dxrqRK0szAWgcOKSAT8ERANTdyqWAz3VJe2WN/vC2VbqIDgAsWcCHgXX3ZS2yAKgCcp73tR3Z57by7KeodRpDsHF1Tv6PzqLqBgBKn6LfuqkHAAgAamf6c1lHgdyZXenQNgFYFBysfk9Mthj/x9UTy+CarSMAqLuVS/3FlX7rSj0AQABQ91QAkJoN/Nge5wDDHQoAlIq4pEdNVcZ8HxsbI57MZeH5kZGR1M95fX5+XXg7s8z3YZjl8Dzq0ci0lC7QI6pH95qD5PMAc5yfAqSmPhvkDPDFsWcT+zfih/Qy9GiNHgDg+Lh307+CTNw7wCPN6ZIeAODUw2wyBwwAoO4zLvUXrktcjFPL2g3EGALFEKgcnyiZHk6dAzTu4/NuYPev5DTv7YvCpHHBirjqM+1eQT/Dlff/MQSbuRLVPkRxDlB3KwUXvSQ6l3Xenbeo0tWXrEnaqyg9AMCSBXxXjONKPdwEoPmw25QbyP3bEsK3OHhXd6b+LdkykgBUEI251aNFQ8IAoA7vAKDWgudc0gMABAClO0umh5sANDOqJAAaGVtwJec06uqI3uAezRolADctmEdrkQFGfOxSoHXlgBH10DZhLQDAkgV8GFga2GUAqmHQ2CFQhh4PdYob0BmWfhZnDKdmAbDxuQHUFmV9Zj2RAUqfot+6qQcACABqZ/pzWePv3Jld6dAuA1ABQf1tmSrzOy9jMMrPzqMVHfNok/G5uY05L4dAcQ4wYmLHhtpc6S+oh3YKawEAAoDaEQDgxO8DVJmcCS2R1fFwZcz/evoZngKhgmKQFfpPdZDQU/uJy/bilplDscXOIwPU3YoDLcDjph4AIAConQkAThyAcf/l6cMwuLIz7qpO7wIY/hszdQFLjRZ2zKaF3pWjCRez+BfNePuN7BMADBsZ4JGKQI+oHrEPxOV7QXjiobCkqYgH4qIeUn/oEdUj9wNxHTgvZmZzQcanzvmJ+jHMao1zhGJ5sVlcuL4TKXc78EBc9Jdof0Fc15qwFsgAkQHKw6KS6eHUOcDJwMrM6oInQCRkgJPZf4u2wRCo7lbIvLQWPOeSHgBgyQI+myftlXUBC29bpRtqSw/AFgFqItncZNYFAHUvdSngI37IdgEAAUDtCH8uC6IudWgA0M1hUQBQdyuX+gsAKNsFAAQAtSMAwElcBOMmgCaTtdncBgDU3QoA1FrwnEt6AIAAoHRnyfRABugmgAFA3a1cCvjIAGW7AIAlC/gwsDQwAAgAakfIOYAHekgFZIn9AQACgNIVJdMDAAQAIwb2FwCAUhnoEdUDACxZwGcTp72yLmDhbXEVqJvQsHkOrtX7whCo7qUAj9aC51zSo8bBMDzxk9x5Ci83y4ODg6mf87r1ej11nax9oB6ybaBHVI/Nqw6k3muPSp6+k/KZv13Pd45M3p7XydoHf55nnbR6XnsU3dX1t7Tp6lnJdcnzHXnWyaiHDT02r3w1bR1M7v9ZfR/xQ3odekyNHsgAkQHKw7OS6bFny1raO/gfidMzPb9I/ExtN/jYj1LXydoH18FGPWYd8Qba8b93JtalqHrY0uPlfaMRb6kF7TZSgZEb1fKOZYC6WnrOpRQVxkG7aAXkXNV8OmvWLNq7d6/8kUYpCxpV04OznrQX9JDqQI+J64EMsGQZDw4ItMmrFvABQN22PAcAQg+pgCzZ8AcACABKV0GPlukBAErpbQQ4HDBqTat2wGjDHwAgAr7uIf4chlKkJEXpAQBK3W0EOABQawoAai14jvUAAAFA6Qro0TI9AEApPQAIPaQCsmTDHwAgAr50FfRomR4AoJTeRoBDBqg1RQaoteA5LwPk4Z3wNDo6SjyFl5vlIh6Ii3rItoEe1daDAbhr167EfpfV5+CPavuD7500Y3B4Hv6Q7Z9HD2SAyHjkYRH0aJkeyACl9MgAoYdUQJZs+AMARMCXroIeheqxbt062rBhg/edCoBPPPEErV69utB6mF9mI7Bg6FEriqFHrQXPuaQHAIiAL90JPQrVY+7cubT//vvT4sWL6dBDD6WlS5d65RkzZhRaD/PLAEBTDdyPKNWolh4AIAJ+2N/eeYbIQmOBS0dwZc80Hn30UTrooIOoVqt54OP3Aw44gNavX28o3pjlcz5pL7SLVAd6QA+pgCyxPwBAAFC6AnoUrgdnfQw+Nc2fPz9SB14AAEpZoAf0kArIUh5/AIAILNI10KNwPTZu3BhkgUnZH1cqT4cue0Zsio+hWFONag09uuJTABCBRfYy6NESPZYsWeJlgEnZH1cKAJRNAz2gh1RAlvL4o6bGyc33sbEx4slcFp4fGRlJ/ZzX5+fXhbczy3zfklkOz6Me40If6FFdPfhK0P3224/uvvtu0eZmn0B/ke0PPaCH2T/C83n8AQCOj3s3/YfFM8sAj+xo0MO+Hnv27KHLPnMRDQwMAIDjDX1xAC19Bj3s64EhUAwtyXED6FG4Hs899xyde+aZ9J7ph9Hpc+fS1q1bI3XgBXmGdPjALe2VtQ/eFufepILQo7p6AIAILNLd0KNQPRT8vjLneNq5fBn987vmJEIwC15q1CLyA4wFWfvgVRHwDcGghxSjYnoAgAj4EYNnBUkEWinZZPUIw48BmAZBtIvUHXpAD6mALOXxBwAIAErXQI9C9EiCXxoE83RoDIHq5pvsgYneQ2MOGbFUpEp6AIAI+NLd0GPK9ciCXxIEAUDZNNADekgFZCmPPwBABHzpGugxpXrkhV8cBPN0aGSAuvmQAWoteA56RPUAABHwpSugx5TpMVH4hSHY29sbqZu5AAHOVAMBX6oBPeL0qPFRZXjim9x5Ci83y1kPG+R1m32AI+oh2wZ6lFePoaEh+uB7FpK62lPBLe87Xx367hOOJ4ag2Q/NefijvP5APJVtV5QeyACR8YQPjHC/WUgRhkzaKyvz4syvGfgpSKbdIsH1y6oHr5P1W3idKl3kwJqkvaCHVKfd9AAAcwQFBBbZSaBHfj0mO+ypoBd+T4Mg2iV/u6g12y3g44BAtXzjgBEABAC1I/y5rKCAQCslS9LDNvwUDJMgmFQPs7ZZbcvrIgM0FYMeUo1q6QEAAoBhf2cOkyHQSsni9Jgq+KVBMK4esqYYAoUeGBJWHuD+AgACgMoPwXtWloBAG0jlzYT1mGr4JUEwXA9Zy0Ypq215LWSAUjnoUV09AEAAULobejSlR1Hwi4MgACibDnpAD6mALLE/AEAEfOkK6DFpPYqGXxiC6lFKkR9gLEAGaIiRw+u8NjJAqVmV9AAAc3QCHEnKDgA9onrw8/z4kUaTvc9PwWyy796FMXPmeM8TlLWTJQAQekgFZKnd/FFjmocnfvAiT+HlZplvcjfLcfP1ej11nax9oB6ybaCHm3qwz89697tbBj8FTYbg/OPeQRs3bkzsd1l9jvsx+q30GfSorh7IAJEBykNA6DEhPXjY8+/OOKPl8DMh2MxDdfnHMwTTXllZAkYIpHrQw109AEAEfOlO6JFbj1ad81OwS3pPuk+Qf1gWvHgdAFBaAHpUVw8AMEdQwBGc7ADQg8hV+CkoJkEQAJRehh7trQcACADKHgA9MvVwHX5pEETAl80LPdpbDwAQAV/2AOiRqkdZ4JcEQQR82bzQo731AAAR8GUPgB6JepQNfnEQRMCXzQs92lsPABABX/YA6BGrR1nhF4Zg1kN1+cfjog9pAehRXT1iH4g7OjpKPPHRUdJUxAMLUQ+pP/RojR7NPsxWQajV73xhTNZDdbm/N/sga/i0NT7Nislol2i7IANExiMP76CH0IMzPxsPs201/NT3J10dav5oZDymGsiIpRrV0gMARMAP+zvzXrF2uQ2i7MOeCnrh9ywIAoCyS0CP6uoBAAKA0t3Qw9OjqvBTMEyDIAK+7BLQo7p6AIAI+NLd0MP5m9wVxJp9T4IgAr7sEtCjunoAgAj40t1trkfVM78wNOMgiIAvuwT0qK4eAGCbB3xp7UYp696oqp4DbDf4KRiGIYiAL3sF9KiuHgAgACjd3aZ6tCv84iCIgC+7BPSorh41dTRvvo+NjRFP5rLw/MjISOrnvD4/vy68nVnm+1LMcnge9RgX+kCPqdGDn/fm0iONFJSKfvcywTlz6JFHHhG+C/dL9FvpQ+hRXj0AwPFx76b/cCc3ywCPNHiV9OAnuU/mYbabFkyjrkXLKDekFs2m2vR5tGl53Dad1FWbRisWx302kWWdtGLBefnrFFMXhiA/VHdgYCARggj4sj9Aj/LqgSHQNh3yk4MastQu5wCLG/Y8j1ZMn0ZdHXHQ5M9qVLMBwEWzaWGTAGSgh88JSndkP1NQHTyGtzPLWR7jdTH0aCoGPaQadvQAAAHAsK/a4kb4ZuEXZICL59HCGgMsBWK8Tkcn7VTvRubF+1m4oNMDZDQD7KSu6dP0/oMMUkGz8b2NTJSzSLM8kcwxum4aBLPgBQDKLgU93NUDAAQApTvbQI9m4cdZkgKgek8bCl3bUQuGS9d2GEOdPCzKYFzeyBBjARhkhnod/s7GdgwuBt9sWstQtZQBqt+SBEFXAPjiiy9GvGsueOmll4intFfWb+FtkYlKBaukBwDYBgFf2rf5Dv3yyy8TT2kvVwOLDfiZAGwAKC0D1JlZI0usBcOUDEa1rPHugyzIEDkD1OcNFTwldDUYbQOQf2ccBLPatqiMJ81/eT/L+i28nyoFfG6btFe76QEAAoCR/pCnE0Q2Ci3Is4+iA4st+EkAGsOHQUanlzGs5Hk5I2MLQGdALFjmZ3cJACwiA0zKBLPadkoB+ODlVDv7ZtoW+O0Burx2Ft08GCyY0EzWb+GdFe3TpB+AekhlbOgBAAKA0lUhPbbdcpYMOIM301mXPRDZJrzAtcBiE34mAL3hyMRzgPFgi0Ixfj0vu4wBYGPIVGePwdWoDOCazjAVwGy8m5lgVttOKQAZSLecRZc/2HCcOR/2YJ5y1m/hfdgItMi8dGtMtT/UN2W1LdcDAAwFfCWe+e5SgxXdkTwA1mpBwKESAtA2/GwApYz7UBDMeqju1PcXzvoupwfYi0E2yMv8g4Jg2Ta6+Wx1oHA5xR22ZQVJjgMAoBkNq6VH7ANx+SZ3ntgcSVPWwxd5u2YfrNku9eD7iJ544gn6/e9/T3/4wx8Sp4ceeoh4SlvngQceSP2ct12/fn3qOmofrH/jCNsPONwPTADycJQfdNQRuaqb2ocqx73nrUfctrwsjx78HQtPOom+Muf4pu6PKyOwpqLODMFTjnsH3XXXXYkeytMuzfjDC8ee9/TQp8gEH7yczrplm/QqW3dwMFLnZuqhfJm1j7x6/Pa3v6XHH3+cdu/eHRt3EU8lj2zogQywhRngrbfeSosXL6ZZs2bRu971LjrjjDPofe97X+L03ve+l3hKW+fMM89M/Zy3Pf3001PXUfv405/+pIebIkHFgCLpeVU3tQ9VjnvPW4+4bXlZHj3mzJlDf/uag+hPf9/cDeJTAZMy7rP//y6lYw49lI477rhED+Vpl2b80chHHqDLg0yP6IHLVKbnv/vD9Hr5WfR//2VNpM7N1EP5MmsfefXg/n/yySfTEUccQeeccw7ddNNN4mIzZKL2M1EAsAUAZLBwp/jYxz5G9957L73wwgtey2YNx0z90FLDYGY99JE1DyedRTc/6J8DNDNB4gCkj8Z5L+Y+pG11qagOff3119OpRx0JCIoLbPSFOnlBzPD7wNvfRldcdpluxJi5YnwqAah9GlMhXqQO4EIfu+RTVTW+wppHgy688EI65ZRT6P777/c+Kqq/qHokvVepHgBgjmBts0N3d3fTscceS7fddlvEX1md0WY9Il9uLDDrIQILQ4+HPL2ja531kZEBqt2Y+1DLwu9FdiRAcOLAM8Go4HfV17+eeXBTjE8lABse1FlgMASqzgvyOcOwAXP0fd6kSJ+Gq8hDzYcffjg9/PDDLa2HWa9W6mG7HgBgjk5gs0MvWbLEG9owG1LNZ0HDZj3Ud8a9m/UQAPQyPQXAxlF1+Byg2p+5D7Us/F50R3IGggk3rG9aMK9xQ3uOTC1yD6FxtagCl3eFqnejPcOPrzTVgJC3ZqTD0YQft2FW2xbl07CfJlPO+i28z6J9Gv4dv/jFL4iHWVtdD1WvKtUDACywQ//yl7/0jKyMFH7P6oxFBZaseoTrHVfOs49WdCQnIBgLQAZU+Eb4ZDCpm+IV7Mx/m/GW+bdEqPsF5a0XfC+i8Y80KcANw4/bOqtti/JpnO8muizrt/D+WuHT8O9YunQp/eAHPwgvFuWs31JUu5SpHgBggR364osvJg7ASa+yGCep/ubyrN/C67YqsOSGoIIID6PFZVIds4N/amHABPfjGf/56WVhwTBc8l+WBet5mZzM1oL9GqCKAtCEp3+zfcyN+Q1gxt2MH4VtHPy43bLatqhAm/VvRK+88grxlPbK+i2t9KlZ7zvuuIM++tGPmosi81m/pah2KVM9AMACO3RnZydt2LAhYly1oCzGKfNfoSmtsyEoIaEyKPUeZFn+0CMvD0AVAPA8WrtIX30aZGkZGaAHwwC4sh5mxqeGnxvvKqMzbqqPA6AHdROWUfDxdyTBj/Uri0+rFPD5kv8TTzxR2Tf2He0iZcmjBwBYYIfu6Oigp556SraSUcrTYNyp015Z++BtW5V5hevd6nqkQpAhFmRu/rmzjk4KIOZlY/q/OuMBuKzxBAhjPx4kcwAwgGnCH2WHM0D+H1AvS42ptz7fZ8DRyCYVVNV7Gvy4DbM8ViXwuNRfDjvsMEr7A3C0i4wwefSocRAKT/wkd57Cy80yH5GY5bh5ftJ23HK1LGsfVavH9OnT6cknn0zUpN30cMEf3/zmN2n+m2fG3CIRn3mJDJBhY2SAAWgUjPhJDcbFKQE8cwBQD7nG1yMOgMH3K7gF9YjP8hTwzHeG31lvfQt9+QtfgE/92OiCTzlmMgD/+Mc/ol0stgsywAKPaPmG971798rDFKOU54gFGaAWzFamwRCMvU/QGy6MXjnJIPOGHflZfQpwZubFy4PHHOntuzr8B9YmApDX5eHJPOcA9X4bddFPjQiAFgFgegaoMj+GX9oLPpXqFKUH4ofUnQ8K0l552gUABAAjHspjnKqBOHU4VGVUkXeZ4QXgiayXPwNr1T4U/Pg+PxuBpWr+iHQSY0FR/QUANES3dCoHAAQApasK1MO1QDtxCFYDgCb82AyutUvEoP6CosDjih4AoHSCjXYBAAsM+DCwfQPbzjQmDkH3s7u0rDIMP24hG4HFdrtI5zRKAKBUpd30sOFTABAAlL2oQD1sGHgqAm27QDAOfmwGV9slbNR2C/g4gJYOsOFTALDAgA8D2zfwVACQa1l1CCbBj3+7jcAyVe1iOggANNXA7SlSjXx6AIAAYNg3uM/LV6SqEEyDH/90AFB2CVf0wAG0/XaJfSAuP6CVJz7CSpqKeCBu1erBBt61a9ekNa2aHnzfY5K/eHmWx4rQ47vf/S4tOHJWzH2C5Tz3x/A7+5ijvUcaJWlfhnZxxR9F1gPxQ/LIhk+RASIDlIdVBerhypF1Vj0YgrH3CZbsdgcFP77VIe2VpQcH/bQXD39iCFQrZEsPZIBaU56z4VMAsMCADwPbN3BRgbbsw6Fq2DPrYba2AktR7SIdJUu2wGMj0NrQA/FDtq+NdgEAAUDpqgL1sGFgG4Elbz3KCkEFvzwPs2Uz5NUjYhx/QdXA44oeAKB0nI12AQALDPgwsH0DFwlArn3ZIGjCj+ufNXzJ69gILEW3i3RWo1Q1ECN+yFa24VMAMEdQsNWRYGD7Bm5FoC0LBMPwY/UBQOnBMumB+CHbDgAsWYeGge0buBUA5F/hOgTj4Mf1LlPAtxHgWuUP0+k4gDbVIO8CKVfaBRlgjqAAA7tr4FZ2JFchmAQ/AFD6uGx64ABatp+NA6SaCu7m+9jYGPFkLgvPj4yMpH7O6/Pz/MLbmWW+j8ssh+erVg828O7duxN/c7vpUQV/rFixgt591JHO3CfI8Dv7mLfR16+4ItZn6LeNWzRUrCmTHogfsu1sxA8AcHzcu+lfdYi4d1sghoHtG9iFAzW+T9AFCDbgd3Qi/NjbZQr4NgKcC/5A/JD93pYeNvyBIVAMgcpxhQL1sDGEwUE97VXUOS/OBFt5s7yZ+bmghyvtUqV6YAhUOttG/AAACwz4MLB9A7sU4Fp1TlCd81PDnlJlWSrqgMCldpEKyFKZ9ED8kG0HAOaAF0tmQygbHRoGtm9gG+1i0x9FQ1DBj29yZy1c00O2uC6VCTw2/aEVkHN59ED8kJrZaBdkgDkgaiuwwMD2DexiwC8Kgib8WFlbPrURWFxsF+m+RikPeFzRA/FDtqCNdgEAAUDpqgL1sGFgVwPtVEMwDD9uRABQWrlqegCAsn1txA8AsMCADwPbN7CrAORfOlUQjIMff1/VAr6NAOeyP8zekCcTRfwwFbNzagsABAClqwrUox0CnG0IJsEPAIzYuHIHBACgbGMb8SP2gbh8rxBPfFSSNGU9rJS3a/aBhVWrBxu4mQfiVk2PdvGHrYfqMvzSHmYLf8h4VTU9ED9k+9qIH8gAC8x4cARn/wiuLENczT5UV8Ev7WG2GAKV/qqaHogfsn2tZIByl41S1YxjQygbgRYGlm5zpV2Kqsdkh0PVsGfWw2zRb6W/qqYH4odsXxv9FhkgMkDpqgL1sGFgGwcmRdZjohBU8MvzMNuqBfwi2yXSCYwFrtQDADQaxdL93QBggQEfBrZv4LIBkBXIC0ETfrxd1pWCAKD0V9X0QPyQ7WvjwAQALDCwwMD2DVxGALIKWRAMw4+3AQClf9pND8QP2f4AYI6gwJLZEMpGoIWB7RvYRru0yh9JEIyDHyvXbgG/Ve0iXYr44aoeNvyBDLDAwAIAyq5kw8BlBiCrEYZgEvx4XQBQ+qfd9ED8kO1vI34AgAUGFhjYvoHLDkBWREHwv8//O/rA299GSbc6tFvAtxHgquAP1WsQP5QSjXcb/qjxTsITP2iQp/Bys8w3IZrluPl6vZ66TtY+qlaPmTNnUk9PT6Im7aYH/KH73je/+U067MADqetzn4M//JgEf2h/cHxF/JB62PAHMkBkgPKwqkA9uFOnvdot4+nr60uTA0OgIXXazR/IAKUBbMQPALDAgA8D2zdwlYa4bHRo6KE9xlpUSQ/ED922PGejvwCAAKB0VYF62DBwlQIc9JBWhB5SDwBQ6mHDHwBggQEfBrZvYABQa1q1jMdGgKuSPxA/tNd5zoY/AEAAULqqQD1sGLhKAQ56SCtCD6kHACj1sOEPALDAgA8D2zcwAKg1RQaoteC5qumB+CHbFwDMAS+WzIZQNgItDGzfwDbaxRV/oB7wh1RAlhA/pB42+kvsA3FHR0eJJ77MOGkq4oG4VasHG7iZB+JWTY9mH2gJPWT/hB7V1gPxQ7avjfiBIdAcWaStoRQcwdk/gkMGqDW15VMbR9ZoF/vtgvihNeU5Gz4FAKcYgOvWraMNGzZ4LacM/MQTT9Dq1atla05xPcwvs2EcBDitKMCjteA56GFPD8QPqaVZshHHAMApBs/cuXNp//33p8WLF9Ohhx5KS5cu9cozZsww29Kbb7d/trBhYIBY2wjg0VrwXBX0QPyQbWqWbMQPAHCKAfjoo4/SQQcdRLVazQMfvx9wwAG0fv16sy29eQBQSgI9oIdUQJbawR+IH7LNzRIAmANeLJgNoZrJNDjrY/Cpaf78+WY7BvPt0KGDH+tAu6i6tNofqIdSQL6jXRp6IH5IX6iSDX8gA8wB0WaHUjZu3BhkgUnZHzcqAKis3XiHHtBDKiBL7eIPxA/Z7qoEAOaABotlQ6hmMkCuw5IlS7wMMCn743XapUPbNHCz7eKKP1AP5Qr97kK/daVdED+0L9ScDX/UVHZjvo+NjRFP5rLw/MjISOrnvD4/zy+8nVnm+5bMcni+SvXgK0H3228/uvvuuxN/czvpwW0NfzSeVqB8Dz2gh/JC+B3xQ3rDVvxoCwBeuOyj9JFzz02cln7wg4mf8Xb/cM7feVPaPpZk7IO3PX/RotTvKVM9Pnb++YkgZ3PiAEl2WOhRXj0QP2TstBHHXIkflT8H+Mgjj9Ax095Ad7z3PZgsafDPJ82hY488Uo1ExL5nDefyRjaGMBi2aS/UQ6oDPSamB+KH/bjpUvyoPAD/6cor6Yo5x9PO5cswWdLgkjnH079cfbWMJKESAq0UBHqUUw/ED/tx06X4UXkAnnzssfT7c84G/CzBjw8kTpo5kx577DEZ0UIlBHwpCPQopx6IH/YB6FL8qDQAefji1KOOBPwswm/9B86i0+ac6J3/kyFNlhDwoYdUQJbK4A/ED/vwcy1+VBqA3vDF3BMAQIsAVMMXOPemAzprAT1ooby3AAAfWElEQVSqpwfih30AuhY/Kg1ADF/YN/BJb24MfyLgVy/gq1+Ei5MaSiB+VD9+VBaAGL6wb14evjh97pzg9gcVMOPeyzDEpeqNgK+UaLxDDyLEj/aIH7EPxOV7lnjiIJY0FfFA3Gbqcfmll9IVGP60OvzLwxf/fNVVnjfK7g/T180+WLMZn6IeyTGmle2C+GEfgC7Gj8pmgBi+sG9gHv58/PHHkQHKhAl6VFAPxI/2iB+VBCCGL+ybVw1/cqzDRR8y4kOPaumB+NE+8aOSAMTVW/YNzMMX377mGi/SIeBXK+DLX4N/6EH8aJ/4UUkAYvjCvoHV8CcHSwBQIgN6VEsPxI/2iR+VAyCGL+yb1xz+BABlsIce1dID8aO94kflAIjhC/sGNoc/EfCrFfCjv6a9h0ARP9orflQOgBi+sG9gc/gTAIwiA0OgUpMy64H40V7xo1IAxPCFffOGhz8BQBnsoUd19ED8aL/4UeN/fQhP/GRqnsLLzTLfpGqW4+br9XrqOln7mGg9vvSFL+DRRxb/95Of/HDJicfT1y67TLTjRNslzhu8rGh/oB7bKKvPtXO7IH7YB6Dr8aNSGSCGL+wbODz8iYynOhlP9Jc0ljAE01787zVpr7IOgSJ+tF/8qAwAMXxh37xxw58c+Moa4JKCdrsGfOhB3l89sg6IH+0ZPyoDQFy9Zd/A4as/VcAEAJUSjXfoUX49ED/aM35UBoAYvrBv4LjhTw51CPjlD/jyF8hSO2bEiB/tGT8qAUAMX9g3b9LwJwAoYQE9yq8H4kf7xo9KAHDSwxeL59HCWo1q5tTRGfMIoU7qmj6PNqVcYblpwTxaG/p8bcc0WrG4k7pqs73P1naEvqvGnyeZ7zxaMb2xHV+NmW/y67loNtVif0fe/SyjpOFPBPzyB/zoL5BL2i0DnHT8CPol99Vw347ru9l9Oi6ObFowjboW8bYqnoS/q9Zcf+c42NFJ/D0LF5yXM9akx5KyxI9KAHDSwxd+w2u4KJOlN65eX60Xb+wGAPVnjbLaJutdbxf9vqRtfQBGflfS+snLk4Y/AUAJC+hRfj0mHT8EACXwJgeT+D7fAOAyCscPtTx/fEjo7ypeLJptDYBliR+xD8QdHR0lnsyHdYbni3ggbp563HffffTuI2dN7qhFNbwwciMr8ww8fRrVvCxNZYBs0Gm0MDjaa5ie1/WyyFCW2DiaO49WdDSyx7CBA+NyPYwstGsRG9XoDJzRBZ+rjsaZpToSVMvOoxULOmnn4nnU1cSRHA9/nnriCYntn6ddXPEH6iEfOAs9pB5NxQ8RN1QfbEDGix/cBxkqXhyp+VmcjhlqOfdt7vNJcWTnonneSNHajuh3NGKFihd+bOI4JGCm4tcyrz5BLAlGiTpphV9Xvb8EWAa/OfnzMsWP0meATT25OQQeNoYaAggM7DW4MhBDqWFWhhcPaUZglWKQ8BBo8F2LOvXwajB8qQEYB0793cs84C0MwTeAa0p9ktZJG75AxlP+jCf6C+SSdhoCbSp+BH2rERcCsPCBqeqPQX9WkNIADE5TBOvoPp/UN83lHKM0sHhb45RKLAD16Rjej4xxyUAzvzPPfJniR+kBeNLst9PvzznbUgaoTSDNZQJQH4XpdfIZNw5kDUOFOpB3ZGbsU4Cavz+0vpcJ6nrlMWnaOu+aOcN78rsMi7qEq0C1FjwHPcqrR1PxQwAwof8JEOk+rWOHfwAb7vPBvnVMCvdZsQ9zxIi3Fd/rxy8RR/zRoyALTP6e8PdmlcsUP0oNQL56a9LDn2wSNkSCAaS5phaAAowZR4NcL84cRQaYo7NkmVZ9roYvZEiTJQR86CEVkKWy+KPp+BH0Ow021Y+CdwEivZ6IL0Ec0p8H2wffEQWU2EcMAIMMk/fvZaQyA8zzHRNdp2zxo9QAbPrqrcB4WebKA0A+oko4CvRNLEBnGJuNHAyfdMz2rzjVnUEOnarvMM8BGkMuxn4nal5en4cv/vmqq2REC5XKEuC42ll/28XrtNOQH/TQZm46fgR9TffVSJ+bMACz44j6jlQALjfig3fdgn8VOx9gB9cO6FM+ap/NvpctfpQagM1fvRUFX7MGKPv2fPUWHxmnvQBAqQ70KKceiB/241/Z4kdpAYibV+2bl4cvTp87JzNrQsAvZ8DnWiMDbLQd4gfiB8ex0gLQ3vCFfSOUNQtUV29lBUkAEACUCshSGfyB+GE/7pUxftSUWc33sbEx4slcFp4fGRlJ/ZzX5+fGhbczy3w/mVkOz6fVY96xsyd/9Wcwdm/fBGWFH9f7pJkz6bHHHvPuAQ23hVlOaxe1Xqv9gXqMx/YttEtDF8QP+7GvjPGjlAB8+OGH6dSjjpzcrQ+AX6xuPPx52pwTvaDZzIEJwAPwuH6AhPhhH35ljR+lHALF8IV9A6vhCx7MwhCoHNKDHtXSA/ED8YMdzQfrpQQgrt6yb2Dzv/sQ8KsV8M1fk9W2vG7VbwtB/ED8KC0AcfWWffOqqz9VoMwKkmqYU60f9561D96m6oHW1AV6mGpkjzJMlT8QPxA/lBNLmQFi+MK+gc3hTzZHVrAGAFUXarxDj/LogfiB+KHcWkoAYvjCvoHN4U82BwCoukjjHXpURw/ED8QP5ebSARDDF/bNGx7+ZHMg4Ksu0niHHtXQA/ED8cN0cukAiOEL+wYOD3+yQRDwzW4CPaQa5dUD8QPxw/SyB0AOduGJb5blKbzcLBfxYM1wPew8usS+Ccp88zs/uoSPjCfStuF2MbdV863wh/pu8x31kP27nfVA/LAf+8oeP0pzGwSGL+ybN274ExmgeYzYmGegpr34SJKntFfWPnhbXBUrFbSpB+IH4od0V8nuA8TwhX0Dxw1/skmygjUCvuxK0MN9PRA/ED+kS0sGQFy9Zd/A4as/lUEAQKVE4x16lF8PxA/ED+niEgEQwxf2zZs0/MkmQcCXXQV6lFsPxA/ED+ngRolHbkpxDhDDF/YNnDT8ydZAwJfdBXqUWw/ED8QP6eBGqTQAxPCFfQMnDX+yNRDwZXeBHuXWA/ED8UM6uFEqBQDx6BL75k0b/mRrIODL7gI9yqsH4gfih3SvLpUCgFdefjldMfeE2GfYlfn+u1bW/ZITj6dvX3ONdkJoDgFfCgI9yqsH4od9AFYpftT4XpvwxE9y5ym83CwPDg6mfs7r1uv11HWy9sF1OPqII6jzyDfTh2e/PWE6JmG5uX7WOnk+z7OO+Z3R+TNnzaRzj3lbSn3zfEeedaLfbeo385BD6Le//W1i2+RpF1f8gXro/staQA+pB+KHGQs4diB+KI5xX3H+Iph77rmHfv3rXydO69atS/xMbXf77benrpO1D66DjXpMmzaN1q5dm1iXourBeqS9kPFIdaBHefWw0W8RP2T8rVL8cB6APE6b9soKTrwtEz/tlbUProONesyaNYv27t2bWJWi6uGKHqiHtAL0gB5SAVlC/JB62OgvAGCBF33AwPYNbOPAxEZHQj1029o6YES7aE15DvFD6mHDHwAgAChdVaAeNgwM8OjmA3i0FjxXNT0AQNm+NuIHAFhgwIeB7RsYANSaVi3g2whwVfIH4of2Os/Z8AcACABKVxWohw0DVynAQQ9pRegh9QAApR42/AEAFhjwYWD7BgYAtabIALUWPFc1PRA/ZPtaASBfeRieRkdHiafwcrNcxIM1q1YPNvCuXbsSdc3StGp68P2GpqfC89BD9k3o0d56IH7I9rcRP5ABIgOUh1UF6mHjCA4ZoG6+qmU88IduW55DBij1sOEPALDAgA8D2zcwAKg1BQC1FjxXNT0QP2T7AoA54MWS2RDKRqCFge0b2Ea7uOIP1AP+kArIEuKH1MNGf0EGmAOito4kYWD7BgYAtaa2fGojsKBd7LcL4ofWlOds+BQABAClqwrUw4aBEWh18wGAWgueq5oeAKBsXxvxAwAsMODDwPYNDABqTasW8G0EuCr5A/FDe53nbPgDAAQApasK1MOGgasU4KCHtCL0kHoAgFIPG/6oqaNG831sbIx4MpeF50dGRlI/5/X5eUvh7cwy39dmlsPzVasHG3j37t2Jv7nd9IA/Gk8ZUb6HHtBDeSHuHfHDvj8AwPFx76b/OMOpZbZADAPbNzAO1LSmtnwKEGtNOQa4ogfih/12wRBogUN+bGA8D1APY9gYwuAAlfbif5fJeqEeUiHo4aYeiB/22wUABAClqwrUA4FWSg89oIdUQJYAQKmHjf4CABYY8GFg+wZGBqg1VUP2ekl0Dhmx1KRMeiB+yLYDAHPAiyWzIZSNQAsD2zewjXZxxR+oB/whFZAlxA+ph43+ggwwB0RtHVnDwPYNDABqTW351EZgQbvYbxfED60pz9nwKQAIAEpXFaiHDQMj0OrmAwC1FjxXNT0AQNm+NuIHAFhgwIeB7RsYANSaVi3g2whwVfIH4of2Os/Z8Ect/BBSLvNN7jzFfaaWZT2ck9dr9oGFVasHG7iZB+JWTQ/4w+4DPuEPqWfV9ED8kO1rI34gA0QGKA+rCtTDxhFclY7woYe0IvSQeiADlHrY8AcAWGDAh4HtGxgA1JpiCFRrwXNV0wPxQ7YvAJgDXiyZDaFsBFoY2L6BbbSLK/5APeAPqYAsIX5IPWz0F2SAOSBq60gSBrZvYABQa2rLpzYCC9rFfrsgfmhNec6GTwFAAFC6qkA9bBgYgVY3HwCoteC5qukBAMr2tRE/AMACAz4MbN/AAKDWtGoB30aAq5I/ED+013nOhj8AQABQuqpAPWwYuEoBDnpIK0IPqQcAKPWw4Q8AsMCADwPbNzAAqDVFBqi14Lmq6YH4IdvXCgB5J+GJHwDJU3i5WeabEM1y3Hy9Xk9dJ2sfVavHzJkzqaenJ1GTdtOj3fyxdeBJGnrybhrYeBP13/916rv309T770uo984PUO/PzqTNt53mvffe+X7q/fe/p757Pklb7r+CBv64moaeWEcDPY8meof7X9X6S7v5Iy6GmssQPySrbPgDGSAyQHlYVaAe3LnTXvxvQmkvl4/w94320576rbTt3o/Rlh93UPeag6ln1TTq+/5bqf+ad9DAFXNo8MvvoqEvvJuGL15IWz93Jm39XKf3Pvz599BQ17tp8Esn0cDXTqT+a46jvhVHU33lG7399P3obbTt7n+g3U/eRC/u6Q4kclmPoJL+TFbb8mpV9sdk9EAGKFWz4Q8AsMCADwPbNzAH/bRXkYF2dMsvaOva86j+g0Opd+XhNPCtE2noC/Np+6fPoZ3Ll1mbtn/qQx4gB66ZS70rZ1D9ptfR8K/OpmefvJn2vTCaJof394apKwA8EXlsBFobPkX8kE1jo10AQABQuqpAPWwY2EZgaaYeewfW0eCd76Xu1QdT//fe4WV0Oy74B2uwywvO4YtPp/5rj/fqMXjHqTTSc3ukXXlBkQcEsRXwF6IeUp08egCAUrNm+i3viWMHAJgjKLBQNgItDGzfwDbaZaId6eV9o7Tr/ku8TG/L948lhk9eUBWx3vDnz6D+646j+k2vpx33XUTjz28PhM8TaCeqR7Bzf8ZWf0E9pLKIH1IPG/4AAAFA6aoC9bBh4CIB+NKLz9L2ey+g+upDaPDqebTjHxc7Bb4wXDkTHfynU6h79SG09a6/p/G9g8gAQ24v0wEBACgbz0b8AAALDPgwsH0DFwXAXf/5RQ98Q99c4DT0whBU5aErT/XqP/wfHyd65SXZEKGSjcBSVLuEqi6KVctEET9E81q5SAoABAClqwrUowyBdrTvV1T/wWE08O130c7lHy0l/BQE+X3gn+dR/aZDac8TP4y0u1pQhnbhumZlbwCgatHGe9X0sOHT2Afijo6OEk9ssKSpiAfiVq0efATXzANxq6ZHsw+0nGo9hv59CfWsnEnbLnp/6cFnQnD7p8+lvhuOpoGfn0XP7Y0++Nr1dlExKSsGTbU/iq4H4ofkkQ2fIgMs8EgSQxjyiNTGEdxUDLXtG+mlvpuPpsFr5lUKfCYEeX7oqgXU86+H0dhTG0TDuNouopIF9ltX9ED8kA6w0S4AYIEdCQa2b2DbANzbfw/V17yehr9yZqXhp2C49fOdVF/9OtrzxI+CxrERWGy3S1A5Y4YzsLRX1Yb8ED9ka9vwKQAIAEpXFaiHDQPbDLSj3T/1YFC1IU8Fu6R3vrG+Z9V0enbjCs8LrrVLxKD+AgBQKtNuetjwKQBYYMDHEZzssDYMbAuAo/U7PfjZ/teWJOi4tnzHJ5ZQz6o30e5Hb7RydZ2tdpGOkaV2C/iIH7L9bcQPABAAlK4qUA8bBrYRaIf+d30j87vwg20x7JkEX76vsb76/6PBjbdGPGEuaDfwuOJTANB0oZ3/igUACwz4MLB9AzcLwFdeeYk2r3kjDXd1tjX8FBS3XXQ2bV59CI0/n/xH5QCg9HFReiB+SN1tHJgAgACgdFWBetgwcLMAHP7VB2ngn04G/Iw/6x687FQauP3kiC/UgqICvgv+4N/sSj0AQOXAxruNdqlxAAlPY2NjxFN4uVkeGRlJ/ZzX5eeTmduE5/k+nfAys1y1erCBd+/enfib202PVvtj9//eTn03HgX4GfBTmeCWFR301B++FetV+FTGzKL0QPyQutuIHwDg+Lh3078J3vC8LRCfdtppAKBxwGXDwM0cqPX88Aja9plq3eSuANbs+/ZPnk/da14HADp0II/4MQUAlEllo6QAEPeZWpY1DMLr2UhRuS5przLV4y1veUvq3zdl/Ra0i3RCM3rs/tMq6l9xHLK/mOxPwXPg2yfRUw9cJkVvsyFy/vGuxLEZM2bQnj17Iu2hFiB+KCUa73n0wDnAAjv0O9/5ThoYGJCtZJTyNFiVDghaGVj6bjma+IIPFezxHn1g745Pfth7pJJhUW8WPpWKFKHHiy++SG9+85vlF4dKRdSDv7KV/db8yTbqAQAWCMDzzz+f7rnnHrMNxTwMLORIzZZ5zclmgC88+7j3JHVALwq9sCZbvv92em7oXtEw8KmQY8p8an7Lo48+Sqeffrq5KDKPdpGS5NEDACwQgFdffTVdcsklspWMUp4GQwaoBZssAJ/6r0tp8OvV/p/PMMgmWx764im07e6PaNEL7C82jvCr0l+uvfZa+sIXviDaIVxA/JCK5NEDACywQ2/cuJF4HH/Hjh2ypfxSngarSofmnzyVAY6PmPkVp2n/bXMw/Jly7s+EJd8c3/PDw32HNt5MTTdv3iw+48JkD0zCO5pKf6jvMn+LWhZ+b3U9XnrpJZozZw79+te/DldNlLN+C9pFyOX5FABMCJKmVDaNc80119AFF1xg7j6Yh4EDKbyZyerBV5dOnz6dzj33XHrooYfkTomoe80hxZ/7WzyPFtZqVBPTbFqbE0SbFkyjrkXZQ5YmvGzNd696LdErLwc6crsw+D7+8Y/TQQcdRI899ljwGc/Y7C9ix6HCZP1h7iZrH7xuqwH45S9/mXhqdT2UblWqBwBYMADZRBdddBEtW7aMenp6lKe896zOiMAi5EoNtF/60pfoVa96FR144IG0dOlS4uybX6+MP0/1VYe2BoAdk/+3mVYCsPfGmbRvT93Tj8HH3v2bv/kbD+aLFy+WjQIAWtODQcOx4iMfaQxBVwk8HMvSXlmxkLe1oUfsA3H5JneeuBJJU9bDKHm7Zh9YWOV68Jj+W9/6Vi+YrFy50hveePDBB+kPf/hD4sTZDE9p6zzwwAOpn/O269evT10nax9lqMddd91Ff/VXfxVkXJypfPjDH6b7f3Mn9dxwuFMAZLgtnD4tqGuQ6S2a7S+bRl0drcsA+773Vtrwu1sE+DiT/eu//mu69dZbI14qgz9UH8ryepH95f7776f77ruPbrrpJm+U6E1vehN94xvfCGIw4qnkkQ09kAG2IANURz58E/edd95JX/3qV2nJkiX03ve+l973vvclTvx51jpnnnlm4vZq33w1mZqPe8/aR1nq8Rd/8RcBVDhgc/kfP76Uem+Y0RoAiuHPGtX8jJABqOZ3MvS85Z3UVVNDpOfRium1lg2Bbvne2+iaKy8UBxSs55//+Z/H+qgs/mDvZ3md1ymqv3R2dhJn1Dx68ZOf/IQ4yTBfNjIeVzIvV+oBALYQgKa5eT4r7ccQqFQsTY/f/OY3dMABB3gA5Pf58+d7me9Lz++gnpXTWwPAhCFQMbzJ5wp5PX6fPo82+ecIxTo5zxvaOgfY9/230gtP/ZE4WzrnnHPo4IMP9nR97WtfS7fffrtsFAyB/v/tnd1vFFUYxvsXcG8BAwVUgkrLhRAVkVKh8pGYKsKN4kckMXxFg6KCAQ2GBCIRlZQC24pIgvQCFewN2gtFJRohMQTF3dntdmfbLiWALe3SFvuYd3C6885ud4s2292ZZ5PJzJmd3cz85jnvM+c9M3PIo4gGKqYB0njSKqwXjLiiogLjxo1DZWWlZXzOgwzW31H4BrjG2QJcjabZY9cCNA5OU6NDSJpOjFAuLMrKypxoreVsFyb2xrk0JtuxxWPTujUnj9HnQQOkAWpVeYSH3DggfZ2ZAm3o08lIrHshvyaY8S7QyahdtRqqdWe3AKWVN9QHWGL1EQ71Dea5BRhsKFUasZlKn3VNTY36Tgo0QI2EPAqXBw3QIwHflpgdnOxyprnfryTjJ5cj/saS/Bpgnk1rtNKf8rq46LGHlIxyaYwBX+HiBYHGUVA8aIA0QJc8vd8Xee33Q4h+NJcGOAJTju2sxOUz+oXYNEBdZcijeHnQAGmAWr0+4CHPAgbrS2mAIzBAIzAV/V1hpREGfIUjY5rduQVbxE4ahZUipwH6IOBr+fHmAuERP7EC5rbHaYJZTDC+aRmijfPc8mHAdxHhBYEGUkw8SqQ/yD3Jq6Rkcq93luUhRGc503IoFMq6Ta7/4H7oc0Meo8fDvNiM4IEpNMAsBmjsux+x346m1WHWW61D8iheHmwBsgWoL998xCN+4mmYO9gKzHTDTPztpYg2PpqmDVlRTFf4kn7M9sl1LPJbubjP9sn1H0yBanqFxIMGyAqt1ekjHvJQfKhhAjo2PMuWoKslGKqfiBtXzqdpQ1Yw4Gss5FG8PGiArNBavT7jcfVcLYx95TRAhwGGP56DztNb03Rhr2DAt0ncmpNH8fKgAfos4ItUmdLRFTZ8fCVa98ynCa5ZDXPnQhifP6YBuUoM+BoIeRQvDxogDVCr16c8Whvnw9y1yNcmGH9vKSJHytHe3pamCecKBnwnDaaENY3i4kED9GnAd4vWWfZlgBscRMvROTB3VvvSBM13F8M4fDduJjuZIXBWBmZMXDS8lUGiAdIA0wTuSwMUCoM3ET32CGIfVPnKBM1d1YgcmWmZn2BgilxXCfLwLo+MA+J2d3dDJgmEw035GBCX+6H5k0d+eLR++RRaamf7wgTllXAtjVXo7UkNgC3PtQ1X72V9rrpPneZHp+5zxPOiuY+EB1uAbAHqyzvysHh0/vAOjPrJaHv9CU8aobzkOhyYjkTzK2nnny0ejYQ8vMuDBsiAr9VNHkM8ei+dQfizGYjumecpE4ztrkLo0CR0R74eOlbnAgO+kwZTwpqGt3jQABnw3frmg84uIm3NGxGqHw9ze3G/NSa+bQlCgUnoOPWy6wh1kQZIHpqALnlJHzRAGqBWN3lk5NF/vRXxkythBKbA3FZcd4qamxcjfHA6YseX4K/2s2nH517hpQDHV6Glzm4hvYKsUM4LDZABP1VD/l2SzvVsHz9XpL6rFywjDNVPQGxXFRLrVxVmenTtizB3LIIRKEPsi2VIdv5indJc51Y2ogFq9ZOHd3nQAGmAWt3kMSIeA70d6Dz9FkKH7kRk3yyYWxbi0tqXxtwMzTer0VL7AEKfTESiecNtj+UnB8+AryVAHt7lQQNkwNfqJo/b5tEV+xbxpmcs04nsn4nYjgWQuywzjbIw2uvaX12B2PYqtNTNQrBhPMwTy3E92pR2DPYKtgBtErfm5OFvHiV2Oss5TyaTkMm5zr3c1dWV9XvZXsavc//OWZbnhZxl9zL3Y0DxIY/C53G942ckftyKlmNzrVHnw/tnILr7QcS2VKLttRok1j/3n4wxse55tG18EubmKkTffxjhuvus/48cnY3Ed5vQ3fa9VWdZb1MaYX1JsZDYSh7pPGiAAwPWQ/9u83WWKZx04TDQpphk00fP5fO4+ucRmN+sQ+vxahiH70GwoRTBQCmMg1MRrpuBSO1MRPbOQvjDckT2ViBSW45w3b0wDkxDMDDe2t44fBcijQvQ3rwWVy40oOfSOXVxxACXOh923c12XuxteCGvufmNB1OgTPnpHAh55IfH4E1IP2LftYtIXj6L3sRPiF34yponO39F37U/MNDTjsG/+4f2J1e6zg7qQz/IsJDrP+Qn7PPS4MjDuzxogAz4Wt3kQR4cAV1pgAaocHjqAokGyICv1U0e5EEDVBqgASocNEDBwVSKFgV5kIcmoEvUB3loArpEfYwND7YAR2Dm7FvR4iQP8tAEdIn6IA9NQJcKSR80QBqgVid5kAdToEoDTIEqHEyBCg422bUoyIM8NAFdoj7IQxPQJepjbHhkHBBXngWRSU7KcFOuwQbld/93YE3uh+ZPHuQxXH2U9dQH9UF9pDSQy6OkvjAFOoLWbCHlrGVfsn2kAuT6MKWjCZEHeWgCukR9eJcHDZAGqNVNHuTBPkClARqgwuGtPsAbff3gRAbUADVADVADftNAid8OmMfLSk4NUAPUADUgGvgHhnzi9/MezOkAAAAASUVORK5CYII=)"
      ]
    },
    {
      "cell_type": "code",
      "metadata": {
        "colab": {
          "base_uri": "https://localhost:8080/"
        },
        "id": "ev-_KIicMmUD",
        "outputId": "ab467960-d370-44c3-fd29-9f820e802129"
      },
      "source": [
        "#5\n",
        "A5 = A @ B5\n",
        "A5"
      ],
      "execution_count": null,
      "outputs": [
        {
          "output_type": "execute_result",
          "data": {
            "text/plain": [
              "array([[ 1.,  2.,  5.],\n",
              "       [ 5., -1.,  0.],\n",
              "       [ 0., -3.,  3.]])"
            ]
          },
          "metadata": {},
          "execution_count": 73
        }
      ]
    },
    {
      "cell_type": "code",
      "metadata": {
        "colab": {
          "base_uri": "https://localhost:8080/"
        },
        "id": "Ht-0hfd-UzxJ",
        "outputId": "27539da0-b5d9-460f-d223-a1403c1abe4a"
      },
      "source": [
        "B5 = np.eye(3)\n",
        "B5"
      ],
      "execution_count": null,
      "outputs": [
        {
          "output_type": "execute_result",
          "data": {
            "text/plain": [
              "array([[1., 0., 0.],\n",
              "       [0., 1., 0.],\n",
              "       [0., 0., 1.]])"
            ]
          },
          "metadata": {},
          "execution_count": 72
        }
      ]
    },
    {
      "cell_type": "code",
      "metadata": {
        "colab": {
          "base_uri": "https://localhost:8080/"
        },
        "id": "5ZYwwC_YU9px",
        "outputId": "0d651097-0527-49ff-a55c-a20547701f3a"
      },
      "source": [
        "np.array_equal(A5,B5)"
      ],
      "execution_count": null,
      "outputs": [
        {
          "output_type": "execute_result",
          "data": {
            "text/plain": [
              "False"
            ]
          },
          "metadata": {},
          "execution_count": 75
        }
      ]
    },
    {
      "cell_type": "markdown",
      "metadata": {
        "id": "-QNiYUj_WIFh"
      },
      "source": [
        "![image.png](data:image/png;base64,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)"
      ]
    },
    {
      "cell_type": "code",
      "metadata": {
        "colab": {
          "base_uri": "https://localhost:8080/"
        },
        "id": "icz2CYlVM4Lz",
        "outputId": "2528b520-e021-4102-a501-59e3324df3ad"
      },
      "source": [
        "#6\n",
        "A6 = np.zeros(J1.shape)\n",
        "A6"
      ],
      "execution_count": null,
      "outputs": [
        {
          "output_type": "execute_result",
          "data": {
            "text/plain": [
              "array([[0., 0., 0.],\n",
              "       [0., 0., 0.],\n",
              "       [0., 0., 0.]])"
            ]
          },
          "metadata": {},
          "execution_count": 55
        }
      ]
    },
    {
      "cell_type": "code",
      "metadata": {
        "colab": {
          "base_uri": "https://localhost:8080/"
        },
        "id": "0d-pPD0iM_rX",
        "outputId": "5a1e5199-a047-4441-9833-08f62e4a8841"
      },
      "source": [
        "B6 = J1.dot(np.zeros(J1.shape))\n",
        "B6"
      ],
      "execution_count": null,
      "outputs": [
        {
          "output_type": "execute_result",
          "data": {
            "text/plain": [
              "array([[0., 0., 0.],\n",
              "       [0., 0., 0.],\n",
              "       [0., 0., 0.]])"
            ]
          },
          "metadata": {},
          "execution_count": 56
        }
      ]
    },
    {
      "cell_type": "code",
      "metadata": {
        "colab": {
          "base_uri": "https://localhost:8080/"
        },
        "id": "--5mQXh8MmHw",
        "outputId": "97e73f1f-554b-4306-f1dc-83bc4a94598a"
      },
      "source": [
        "np.array_equal(A6,B6)"
      ],
      "execution_count": null,
      "outputs": [
        {
          "output_type": "execute_result",
          "data": {
            "text/plain": [
              "True"
            ]
          },
          "metadata": {},
          "execution_count": 57
        }
      ]
    },
    {
      "cell_type": "markdown",
      "metadata": {
        "id": "XJlqK82IWg-B"
      },
      "source": [
        "![image.png](data:image/png;base64,iVBORw0KGgoAAAANSUhEUgAAAcwAAAJ6CAYAAACloHJzAAAgAElEQVR4AeydfbQdVX33zz+u1dW1KF2rVPqH5XkUfAHzVO2q2shLqAF8adGClet7JDVqadqorWKtplaIUbFqlz4N9mkp3CT3VdFIIRgSxYa8QsJNQnJvkhsCuSQBI5DcG7iQgL9n/eacPbO/+8ycOfeemXP3zPnetWbN7Dkzc/b97N/en9n7zEvl9OnTolOjv2effbbRx8FnR48ebbhN2jGYD8RHHuSBBDDF+CAPJIApxkc+PCoEmw9YnkAgV/IgDySAKcYHeSABTPkSHxQmlkvQ29aTiEZ/ab1l3deXAmY+sCTJgzyQAKYYH+SBBDBFYSIPCpM8HAKY5IgMeSABTDE+ys2DwsTypTDJwyGASTaI5IEEMMX4KDePysTEhOikw4xJ01NPPZX4mdlnbGys4TZpx2A+kD95kIepW3FzxgfjIy4uzDrGRz7xwR4mnhCxh0keDgFMsgdBHkgAU4yPcvOgMLF8KUzycAhgkg0ieSABTDE+ys2DwsTypTDJwyGASTaI5IEEMMX4KDcPChPLl8IkD4cAJtkgkgcSwBTjo9w8KEwsXwqTPBwCmGSDSB5IAFOMj3LzoDCxfClM8nAIYJINInkgAUwxPsrNg8LE8qUwycMhgEk2iOSBBDDF+Cg3j8rk5KToZAo6bj4+Pt7wc93n8OHDDbfR+4Lijm3WMR/Vh+CTB3IgD/LQGGD7gXFAHjPDg8Ksva2FDTMGIHlMn8fTvxyVk0c3y/GHfyRP7vl3eeKBr8rhDdfL2L3XyaNr58ujaz4s++74i2D+6D3XytjPr5PD931WnnhgiTy5+2Y5fuCH8uQjP5fJE48mnmTyBBPLhzzIw7RZcfOs4oNDsjiCEDZQzmpI6tM00v74EGckVEYep8YPyvjB2+Xopi/JwTuvkn29r5WR5a+Q4ZV/JLv7rpRdfdfK9t5Py/0rF8vWnptkS8//lc29/yGbe2+VTb23BXNN6/qtPd+U+1d+Wbb3fkZ29s2Xh3rfJcM9fxwcb2/Pq+XhO66UIxs+LycO9Mnzx/cyTjG8yIM8HAKYNBLFtZhqpl2nMJEZKx55OASi5OSvHpTHt90kB+54l+xdca4M975FdvbPl609N8qmvj65b2CzrB8cymG6Xzb1DcrWlV+Tnf0fl+HeSwKRjq56uzxx/1fl2V9ujjJpLTXTAJTxRMZCAIvkATiCR5nimvoU4wOZUJjIg8IkD4vAr+XEwR/Jo2s+KntXnCfDfZfLg33Xy6a+3hykOHXRbuz7gWzv+6Ls6XtnIPCDq98vT+/rlV+fro6AUBBWUYpQEIiDPKbBg8J0oGXVdeeZGYItEo+JQ3fLI3d/SEZWnCsP9X9ItvT+mxeCTOu96vDurv75MrL8XDl453vk2EgfFkJMqkjlEpP9cBXrbYgiWCCPfHhQmMiVPcwO5XH62cflyKZ/lpEVr5Td/e8pjCSTJLq59z/lof73Bz3jw+s/J6fGDzglW01SmIiFPMgDCWCKwkQeFGaH8XjuqV3y6Jr5MrLi1TI08A9y38CGQvQmk0RZv36bbO//soysfL0cvKtLnn0Cf++kIDDgyYM8kACmKEzkQWF2CI/nnnpIDq7+gIz0vFEe6P+Xkkky/vfQrX3fk+G+OfLwHe8OLxSiIDDgyYM8kACmKvpQAp30AoGkKe3lz7pfqy+QZj6QP3nkw+PQw7vk4JpPyPDK18v9fd/uCFG6vc7NvctkT89b5OG7PiiH9m1OrPdar9PqPuM0nzhle4pcfeHBHiaeQLCHWWIeTzz4XRnuPlceHPxyR4rSFee2/m/Inu5z5eiWJU6pR0mVZqM/XlyCdMij3DwoTCxfCrOEPPRG/wM/ulx2D35I7hvYSFk694ruGvyE7B98s0z+cqtT+um3YlAQiIw8ys2DwsTypTBLxuPYzu8HV77e3/89itIRpd3j3Nz3XzKycpYc3fp1iAD2MAFH6r2LFCbyKhsPChPLl8IsEY9H135c9gy8m73KBqK0panLuwc+KAfvukZ+/eKpIBIoTKwQ5NHZPChMLH8KswQ8Xpg8JqO3/4nsHPwMe5VTkKWR59DgP8m+/jfI8yf2sUfl1AcKE4F0Gg8KE8ufwiw4D/29cm/P+bKt/ybKchqyNNLc2r9M9q58pTz16M+diMBk2YbceFsJli95IA8KE3lQmAXmceLIA7J35atka//3KcsWZGmkuamvR0aWnycnH7vXiYooSWFGLHSJPMrNg8LE8mXAF5TH8yf2Bxf36PNUTYPPefwDDKbCRd+Soo8LdJ8QZMKEgjAkqnPyKDePyuHDh0Un7XonTXrTaNJnZv3o6GjDbdKOwXwgf/JonseRsX0yvPIC2dpfjIekT0VYPmy7qW+lDC8/Vw4f2FJXxxmnzcepaSvT2kLdju0pcvWFB3uYeELEHmYBeRxY9U7ZPrCEPcsMhmGTBK235ewfeJMTHRyCdIGwh4lEysaDwsTypTALxuOx/7leHhr8JGWZoyyNRHcMXi+PrJkPEVK2BlF7d43+Ou2qUPLAaKAwkQeFWSAe44+ulpHeCynLNsjSSHNP/5Xy5J5bwyihMEMUwQJ5lJsHhYnlS2EWiIfePrKx7wcUZhuFuWFgXfCOzReef5qCcOqKJilMhFI2HhQmli8DviA8jmz6J9k5+LeUZRtlaXqZDw78kxxa98kgUsrWIHIIEhsA8kAeFCbyoDALwEOf5DOy/FzKcgZkaaQ50vMG0XeKUphYYcij3DwoTCxfNgAF4HF4/efkwf5/pDBnUJgP9H1THvnpPNaXAtQXJ4thMu0CJt2QPcwQV7BQmZiYEJ0UXtKU9hJZ3a/VF3wyH8ifPBJ4PHNSRpa/grKcQVmaXubw8tfI8V/uZ/thtZ2stwn11mLkeqZIfmEPE08geMbsOY+nhm+VXQN/SWF6IMyh/s/Jkc03BnXGCRtIagOZ9seeDBIiDz95UJhYLhSm5zwOrHqH6DNOTS+H89Yffzddhhv618i+vjdQmFad4W+YFowSXjVMYWL5Upge8zj1nA7H8mKf6Qouj/2Ge94kk0+POlGDSfYwyQMJYKpI8UFhYtlRmB7zOPHo3bK7/xr2Lj0YjjXy3dl/nfxq9y1O1GCySA0ih0Kx7MgDeVCYyIPC9JjH0S1fkQd6/onC9EiYW3q+G96T6YROmKQwQxTBAnkUlweFiWVHYXrM4+BdXbKpt5vC9EiYG/pXy/4fXuJEDSYpCPJAApgqUnxQmFh2FKbHPPYPzpYN/Wv9FuaShVKpVMJpziKT37WyeNFUZD/V7Wfu4p+9K851ogaTRWoQOQSJZUceyKMyOTkpOpmru+Lm4+PjDT/XffS9eHH7mnV6f5JZjpszH6eBD3nU89i78pWyfnC7x8LslgWVhbIs7AGulcWz58rim4dk/c1LZU7XFIQ51e3D72y/OEeWvxxi163fbD8wlsmjuDwozNNYeBSVvzxGVvj+wAJLkCAwXV/tdVZ7nCpWtxda3XeObjf7C/J3sH37JWgu6mlmPtxNYZqTBLYf/rYfWjamnOLmzZzIcEgWe9whUGc1JDnEBDiCJ0ThmvpUFkM7OvTXTAM+s9tEctSh2XBI1u4xLumOeqG6fvZSWTXoyNbeHuTrnzy1h9noj/UF6ZBHcXlQmFh2FKbHPPb1zpL7BjYXQJqR1JZ1VWTBkvohWV0f/tYZCtMazqUwIRLTJGN6DLCTk0g7hm6exYmd5qXRH/OBdIrEg8LEsqMwPeYx+qPLZGP/Hf4KM+wtRsJctWhunTDDddpzDPfRHmbxhKknMHt7X+tEDSaL1CBSmFh25IE8KEzkQWF6zOPRtZ+QLT3/119hqgCdq2Qr5kIfFaP+bqlpe5vZC2VBIMoYYZrtPR6S3dQ3IAfuuNKJGkxSmOSBBDBVpPigMLHsKEyPeRzb9W8y1Pcpv4Xpsdzy+G33/p4b5MjGLzpRg8kiNYjsUWHZkQfyoDCRB4XpMY9nfvmgDPe9lcL0SMoP9V8jJx69y4kaTFKY5IEEMFWk+KAwsewoTM95VK+U3UZpeiJNfTfpqecnnajBZJEaRPaosOzIA3lU9N4TnTSok6Z2vOCT+UD+5BHP4+A9H5f7+26iMD0Q5ube/5L9q97F9sNqO1lv4+ttklt0fZH8wh4mnkCwh+k5j2cf3yDDfVdQmB4Ic/fA++Wpff1BnXHCBpLaKKb9sSeDhMjDTx4UJpYLhVkAHvsH3ywb+26nNGdQmvcN/EL2rjyP9aUA9cXJYpjkiUyIIlhohgeFiczYABSAx1MjK2T3wPsozBkU5q6Bv5Yntn2T9aUA9cXJYphsRhDs6Ya4ggUKE3mwASgIj/0Db5RNff2U5gxIc0P/PaIPwtc/PmEHKwx5lJsHhYnlywagIDzGH7lThvvmUpgzIMzdA9fIrx76zyBSKAisMORRbh4UJpYvhVkgHo/8dJ48OPhlSrON0nyg/1/lwKp3hFFCQYQoggXyKDcPChPLl8IsEI8XT40HQ4Mb+35EabZBmhsG7pWRFefJqROjYZRQECGKYIE8ys2DwsTypTALxmP8kdUy0vNHFGYbhDncf4X8avdtECEUBOBg+4E4SsejcvjwYdFJr4ZKmsbGxhI/M/uMjo423CbtGMwH8ieP5nkcuPfLsqv33ZRmjtLc2TdP9v/0b+rqOOO0+Tg1bWVaW6jbsT1Frr7wYA+z5GdEWvka/aVdWl6UHsShny+SXQPXUpo5SHPn4Kfl4N0fig2josSHZj4t1nWbTqkv5FEfzs3EB4XpcGMDgECKxOPhuz8qDw1+nNLMUJo7Bv5eHr7jKgwKK1Wk+GimQaQwrcLlCQTCEBEK00HCBgCBFI3Ho/d8THYPfpTSzECauwb/VkZ/kixLjZSixQdGd32KwkQm5IE8KEzkwQagBDzGfvF3sqf/XbJ+8EGKc5ri3D3wIXlkzfzUYUwKEysMeZSbB4WJ5UthloTH49u/LSM9f8hnzk5RmPoUn+G+OXJ44+IgEtKGMSkIrDDkUW4eFCaWL4VZIh7jh9bI3pWvku0DS9jTbEKc9/d/R0ZWvFKe3tcfRgGFGaIIFsijs3lQmFj+FGbJeLzw3FPy8J3XyJ6B94i+YWN9E+LovG22ye7BeXLgx2+TUxMHIQIoCMDBIWrE0XE8KhMTE6KTVoykqR0v+GQ+kD95ZMvj6PZlMrL8PNnWx0fp2ScE9/d9Q4aXnyePbf56bP1Pq/uM02zj1LTBeq+mWY6bs1yQe7t4sIfpnDHxNwgEUiYeLzz3pOz97w/LSO9s2dz37x3d29zUt0KG+y6TvT++Sk5NPIKFbqW0sW70V6b40P+TV4ViaZMH8qAwkQeHZDuAx7NPbJIDq94uw/3vkE293R0lzk19g7Jn4GrZ/4OL5OTYGgrCiXcKAoGQB/KgMJEHhdlBPCYO3S2jP7os6Glt6f23Uotzc+8tsqf/Stk/OFuOj/4gLGU2iCGKYIE8yAMJYIrCRB4UZgfyePbx9XLwrmtkZOX/ke39X5D7Bu4riTzvl+39X5HhnjfKgZ/8mUyM3e2ULocgXSAUJhIhD+RBYSIPCrODeZw6eUgOrf/H4FYU7Y3d3/utQj78YEvP92R3/18Er+J6bP1n5fnjI06pRkk2iBELXSIP8kACmKIwkQeFSR4BgWeO3CuHfvZXsnfFebKn/0/lgd6vyIb+n3rZ89ww8HO5v/drsrv/Ktm74lx5dM1H5eTY3cFVlk5x1iUpCERCHuSBBDBFYSIPCpM8HAIizz6xUY5s/EfZP/hmGVnxGnmo/wPyQM8S2di/akYEurH/Ttna8w3Z1f8RGVn5B7Kv//Xy2Pq/l2eO/BzynnaFq25MQQAy8kAc5OHwqExOTopO5vLwuPn4+HjDz3UffS9e3L5mnd6vZZbj5szHaeBDHn7yeGb8l/LUgR/L4fv+QUZ/NFdGlr9ChnveLLv63i/beq+XLT3flY19P5T7Bja0JNP7BjbLxv4fi16MtK3nC7Kr70My3POW4Pv2//ASOXTvp+XJ/YPy3MnHIW7susV6izFEHuRh1w93uZn4oDBPYxBRVOThViQ7HRcfkycekROPrpYnHvy2HPrZdbL/x2+XfX1/EMgtEOrK18menotkd+8Vsrv3z+Sh3j+X27/xVrn/1itld69OV8ienotleOUbwn329rxWDqx6mxxa9wl5YvtNcuLgHTL59Ggox7h82PnU5WYaAJ7oYryTB3m49chOc0jW6XIbOM5qSHKoC3DwtzLEUcfjheefDh4O8NxTD8nksQdE7wOddf4r5NjBdTJ57H557qldcmr8oOiDFcxfWowxTg2p6pw8yAMJYCqr+KAwkWt4Bu+shmRaY6Yb87chQEYeiENmzZolJ0+edNZGybQYy6oBYJxGzHWJPMgDCWCKwkQeFCZ5OAQwmZWoKEzkSlGRBxLAlC/xQWFiuVCY5OEQwCSFmQ8PXxpE5gPLlzyQB4WJPChM8nAIYJLCzIcHG2bkSh5+8qAwsVwoTPJwCGCSwsyHBwWBXMnDTx4UJpYLhUkeDgFMUpj58KAgkCt5+Mmjovdq6aRX5SVNaS/n1P1afeEp84H8yaPcPPSin2PHjk27zjE+yh0fbE+xfH3hwR4mnsiwh0keDgFMsoeZDw/2qJArefjJg8LEcqEwycMhgEkKMx8eFARyJQ8/eVCYWC4UJnk4BDBJYebDg4JAruThJw8KE8uFwiQPhwAmKcx8eFAQyJU8/ORBYWK5UJjk4RDAJIWZDw8KArmSh588KEwsFwqTPBwCmKQw8+FBQSBX8vCTB4WJ5UJhkodDAJMUZj48KAjkSh5+8qAwsVwoTPJwCGCSwsyHBwWBXMnDTx4VfWGqTlpASZPeNJr0mVk/OjracJu0YzAfyJ88ys3jggsukAMHDiTWGdYXLH/yIA/jmrh5u+KDPUw8kWEPkzwcAphkDzMfHtoINvrj+0GRDnnMDA8KE7lTmOThEMAkhZkPDwoTuZKHnzwoTCwXCpM8HAKYpDDz4UFBIFfy8JMHhYnlQmGSh0MAkxRmPjwoCORKHn7yoDCxXChM8nAIYJLCzIcHBYFcycNPHhQmlguFSR4OAUxSmPnwoCCQK3n4yYPCxHKhMMnDIYBJCjMfHhQEciUPP3lUJiYmRKekl0fr+na8QJr5wBemkke5ebT6AmnGR7njQ+8rbKVNZnzkEx/sYeKJDHuY5OEQwCR7mPnwYI8KuZKHnzwoTCwXCpM8HAKYpDDz4UFBIFfy8JMHhYnlQmGSh0MAkxRmPjwoCORKHn7yoDCxXChM8nAIYJLCzIcHBYFcycNPHhQmlguFSR4OAUxSmPnwoCCQK3n4yYPCxHKhMMnDIYBJCjMfHhQEciUPP3lQmFguFCZ5OAQwSWHmw4OCQK7k4SePyuTkpOhkGoK4+fj4eMPPdR99f2Pcvmad3hdkluPmzMdp4EMe5eah92EeP34cytyuF6wvWP7kQR52/XCX2xUfFOZpDESKijzcymins4oPChPjjCfc5GHXM3fZl/jgkCz2/MMzfmc1JNNe3qobc0gFkJEH4hAV5smTJ521UTItxkyDEu1Rv5R2DN2DcYrcyIM8kACmKEzkQWGSh0MAk1mJisJErhQVeSABTPkSHxQmlguFSR4OAUxSmPnw8KVBZD6wfMkDeVCYyIPCJA+HACYpzHx4sGFGruThJw8KE8uFwiQPhwAmKcx8eFAQyJU8/ORBYWK5UJjk4RDAJIWZDw8KArmSh588KEwsFwqTPBwCmKQw8+FBQSBX8vCTR0UfSqBTKy8r1X1bfeEp84EvPCWPcvPQq2SPHTuWWO/SXtrO+Ch3fLA9xfL1hQd7mHgiwx4meTgEMMkeZj482KNCruThJw8KE8uFwiQPhwAmWxHm6tWrZdu2bcEBzX2Yw8PDcsstt+CXiAQ9z7qV1opW8mEdhg8usGHwQQ4ODT7YwgVCYTpE2BAhEPLIjscll1wiZ555psybN0/OOeccmT9/fpA+//zz8UsoTPI4erSOgb0i7SlOrLc2LcmsI0RhItfMwHJIBcGSh8iOHTvk7LPPlkqlEohS52eddZasW7cOYVGY5EFhQgz40n5QmFAs2Z2J+FLAzAcW8Ezz0F6litJMl19+OWawlmIPArGQB3kgAUy1Kz4oTOTOHiZ5OAQw2epQ19DQUNjLTOpd6je2qwGY6RMIQ5f5MCSqc/LwkweFieVCYZKHQwCTrQpTj3bttdcGPcyk3qVuQ2Eid/IgDySAqXbFB4WJ3ClM8nAIYDILYWov87d+67dk7dq1eHAr1a4GgD0ZCzqvkkUY5FHHo6Iv5tRJK07SpDeNJn1m1o+OjjbcJu0YzAfyJ498eAzftVD23/mhxGnvf38g8TPdb99/fzCYWjmG7ju86n0Nv6dQ+bjzoy3VfW1D2H5gvJOHnzzYw3TOIbLoQeghtRFo9MceBNJpB4/JX22XPctfL5t7/x+njBjcv/JLsn/wj7AwnVRa2ermrC8IjTz85EFhYrlwSLbEPI49+DV5YOXnZP3gEKeMGGxb+Wk5tuNbTtRgksIkDySAqSLFB4WJZUdhlpjH6O2Xysa+2ynLjGSpJx7DvRfJM8d2OlGDySI1iOzZYdmRB/KgMJEHhVlSHjocO9w3l7LMUJab+vpk9MdvC+qMEzaQpDABR+oV0Lo1RYXMfOFBYWK5UJgl5VEdjr2ewsxQmGY4Vn/3b/RHYSId8iguDwoTy47CLCkPDsdm/7utGY6lMKNKw4sGIxa6VDYeFCaWb+kK2JehjJnMB4djs5elDsceWPV21he2Hw4BTJZOmBMTE6KTDhMkTWkvs9X9Wn3BJ/OB/MkjOx5Ht97Aq2MzHIrVi310OPbx7d8M2g62H1Gsst5GLNQLZePBHiaeEPGMuYQ8OBybfQ9Th2Ofe3o360sJ64v9L83kyJCP+aAw7VIp4Zh7pwc8h2Ozl6UZjtWqU7Yht06vL05zyKt1HSAUpgOEDQACKToPXh2bvTB1OPbJXd8JAqXo8YHRzts5yMMlgGkKE3nwjLlkPDgcm70wzXCshgqFiRWGPMrNg8LE8mUDUCIeHI7NXpb2cKyGCgWBFYY8ys2DwsTyZQNQIh4cjs1emPZwrIYKBYEVhjzKzYPCxPJlA1AiHhyOzV6Y9nCshgoFgRWGPMrNozI5OSk6mYKOm4+Pjzf8XPfR9zfG7WvW6f04ZjluznycBj7k0RqPk49vlT19b+Wj8DK8/9J+dqypw4zT1uLUcHTnbE+Rqy88KMzTWDBsAMrB44ltX+XDCjKUpXlYgb7Ky27cWV/KUV/sMrWXfRGVL/ngkCyOIISNgbMakvoEi7Q/3s+FhNrNg8Ox+Q/HagmbxhVLG1OsL+SBBDBVpPigMLHs2ACUgAevjs1elu7VsSZMKExDojonj3LzoDCxfCnMEvDg1bHZC9O9OtaECQVhSFTn5FFuHhQmli+FWQIeHI7NXpju1bEmTCgIQ6I6J49y86AwsXwpzILz4HBs9rJMGo7VUKEgsMKQR7l5UJhYvmwACs6j+eHYblkwe6msyupK0iVLZfHNGcoq4XirFs2VBUsy/J4m/v+k4VgNFQoCKwx5lJsHhYnlywag4Dxmajh2WdfcTIWZ9fH0tpDpTknDsRoqFARWGPIoN4+KPpRAJ720N2lqxwukmQ/kTx5T5/HLh++VPb3NPqzA9DDXyuLZc2XO7IpUKjotlGWBXPTzhbLArDe90SULZc6itTX51I6xZKGzr5ETHkP3W9ZV+56u7uoxbl4qc4Lvra4Peo9wPD3G3Oo2Xd0S9TA13ybPRtZx64ZkfXg8+/8zeWw81+HY/T+6IrFtYJxOPU7ZniKzIvFgDxNPiHjGXGAeR7feIA+svL7JnlRNdoNVyZhhThVadblbFlSMiIYC0RmZ1QlzUD+Pto16cvYxdNk+dlXMq5Z0R8PCKraaSKPj6X5G4kOhMFWcZttAiDWZQt5q+0XHaizHKN/Rdo2GYzVU2KPCCkMe5eZBYWL5sgEoMI99P7hENvbdPg1h1gtp/aARak0epmdp5mEvtPo7aLyU7GPY4lNJm++0e4WVUILR8exjoDCN5I3owt5r2GOtSRx6seZ7Iyma/ePme3ovkuee3u1ERZSkICIWukQe5eZBYWL5MuALykOvjm1+OFZlYURkyysSUvB5Qg8z7NmpiGpDtZHgbBGZ76h9X9hTjL4T9kvqYZrh4MEof9rDDHuTtXzcaq9L+M0S9kvYxojTDMc6IQFJCgJwsP1AHKXjQWGWvIDb/Ug6B2eYzDsf1atjP9dk77JJYdq/YZrfHFW0pgcX/PZpepj6+6A7LJsuzGBo1RyvS38zdY9nHyMS5vraUHL1d1fzvU5vNRySNb91Tu03TB2OfXz7N8MyjFugMJEKeZSbB4WJ5Vu6M6K8RaX4fHgWZPZXx6KoTK+rk+Z6deyJo9udGoJJCoI8kACmyhYfFCaWL4VZQB75PKygs4VpHlaQdjJUtgaxU04wtZqnla1uQx7YIFKYyIPCLCCP5h9WYP++yOVGvWVzdWxao0phYoUhj3LzoDCxfCnMAvLIfjiWMjUPK6AwsUKQR2fzqOiLOXXSrnfSNDY2lviZ2Wd0dLThNmnHYD6QP3k0x+OxkTWyu+fSKVzsQxk26lnqZzocO/KDuUF9Zr3FOCSPzubBHiaeMLGHWTAeHI7N/gTADMdqKLBHhRWCPDqbB4WJ5U9hFowHh2OzF6YZjtVQoCCwQpBHZ/OgMLH8KcwC8cjn6tjsBZQ2BOrT5+bqWBMGFIQhUZ2TR2fzoDCx/CnMAvHgcGz2creHYzUUKAisEOTR2TwoTCx/CrNAPDgcm70w7eFYDQUKAisEeXQ2DwoTy5/CLAgPDsdmL0t3OFZDgYLACkEenc2DwsTypzALwoPDsdkL0x2O1VCgILBCkEdn86hMTEyIThoISVM7XvDJfCB/8mjMY2qv8speLj5dqJNVXvRVXvrsWLsdSKv7jNPGcc7AOM4AACAASURBVGqzNMtpTHU7vd/TbB83TzsGyyWfcmEPE0+Y2MMsAA8Ox2Z/AhA3HKuhoI11oz8+Cg7pkEe5eVCYWL4UZgF4cDg2e2HGDcdqKFCYWCHIo7N5UJhY/hRmAXjw6tjsheleHWvCgIIwJKpz8uhsHhQmlj+F6TkPDsdmL8uk4VgNBQoCKwR5dDYPChPLn8L0nAeHY7MXZtJwrIYCBYEVgjw6mweFieVPYXrOg8Ox2QszaThWQ4GCwApBHp3Ng8LE8qcwPeZx8vGtMtw3l6/yGsxOmo2GYzUUKAisEOTR2Twqk5OTopO5HDpuPj4+3vBz3Uff3xi3r1mn9wWZ5bg583Ea+JBHPY+j998oD6z8HIWZoTC3rfyUHNvxLYg9u36y3mIckkdn86AwT2MAUFT+8tjX/4fyUM87ZFff++Kn3q749db2O3uuabxN6jH0O1K+J/UY75Pbv/E22XrbXyTnJfUY2eRjd/dr5JljOynMWjvAE3+s/+SBPDgkiyMMYcPhrIZk2rCMbnz06FHYx02kHcOc5bv72em0Y+i2ZcrH+KF75JnDP0ucnjq4OvEzs9/YQz9ouE3aMTQPWeRj1vkvl1/uvysxL+3Kh/Jo9JcWY4xTpEce5eZBYWL5Upjk4RDAZFYN4qxZs+TkyZN4cCtFUVkw+FsqwiCPGeNBYTros2oQy9SzUyaN/tIad92XPJAghYk8GB/kgQQw5Ut8UJhYLuxhkodDAJNZnVBRmMjVlwaR+WC5IAFMUZjIg8IkD4cAJinMfHhQVMiVPPzkQWFiuVCY5OEQwCSFmQ8PCgK5koefPChMLBcKkzwcApikMPPhQUEgV/Lwk0dFH0qgk164kTSlvaxU92v1hafMB/Inj3Lz0N8wjx07Nu06x/god3ywPcXy9YUHe5h4IsMeJnk4BDDJHmY+PNijQq7k4ScPChPLhcIkD4cAJinMfHhQEMiVPPzkQWFiuVCY5OEQwCSFmQ8PCgK5koefPChMLBcKkzwcApikMPPhQUEgV/LwkweFieVCYZKHQwCTFGY+PCgI5EoefvKgMLFcKEzycAhgksLMhwcFgVzJw08eFCaWC4VJHg4BTFKY+fCgIJArefjJg8LEcqEwycMhgEkKMx8eFARyJQ8/eVT0BaE6aQElTXrTaNJnZv3o6GjDbdKOwXwgf/IoN48LLrhADhw4kFhnWF+w/MmDPIxr4ubtig/2MPFEhj1M8nAIYJI9zHx4aCPY6C/tFXJZlQvzgaVAHsiDwkQeFCZ5OAQwmVXDzNd7IVc2zOSBBDDlS3xQmFguFCZ5OAQwSWHmw8OXBpH5wPIlD+RBYSIPCpM8HAKYpDDz4cGGGbmSh588KEwsFwqTPBwCmKQw8+FBQSBX8vCTB4WJ5UJhkodDAJMUZj48KAjkSh5+8qAwsVwoTPJwCGCSwsyHBwWBXMnDTx6ViYkJ0Snp5dG6vh0vkGY+8IWp5FFuHq2+QJrxUe740PsKW2mTGR/5xAd7mHgiwx4meTgEMMkeZj482KNCruThJw8KE8uFwiQPhwAmKcx8eFAQyJU8/ORBYWK5UJjk4RDAJIWZDw8KArmSh588KEwsFwqTPBwCmKQw8+FBQSBX8vCTB4WJ5UJhkodDAJMUZj48KAjkSh5+8qAwsVwoTPJwCGCSwsyHBwWBXMnDTx4UJpYLhUkeDgFMUpj58KAgkCt5+MmjMjk5KTqZhiBuPj4+3vBz3Uff3xi3r1mn9wWZ5bg583Ea+JBHuXnofZjHjx+HMrfrBesLlj95kIddP9zldsUHhXkaA5GiIg+3MtrprOKDwsQ44wk3edj1zF32JT44JIs9//CM31kNybSX2erGHFIBZOQhIqdOnQqh2O/DPHLkSLjeLKTFmGlQzPZx87Rj6D6MUyRHHuSBBDBFYSIPCpM8HAKYbEVUV1xxhVx55ZWybds2UWFu375dPvjBD8ob3/jG4PGT9jelya6VfNjfQ0HYNHgCgTTIw+VBYTpE2BAhEPLIjsett94qv/EbvyG/93u/F8zPOusseclLXiL//M//jF8iEjxHtG6ltYLlYsEQ4Yku4iCPnHhQmDmB5Zk7giWPKo9Xv/rVUqlUwumlL31pXe9St2QPE+OHPMgDCWCqXfFBYSJ3npmRh0MAk6327LSXecYZZwTC1N7mjTfeiF9QS7WrAeCJDOInD/JAApiiMJEHhUkeDgFMtipMPZrpZf7u7/6uPPnkk/gFtRSFiVjIgzyQAKbaFR8UJnKnMMnDIYDJLISpvczf/M3flBtuuAEPbqXa1QCwR2VB51XDCIM86nhU9KEEOmkFTZra8QJp5gP5k0c9jycPbZTjh7ckTr88+D+Jn5n9Ht3z04bbpB1D85BFPj720avl4O57EvPSrnxkxeOZ8WNsP559NmhL2Z5Gdbds7Rh7mM45RBY9CD0kz9wRbBY89i4/R4Z7Lkyc9qx8S+JnZr/dK2Y33Cb1GCsvlGGdmI8qg5UXyshtvy8vnprAArdSab1l1hcLVm0xi/qibVmjP5YL0mmGB4WJzDgk6zEPFeZ9Axtl/eAQJ48YUJhRpeEJd8RCl8rGg8LE8i1dAZfpTJXC9PNEgcKMGpGyCaJM7UcWPW4KM4r1YIkBj0B84kFhUpgYnVHKpzjNomGmqKKy1SVfeFCYWC7sYXrMg8KkMJ3wDJMUZogiWCCPfHhQmMiVwvSYB4VJYTrhGSYpiBBFsEAe+fCgMJErhekxDwqTwnTCM0xSECGKYIE88uFBYSJXCtNjHhQmhemEZ5ikIEIUwQJ55MOjoi/m1El/VE2axsbGEj8z+4yOjjbcJu0YzAfyJ496HiO3vYy3lXh0O4m5vWf41pfJkbHk+p9W97UNYfuB8U4efvJgDxNPRNjD9JgHe5jsYTrhGSbZowpRBAvkkQ8PChO5Upge86AwKUwnPMMkBRGiCBbIIx8eFCZypTA95kFhUphOeIZJCiJEESyQRz48KEzkSmF6zIPCpDCd8AyTFESIIlggj3x4UJjIlcL0mAeFSWE64RkmKYgQRbBAHvnwoDCRK4XpMQ8Kk8J0wjNMUhAhimCBPPLhQWEiVwrTYx4UJoXphGeYpCBCFMECeeTDozIxMSE6Jb08Wte34wXSzEf00lVlTh71PEa6f5/3YXp4H6a+rWSmXyDN+lJfX9iuR0yyig/2MPFEhD1Mj3m4PcxlXRWpVBbKMksiqxbNrVtnbrAP50uWyuKb63truu+CJfXrw/2s7zHrlnXNdY61VhbPdtdZx1yyUCoVzXcl4bt0/4pUZi+VVdb3Bf+rs87kIZzn8n/V8tMgz3y9V1Rp2LOLWOhS2XhQmFi+pStgfYpKo7+0t4z7FPD1wpwrc2bb4qnKas5slGgolJqA6iVnCc2SlLtfXBqP1S0LArEkCVPzV8vbzUtlTld3zIuwzf9gH6NbFszW/xUl6uYH8zL9/0mPa46lJxFzFq2t5VP/v3q2FGZUw3yqL5qXRn9pdV/3LVP7kQUPCtOJKAY8AvGJR5wwFy9aKBUjnkBCSyMpDRqBVXt0QcMf9vC04Tdyqvbobq31MLU3ZyQR9FjN8WNkasSiklm1aGl4zLgebCC48PttIdpyq0p1sS2qJQtlzqKlssAIU//PWo8v7KmGx9X/qyZY3aarW0zPebr/VyRmS/gWCwozqjM+1ZcsBEFhRmWrSxQm8mAP02MescK8WeVQ7XlVxWA16ku6o+FalUxtu0hyVWEauRmxhD0sW8aWICKBRD2xaB0eM1qvUqwKfI72FsNemy1LXa7l3+qBVvNr/Z9LuqPhWhVlTejR/4U9wez+L7s3H+WbwowqDYUZsdClsvGgMLF8S1fAZTpDjBemEdRaWdyl4qwJpya46u+c1R6m+V0wEgtua4ulKrf64UcU4NSEGX1vdb8FXXND2UXHNXky0uuWBYEQI2FWpVr7n2q9SN0/Or69rfZ87d9mzXEj4UXfHa2LjqXrdJ+kHvGQUJhRI1I2QZSp/ciix01hRrEeLDHgEYhPPOKFWRXCnK6FsiDotRnhOKJI7GFGUozEoseYK4uXRL1SWyoq4erFQbXt4AKiuHVVEdlDoskSivIffI/+X8GFSJEEQWZJPUwzfBsMFRthTuP/CoZ/I0Y2B7NMYUZ1xqf6koUgKMyobHWJwkQe7GF6zCNJmOuDRt30gCLhrA9/19PfKBfKgtoFN9Vep25vbRuKRdel/IYZfF+th1f3+2ZNSiBR03PTnprpGer3x/XcrDwF+TeyioSpYjdX2lZUqOFQsx67dtw6YU7v/6qyMnnWucmP+Z/Yw7SrDIVp0yjhkOzk5KToZAo6bj4+Pt7wc91H398Yt69Zp/fBmOW4OfNxGviQRz2Pvd3n8D7MhN9STW9vJubaw3x+8mmIX7uOs/3AWCaP4vKosGHGwiMPf3lQmFGvbibEmPSdFGZUZ9h+RCz0pKlsPDgkiyMI4VmysxqSvH8JcARPicI19aksfgtxh2STGnCub69Y+RtmFO+mZx2tqV9i+4FMisSDwsSyozA95kFhtleEzZ54UJhRpaEwIxa6VDYeFCaWb+kKOIuenQZ9o792nSFSmBRmUhyWrWEuU731pf3IIh8UplMDWfEQiE882inM6OrQ+qtCqz2v6lWn5t5O0xsL9rOuUDXr7Xn1iUCu/KyrY5u+sMfep5af4Cpcc8Ww+x35pNnDjOqMT/UlC0FQ3FHZ6hKFiTzYw/SYR9uEqbeN1G4Xie7NdGWjgtLnu9py0ls/0p75akvOPeZU09axgsfn1Z75at2baYs6r2UKM6o0FGbEQpfKxoPCxPItXQGX6QyxbcIMnppTu/cwsbdYldVUn/ka3kMZHLcm2OBpPd+tPQNXj2sejKBP74nuCa0XniVMu1dKYTq1upps108H7NlF+CnMiAUslalhZsBHRetTwLdNmMEDA9zeo9v7q8nK6o1Wn8BjPWAg9pmvtuTsx9TZ66vLIGNbiOGyvY/mT9Pm4QVufvNLs4fpZ31hO5Z9uVT0Jlqd9OwraWrHC6SZD+RPHvU82vMC6Uh4wePrgicERT2+qJdnZGWk1+wzX81+KjD7u+z1QxI8vSixd2vk5+yTKFKzfT5zFeZMv0Ca9aW+vrBdj5hkFR8cko1OQoIln3pUPEOMCkdZtKeH6TyuTnubseKKZKXDpguafuZrtF+yMGsSjh1a1f3N76ZG1rXn6YZvQInWR4LPR5Z6fPYwMU5Zb8vLg8KMyjZYojARiE882iPMIcFn0C6VVbHStMQXDOGaq2mjXmP4e2XwG6V55qvuZ57JGm0bvtar9gqw6gPXE37DDL6v+htr9Jowc9zqerM/hRnFM3/DjFjoEnlMnQeFicx40Y/HPNomzHBoM79eWTtE1q7vYA8zqjQ+nWCyp5t9uVCYEdNgiQGPQHziQWH6KXAKM6ozPtUXCjP7cqEwI6bBEgMegfjEg8KkMDE6o5RPcUpRlbdcKMyobIMlVjwE4hMPCpPCxOiMUj7FKYVZ3nKhMKOyDZZY8RCITzwoTAoTozNK+RSnFGZ5y4XCjMo2WGLFQyA+8aAwKUyMzijlU5xSmOUtl8rhw4dFJ31ST9I0NjaW+JnZZ3R0tOE2acdgPpA/edTzGLntZXLfwEZp19Wf/J7mBD1868vkyFhy/U+r+9qGsP3AeCcPP3mwhxmdDAVLPFNFID7xYA+zOYG1W/S8SjaqMz7VF/Z0sy8XCjNiGiwx4BGITzwoTAoTozNK+RSnFFV5y4XCjMo2WGLFQyA+8aAwKUyMzijlU5xSmOUtFwozKttgiRUPgfjEg8KkMDE6o5RPcUphlrdcKMyobIMlVjwE4hMPCpPCxOiMUj7FKYVZ3nKhMKOyDZZY8RCITzwoTAoTozNK+RSnFGZ5y4XCjMo2WGLFQyA+8aAwKUyMzijlU5xSmOUtl8rExITolPTyaF3fjhdIMx/Ry06VOXnU89AXSG/qG+DkGQO9rWSmXyDN+lJfX9iuR0yyig/2MKOToWCJZ6oIxCceB26fIwd+dGniNPrDSxI/M/vtHbiw4Tapx9A8ZJCP913+e7Kr9+LEvLQrH1nxePHUBAaOleJ7Fy0YfA8lwigYDwrTKT6fBMGhnahwylYus2bNkpMnT0b/oLOUJpmy8dCn/TT6Iw+kQx4zw4PCRO58gTR5OAQwmZWoKEzkSmGSBxLAlC/xQWFiuVCY5OEQwCSFmQ8PXxpE5gPLlzyQB4WJPChM8nAIYJLCzIcHG2bkSh5+8qAwsVwoTPJwCGCSwsyHBwWBXMnDTx4UJpYLhUkeDgFMUpj58KAgkCt5+MmjMjk5KTqZhiBuPj4+3vBz3Uff3xi3r1mn98GY5bg583Ea+JBHuXnoRT/Hjx+HMrfrBesLlj95kIddP9zldsUHhXkaA5GiIg+3MtrprOKDwsQ44wk3edj1zF32JT44JIs9//CM31kNybR7oHRjDqkAMvJAHMLbShAI6wt5IAFM+RIfFCaWC4VJHg4BTJozX1yLqWZOqChMZOZLg8h8sFyQAKYoTORBYZKHQwCTFGY+PCgq5EoefvKgMLFcKEzycAhgksLMhwcFgVzJw08eFCaWC4VJHg4BTFKY+fCgIJArefjJg8LEcqEwycMhgEkKMx8eFARyJQ8/eVCYWC4UJnk4BDBJYebDg4JAruThJ4+KPpRAJ72yL2lqxwukmQ/kTx7l5qFXyR47dmzadY7xUe74GBsbS4wNbafT2mTGRz7xwR4mnsiwh0keDgFMsoeZDw/2qJArefjJg8LEcqEwycMhgEkKMx8eFARyJQ8/eVCYWC4UJnk4BDBJYebDg4JAruThJw8KE8uFwiQPhwAmKcx8eFAQyJU8/ORBYWK5UJjk4RDAJIWZDw8KArmSh588KEwsFwqTPBwCmKQw8+FBQSBX8vCTB4WJ5UJhkodDAJMUZj48KAjkSh5+8qAwsVwoTPJwCGCSwsyHBwWBXMnDTx4VfTGnTlpASZPeRJv0mVk/OjracJu0YzAfyJ88ys3jggsukAMHDiTWGdYXLH/yIA/jmrh5u+KDPUw8kWEPkzwcAphkDzMfHtoINvpLe8doVuXCfGApkAfyoDCRB4VJHg4BTGbVMPMF0siVDTN5IAFM+RIfFCaWC4VJHg4BTFKY+fDwpUFkPrB8yQN5UJjIg8IkD4cAJinMfHiwYUau5OEnDwoTy4XCJA+HACYpzHx4UBDIlTz85EFhYrlQmOThEMAkhZkPDwoCuZKHnzwoTCwXCpM8HAKYpDDz4UFBIFfy8JNHZWJiQnRKenl0My8r1W30PphWjsF84AtPyaPcPFp9gTTjo9zxwfYUy9cXHuxh4okMe5jk4RDAJHuY+fBgjwq5koefPChMLBcKkzwcAphsRZirV6+Wbdu2BQc092EODw/LLbfcgl8iEozW1K20VrSSD+swwZOG7LS7rKNGjf6YD6RDHuXmQWFi+VKY5OEQwGQrDeIll1wiZ555psybN0/OOeccmT9/fpA+//zz8UsoTPLgk48gBnzpcVOYUCxCYZKHQwCTrQhzx44dcvbZZ0ulUglEqfOzzjpL1q1bh19CYZIHhQkxQGECDorKwUFxO0BaEZV9qJmueNqrVFGa6fLLL7ezFy5zKDREESyQB3kgAUy1Kz7Yw0TuFBV5OAQw2aq4h4aGwl5mUu9Sv7FdDcBMn0AYusyHIVGdk4efPChMLBcKkzwcAphsVZh6tGuvvTboYSb1LnUbChO5kwd5IAFMtSs+KpOTk6KTaQji5uPj4w0/1330/Y1x+5p1et+YWY6bMx+ngQ95lJeHXil7xhlnyJo1a6DM7XrB+oLlTx7kYdcPd7ld8UFhnsZApKj85XHwrmvkkdVdidPDd/5F4mdmv32rrmq4zcN3vrfh55oH5iMqA8Pj+cmnE+XPE26sU+RRXB4cksWefVjpndWQTOv+68b8DQKQZcJj7/JzZEvvMk6eMRi57fflxVMTWOBWivXFgtHEcLtuzfYDmfnCg8LEcqEwPeahwrxvYKOsHxzi5BEDCjOqNGaoMFpTv8QTCGRSJB4UJpYdhekxDwrTzxMFCjOqNBRmxEKXysaDwsTyLV0B+zKUkUU+KEwK06muYbJsDXMW9UWZNPorUs/OFx4UphNRrHgIxCceMy/MtbJ49kJZ1uxw6JKlsvjmeMmtWjRXKl3dOLR881KZYx5qMHuprGr2e2Z4O/YwozrjU32hMLMvFwozYhosMeARiE88iibMZV1zE4TZLQsqC2UBfI4yVqEuWBIvW99+w6UwozrjU32hMLMvFwozYhosMeARiE88/BWmCtA87q7WA12ysPb4u5ge6ZKFMmfRWllv5tpD1N5l11JZPLt2nJgeZtArDb+nup0PUqUwozrjU32hMLMvl4reE6STjmcnTU899VTiZ2afVl/wyXwgf/Ko5zHS/fszfJUs9gJNT29ZVyXqDar4arKL72HqMUzP0zpeMBxr1g+JyjGQ6gwPt5r/sdFchfnM+LHENoLtB8YyeRSXB3uY0UlIsMQzRATiEw8/e5gqPdO7NPNqrzJWmPbvlLXeYtBLDHqY1m+a2kN1fuNkDxNj0075FKfs2UUlU7ZyoTCjsg2WylbAvlxdlkU+/BTmkEAP0+oRxgmzbtuwR2r3PKvHLFIPkw8uqDYkbD+wQS0bDwoTy5e3lXjMww9hml5kbR70Au3fMCtSCYdkdZtomHX9YPViH/cq21Cidu8z5jfMRsOiM/kZf8OMKk3ZBJHFia4yafRXpNtbKEynJBnwCMQnHjMvzGJctdpueVKYUZ3xqb6USVS+iJvCjGI9WGLAIxCfeFCYfgqbwozqjE/1hcLMvlwozIhpsMSARyA+8aAwKUyMzijlU5xSVOUtFwozKttgiRUPgfjEg8KkMDE6o5RPcUphlrdcKMyobIMlVjwE4hMPCpPCxOiMUj7FKYVZ3nKpHD58WHTSH1WTJn0oQdJnZv3o6GjDbdKOwXwgf/Ko5zFy28tm+MEF0xVWtyxwr3p177scTL49Jf4inphjWre0xO/TZP7tJxA1cczhW18mR8aS639a3dc2hO0Hxjt5+MmDPczoZChY4pkqAvGJR1F7mHH3Y1YfhWceVBA9/KD5R93lKMxBfdLQwoTn4NZLlxf9RHXGp/rCnm725UJhRkyDJQY8AvGJR6IwtUc0e27t2a2V8JFywQPMu8wzXa3H15lek33foz51p9YLtJ+oEz48wPoOlZq9TfhEHjieuf8yQWx2D7P2VpPwfkyTPzNPPO5CWWCeMmR6sLCt+Z+rj+Bb0GXuIY2eb2v/H+H/qt9r58/kI2FOYUZ1xqf6QmFmXy4UZsQ0WGLAIxCfeDQSppFd0NDb4jOPl1MBGKnUNfzWU3ac7UKJ2Y+qC6QUScdsEwjafcNI0vBmjJDMcdzh1NjjBg9BMFKO8r9qSXf0WrAwz9UerOm96vECOSb9rwGfBNHXsRsSCjOqMz7VFwoz+3KhMCOmwRIDHoH4xKORMKPeUdTQo2iqvSz3KTvrByPZBKIK3zJiemO1HqstPkd2oYACiZn9ajKz97Nl4xxDvztJmNUnBDnH1e+yTgCiYd+qHCvmrSbBCYPzv5vvTvpfjTAr0UmBK3E7TWFGdcan+kJhZl8uFGbENFhiwCMQn3hMR5gwXGoJptrgO7JUUTi9rlAMtvh0G0smsaIzvTt3P5MH87kl0djjWJ8HeQn3ixdmJM6h4PVh1f+/KtG0Hmb4vxphmry6eXDSFGZUZ3yqLxRm9uVCYUZMgyUGPALxicd0hLkg/A0zZvhyUfS7Z7VHVu1RaY8x7KFVar8D2uILLoqxtqkN++J+5vtcsbk9xegiGhRmJPPmjlv9Pti2S3/jXCqrgl60vrC69t2WCGF787+qEE0v1O2BO7JUyVKYUZ3xqb5QmNmXC4UZMQ2WGPAIxCceicKMacS1IVcZmF4V9p4iSbVjPfT6EvKabz6cIdkm8mDneVlX46FZCjOqMz7VFwoz+3KpTExMiE7mRdBx83a88JT5wJeqkkc9j6m+QNoXYQa/QVq9unzlGHcyMEVhOr3ptPyqMGf6BdKsL/X1he16xCSr+GAPMzoJCZZ4hohAfOIx1R5mWkPPz+PkOvV17GFGdcan+sIeZvblQmFGTIMlBjwC8YkHhTl1mbXjpIDCjOqMT/WFwsy+XCjMiGmwxIBHID7xoDApTIzOKOVTnFJU5S0XCjMq22CJFQ+B+MSjTph19xGaK1NVLNVbKapXu9rrpycd+yKYoNeWdPuJc0FN+u+oa2XxIvOIPPvq1Onlsx09Svc72MOM6oxP9YXizr5cKMyIabDEgEcgPvGIE2b0wAL7vkPnCtnwFonpSwiEaUTdxIU8qcKEvE3x4hxHzq7I2pWmMKM641N9oTCzLxcKM2IaLDHgEYhPPJoRZvU2kqp4Fof3U8b0MFVU5mk4Zm4eoxcjokiYtR5hox6mEWplrizoim5tUXmG93eGT+Cp3hsZPqouzIPevzk3ymNNzoGAw3tLzbNirRMB9/8yUg/zVJHwYQ56NWztGbwBN3sbsx/01KPn9NoypjCjOuNTfaEwsy8XCjNiGiwx4BGITzzihBkKqCa9ao+zOhwb9j4byS1GjrYMzHIkzJqcEo/ZLQvCpwBV8xHIKBBZdD9j+JACXW89+CC6b1SPY0Svx6kuB9I1Uk3Mg+Yx2qf6aL3ou/UYARsVpDkWPJu22kOvl7glZosbhRnVGZ/qC4WZfblUJicnRSdT0HHz8fHxhp/rPvr+xrh9zTq9D8Ysx82Zj9PAhzzqeeztPgffh1l3v6CRlcoiEoQrjECCgcDMU3dq81Ae9WJoWpiOxIIeoT6Q3RKjfn8oLWt9uG0gI/cJQZEwI6m6/6fJty3L2nebXrSZ6/8K/PD79DMjU5W7OTEJT0IcYT4/+TTEr13H2X5gLJNHcXlQmKex8Cgqf3k0JUxr6DJs3LXxD4cYjVTS52Evu66NfgAAIABJREFUEHprtf0cMZqeqCvn8Bi6fdjztB60Pg1hGpHFP/fWkaWRr/XdYV5dYYY9Wkvolhjd/80cR3uYFGa13rD98Lf90LKxT+Tc5WZOZDgkG/XagyUD0VkNSX0aUtqfvkW+0V/aMZgPpKc80odkzRCmSk3FYXpG9vp0URoRBEKye2S2PFxhWj2yoHdmhohnN/oN0+r9aY/PkmcgJ0vypocb9ELD3zCj/8uIWT83vcHqvNbT1vyZ/6US8wYW/d/sbcx3B6I3HPkbJust1stO40FhYvmHZyDOakimBYluTGECskx41AnTFlgplpOGWCPJ47BttD6U/Axw4G+YUazzRDdioUtl40FhYvmWroDLJO7yC7P+t05XhBSmU2FrybI1zGWqt1o2jf6K1AGhMJ2SZMVDID7x6AhhzkAP0ZXyVNPsYUZ1xqf6UiZR+XICQWFGsR4sMeARiE88KEw/hmBdoVKYUZ3xqb5QmNmXC4UZMQ2WGPAIxCceFCaFidEZpXyKU4qqvOVCYUZlGyyx4iEQn3i0U5jmqtSoNxVzQY59ZWzqUKpzn2Pq9lOQI9weEpPPLL8r5ljsYUZ1xqf6QnFnXy4VvfdEJ/3hNWlqxwukmQ/kTx71PKb6AulIdlOQjwoBBGT2RRGFt280eNgBfn+OwgwehLBQFt9s8totC5rOl9ln+nMV5ky/QJr1pb6+sF2PmGQVH+xhRichwRLPEBGITzza1cOs712qTGxhdsviRWur9y3Gikm3de9dVGEulAVmvbnPMXgknbtt7eHx4f2W1jNj7Xsl7e+Gezj1wQjRPZoo7umLMek47GFGdcan+sIeZvblQmFGTIMlBjwC8YlHe4SZ1BO0hVmTTtKQrCOvqmjinw27fkm3LDPDnLpfTaRBD9YIMVxvHv1X/X7dJnyakYo3lHBNuPpIPnPsHOcUZlRnfKovFGb25UJhRkyDJQY8AvGJR2GEOVh99J15sk5Vaig0uwdoP6vVPMIP77esyVrFaT2tJzi+kWrQU42en4syzVecFGZUZ3yqLxRm9uVCYUZMgyUGPALxiUf7hamiMkOb2LsLem5JPUzozZn94oUJYgx7ktUeYv0zY82x4gSIx4fjQn7i9m1tHYUZ1Rmf6guFmX25UJgR02CJAY9AfOLRHmE6v/9ZvxlGw581wTjCNM9zhWfQmue2OkOmYQ/TOn4l+I2z2ksMhBf+hmmk7TzvNTx2/ROCwuPnLEs9caAwozrjU32hMLMvFwozYhosMeARiE882iXM+KtkW+uFTfW3xKn2EEGQ2lMNh2rzzzeFGdUZn+oLhZl9uVCYEdNgiQGPQHzi0TZhBr9BWr26NvTSXKFOSZhwG0zMxUk555/CjOqMT/WFwsy+XCjMiGmwxIBHID7xaKcwXYExndxTpTCjOuNTfaEwsy+XyuHDh0Unfbht0jQ2Npb4mdlndHS04TZpx2A+kD951PMYue1lsmvlnyVOOxt8ZvbbueJPE/fXbZo5hjlW0ryZY9z+tUtk6y3vSMxLM8dI+n6zvpljZMFj+NaXyZGx5PqfVve1DWH7gfFOHn7yYA8zOgkJlniGiEB84nHikbvk5NhPE6enDvwk8TOz39jO3obbpB1D85BFPma95n/LE3tXJealXfnIiseLpyYwcKxUkV7fpPJu9Jf2v/hUX9jDjEoyq3KhMCOmwVJWYFnxECx5II9Zs2bJyZMncaWVYsNswRAJHtuJazDFekseSABTWcUHhYlc+QJp8nAIYDKrikdhIleeUJEHEsCUL/FBYWK5UJjk4RDAJIWZDw9fGkTmA8uXPJAHhYk8KEzycAhgksLMhwcbZuRKHn7yoDCxXChM8nAIYJLCzIcHBYFcycNPHhQmlguFSR4OAUxSmPnwoCCQK3n4yaMyMTEhOiW9PFrXt+MF0sxH9LJTZU4e5eahF/0cO3Yssd6l1TnGR7njQ+9dbaVNZnzkEx/sYeKJDHuY5OEQwCR7mPnwYI8KuZKHnzwoTCwXCpM8HAKYbEWYq1evlm3btgUHNLeVDA8Pyy233IJfwvsOyYMPUIAY8OUEgsKEYhEKkzwcAphsRZiXXHKJnHnmmTJv3jw555xzZP78+UH6/PPPxy+hMMmDwoQYoDABB0Xl4KC4HSCtiMo+1ExWvB07dsjZZ58tlUolEKXOzzrrLFm3bp2dxWBZf79q9FcGHvb/N5PlwnzYBHCZ5YI82MNEHhQVeTgEMNmqqLRXqaI00+WXX45fUEtRmIiFPMgDCWCqXfFBYSJ3CpM8HAKYbFWYQ0NDYS8zqXep39iuBoA9CCxf8iAPJIApChN5UJjk4RDAZKvC1KNde+21QQ8zqXep21CYyJ08yAMJYKpd8VGZnJwUnUxDEDcfHx9v+Lnuo+9vjNvXrNP7gsxy3Jz5OA18yKO8PPRK2TPOOEPWrFkDZW7XC9YXLH/yIA+7frjL7YoPCvM0BiJFRR5uZbTTWcTHiRMnZPE/flkOHTpEYdbqH0+4sd6Rh588OCSLPfuwAXNWQzKt+68b87cQQEYeNRzPPPOMXPMXXXLpH18mb7vs7XLkyBEEVUulxZiReOzOTR5DN2OcIkHyIA8kgCkKE3lQmOThEMBkK6Iysvzrj3xG1g8OyWc/8aVEaVKYyJ08yAMJYKpd8UFhIncKkzwcApicrjBdWaowG0mzXQ0Ae1RYvuRBHkgAUxQm8qAwycMhgMnpCDNJlo2kSWEid/IgDySAqXbFB4WJ3ClM8nAIYHKqwkyTZZI029UAsEeF5Use5IEEMEVhIg8KkzwcApicijCblWWcNClM5E4e5IEEMNWu+KAwkTuFSR4OAUw2K8ypytKV5sMPP4xf7KSazYezW12SPSpEQh7kgQQwVdGHEuikhk6a0l5mq/u1+sJT5gP5k0dxeTz22GPynqveK+ZqWCPDZud69ezcP7lMVJpJdZLxUdz4YHuKZVckHuxh4gkEe5jk4RDAZFrPTnuWrcjSSLXRLSeao7R86DYq27Q/9qiQEHmQBxLAFIWJPNgQkYdDAJONRDXdYVgjSXfeSJqN8mFyTGEaEtU5eZAHEsBUM/FBYSIzCpM8HAKYTBJV1rI08kySZlI+7Nw20wCwR2UT45OPkAZ5uDwoTIcIGyIEQh7pPPKSZSNpslzSywW34BA1eZx2EUC6mRNMChOQ8bchBwd73A4QV1R5yzJJmm4+nGwGyWYaAPYwkRx5kAcSwBSFiTwoCPJwCGDSFlW7ZBknTTsfmMMoRWFGLHSJPMgDCWCqmfigMJEZhUkeDgFMGlG1W5auNM2rwTB3mGqmAWCPCpmRB3kgAUxRmMiDwiQPhwAmVZj6Pkt9Rdd077M08pvuXC8EumLu24L3aWLuMEVhkgcSwBTjY+o8KvqiUp30zCpp0ocSJH1m1o+OjjbcJu0YzAfyJw8/eWicv/vKP5frPvLp4G0j05Veq/upNP9kzltlaGgosd6l1Tmtu6y3GGfkQR7GaXFz9jDxJIM9TPJwCERJHYZ973uumbGepSvZpFtOTI7ZgzAkqnPyIA8kgKlm4oPCRGYUJnk4BKrJmfrN0pWkm24kzWYaAD2LbvSXdgzzm24rx9B9mQ8kSB5+8qAwsVwoTPJwCIj4KksjzyRppslO/1E2zFjc5EEeSABTFCbyoDDJAwj4LstG0qQwoSh5WwniII9p8KAwHWgcYkIgncyjKLJMkiaFibFMHuSBBDDVTHxQmMiMPUzyCAgUTZZx0mymAeAQJAY8eZAHEsAUhYk8KEzy8P43SyPHpLn5TTPtJdRa1BQEBjx5kAcSwFRlYmJCdNKz0aSpHS/4ZD6QP3nMDI9WX/6cJLF2r1dppr2EWut7qy9+Z5zOTJymtcksl3zKhT1MPIFgD7ODeegwbBYvf263HJO+z/Q0jxw54pRqlGSPKmKhS+RBHkgAUxQm8qAwO5RHUX+zTJKlWZ8mTQoCA548yAMJYIrCRB4UZgfyKKssm5EmBYEBTx7kgQQwRWEiDwqzw3iUXZZp0qQgMODJgzyQAKYoTORBYXYQj06RZSNpUhAY8ORBHkgAUxQm8qAwO4RHp8kySZoUBAY8eZAHEsAUhYk8KMwO4NGpsoyTJgWBAU8e5IEEMFWZnJwUncwj0OLm4+PjDT/XffT9jXH7mnV6X5BZjpszH6eBD3nkw0Pfd+jTK7qMxNo916tn9SXU27dvh7hz6ybrLcYheXQ2DwrzNAYARVVeHidOnAhe/vzXH/nMlF7+vGrRXFmwZKj5fZYslMrspbJq0N5nrSyeXZFKRae5svhm+7PpLHfL4kVrm88T5KX6fSpNfQn1oUOHEqVJQWB9II/O5sEhWexxhw2HsxqSfEYn4CjEWw/MMOx1H/l0S5JJ7wmqGOfKgi6ULEj35qUyp6u7tXwsWShzWhSm/i9p92mmxbrpkWJEYCrtGLo1h0KRGXn4yYPCxHKhMEvIw8hyqj1LI8dQdiq6oIfYoJdoZGjmQc9OJbpQFi+a26CH2S0LZs+Njh/2UO2eaaXW0+2WBbV8TKnnG9PLTJNmmuwoTKww5FFuHhQmli+FWTIercpShWKEaeZGpHHzZV1GakOyrMsMvValF/YIVaahEM1wrErQ3r66rN9ZCXujus1CWabiy6iHaf6HpJ6mL8J8/vnnncjE5AsvvCA6NfpL+190X/bskCB5IA8KE3lQmA6PF198UXRq9OdrQ5SFLG1hrh+Menbxv0Pan1d/r6xKstrDDEQX9PIs8YW9Pu1hRr97GtmipPU4NalmLEz9P+OkmVa27epRNYq/Zj9L+1/0OBQE0iQP5EFhIg8K0+HRTNLHhigrWaIwTW+w2sOLen7V9Sq3sBfpiBE+i70oKFmY0fdYos1BmHHSTCvbXIW56UapvHelHA2DcKPcWLlaVo6FK6a0kPa/6MEoCERKHsiDwkQeHS3Moz1XYwM1tlKu/spGh1B90reGKEtZ2sIMhkcTf8O0en9hr7E6nBv1MhtdJRsvzPWD1eHc6tW10XCvDsnqOhS0JXQrD/o/TGWye5ppZZurMFVgPVfLjZuqMWcv10dh+pq0/0WPQEEgR/JAHhQm8qAwK5WwgZICCjNrWU5FNGXa1kgz7SXUeQtTRHuVN8pGjcWwt6nraicf4bqjsvK95oTkRok7zaMwsbEjj6nzqOhDCXRSeElT2stKdb9WX0TbKfnQ+7iGh4flvvvukwceeCBx2rJli+jUaJuNGzc2/Fz3XbduXcNtzDGUf/UMvtZAaSzZwtThsVojZc74Td7MMUw6bt5sPuL21XXN8NDvePsV75DpXg1bJuFl8b+oNC+95E/k7rvvToyhZsqllfgImrQg9qKhWOhpbrpRru45irGqoTs2VpfnVvJh4jLtGM3y+MUvfiG7d++W48ePx7a7bE/RR77wYA8TTzJy62H29fXJvHnzZNasWXLppZfKlVdeKVdddVXi9Od//ueiU6Nt3vWudzX8XPd95zvf2XAbc4xdu3ZFw191jZAlUXPGLxIe1xyjUV6bzUfSMZrhcfHFF8vL/9cr5Mf/fs+UhiCzkEsZj3HPis3yf85/ncyePTssa7d8mimXVuKjWj03yo1hT1Jk41dMT7I2r/1sEK2/Wj7xrf+qy3Mr+TD/d9oxmuWh9X/u3Lnymte8Rt7//vfLrbfeChfXcSgUG2ZfeFCYWC6ZC1NFpJXok5/8pKxdu1aee+654BvThkPyH+qq/uN2PqIzdx3eulpWbqr9hmn3NEUbrOhsX49iH8PBGSbbFfDf//735dIL51KaU/zd0hW+yvJPL3+33HjjjWEZxi20J05RmFGcxuVIRMwJn/OxT3FqsqZXoOto02c+8xm57LLLZMOGDcFH7aovJh9Jc+YDyVCYyCNTYe7fv1/e9KY3ycDAgPMt6ZJpT0OE+YCGSCWpQ7DB2Xt8D9P8U741RJTm1C7ySZLl17/29dSTofbEKQqz+rtm1MsMh2TN75r6m6cJTmvuW5xaWQsWdej7Va96lWzdupUXHzlwfBE3hekUTJYNwLXXXhsMtThfESTTKm+W+Yj7frPOzgcIM+hJGmFWz9rd3zDjjmHWufN2B7w30ky4/WPVoqXVBxA00RPUhyEY9sHcul/TXC0brA8fcIBX1k7lSlrTs1RZ6p8dH26ZarpdcRr33VNdl/a/6PHaHafu//CTn/xEdNh3pvNh8sV8GBLVOYWJPDJrAO64444g8J3Dh8m0ytuuhigtH2GGGyw0c4yZqHheSDNWmCq02hN7mhKmeQJQtecYPU0o/lYUuOczeNgC7u/2KE3alaUWeVrZtitOG4Rf0x+l/S96oJmIU/cfmD9/vtx2223uakin/S/tKpdOyweFCWGY3Rnz5z//edEGO+mvKIGWlH97fdr/otvOVEPUtDRr9zUm9tS6FoZP4lEhhc9wtZ4Zi/dpJj/CLtwu6ClibzA8riVS89QfI7ZlXfaxl4bPlY0ecGAPyVoPO7COaY5l5nGy1HJLK9t2NcxpT5v69a9/LTo1+kv7X2YyTu1833777bJgwQJ7Vd1y2v/SrnLptHxQmE4oZhVo7373u2Xbtm3O0aNkUQKtyI/GM7TTpYlSMT00Mw+kYj2dR9eHYguFuVaWLYletxX2AlN6mIE8w6FUzIeRWd2QrHnmbCD5qKcafqcRo/O5OZ47T5Kl8itKnGZVb2fqxM7Eqs71FoqLLrrIXlW3zHJBJO3iQWEi98yGZN/85jfLr371K+foUbJdBexDA6D/9Uzno6E0VXrhBSO13wu7ugUFFA1/xgtzSNY7xwmk2oQwQ/kGT/WpHz51e5jB75YqWefYIPiEY01FllpujNOozraTx7nnniuNHjjPcpmZcqkcPnxYdNIGLWnSM56kz8x6fZO9WY6bpx2jbPk477zzZGRkJJFJp/HwIT5uuukmufiP58TcchLfswMBqQxrF9vAeu3FBT3ESKgqpVC2jtSqwop+w9RjRUOp8fmIE2b1Qh57++rQbiRfe1g2fll7lm9/65/JF7/4JcZprf3zIU61/VRhPvjggywXz8qFPUw8Ucmsh6kPKDh58qRz9CjJM8SIhS61i4dKM/Y+zWD4Mroa1VxZGg6H6rsqzdWpdk9S1wfCdH6L7Kq94DlRmPpdOpzq7LekXm5hHkwv2ORDh17tfIdDu3oMPW59b9X0MM0wrMqy0V+7ykUl0eiv0/LB9gOjwZf4oDCxXCjMnHj4EvCaj4bDs+b3v7o59iCNeIo4N7LUW0d8Khcn9CBJYQKOtp1gMj6QO4WJPCjMnHj4VvGmLs1yCNOWpRa1b+XihF+YpDBDFMFCp/HwJU4pTIxDCjMnHr4EvJ2PqUuzfri0SD1MV5Za1DYPp+iDJBtmpNIuHhySRe6+xCmFieVCYebEw5eAd/PRKdKMk6UWtcvDKX4O/TlAKEwE0i4evsQphYnlT2HmxMOXgI/LR9mlmSRLLeo4HnYIdFqD6AsP9jDtKPQnTilMLBcKMycevjRESfkoqzQbyVKLOomHCQMK05CoztvFg8JE7r7EaUVfaKyTBkLS1I4XSJctHxrwx44dmzbTsvHQ+06T4kvXp8VYO3h873vfkzlv+ZOY+zSL+dtlIMvL3hW8oiuJfRHKxZf4aGc+2H6gj3yJU/Yw8USGPcycePhyhpiWD5Vm7H2adbeZ+C1RI0vz1hGnWMNkGg+VRKO/Mj2STv9PX3iwh4lR50u5UJhYLhRmTjx8Cfhm8lH04VkzDJv28mefBNFMuTihCcmyiZvChOL15kSGwsRyoTBz4lG0BrGo0jSybOblz1rURSsXJzzDJIUZoggWysbDlzilMDHOKMycePgS8FPJR9GkactSizFtOFW3mQoPJzSCJBtmpJIVD/YwkasvcUphYrlQmDnx8CXgp5qPokjTlaUWI4WJwVwkHhQmlt1U6y3und17jilMhyzPEBFIVjx8Cfjp5MN3acbJUkuxSIKYTrnYkVq2OKUw7dL1ZySEwsRyYQ8zJx5FbxB9lWaSLLUYKUwM5iLxoDCx7HxpPyqTk5OikzlDi5uPj483/Fz30fdZxu1r1ul9dGY5bl62fGjAHz9+PPF/7jQeZYiPZcuWyZwL3+rNfZqBLC97lyz96tLYOGO9PQ1cisSD7QeWnS/tB4V5GgsmK3Ez4JGrLwHfaj6Chxt4IM00WepJaZEE0Wq5ZFVvfckH2w8/2w8OyWLPPzwjdVZDspmhHQ14vkA6wubLkEoW+dCe5kw+3MCWZUS4fqmZOM2Ch8q50R/zgXSa4cH2A5n5EqcUJpYLhZkTD18CPqt8zNRvmuY3SzMM6xQXJJtpmLPiAV/sJJgPBNIMDwoTmfkSpxQmlguFmRMPXwI+y3y0W5pGlvpQAnMdgFNckGymYc6SB3y5lWA+LBhNXoxFYSIzX+KUwsRyyawhYsAjWF8CPut8tEuatiyVLIWJ8VU2Hmw/sHyzrrd49GqqmRM7CtMhl1XFY8AjWF8CPo985C1NV5ZKNqs4zYMHljxvb5kOD7YfSM2XOKUwsVwya4gY8AjWl4DPKx95STNOlkqWwsT4KhsPth9YvnnVW/tb2MO0adSW06BkVfEY8Ajfl4DPMx9ZSzNJlko2qzjNk4eJgLQ6p9sxH4ZWdc72A3n4Eh8VvVdLJw3qpCnt5b66X6sv+CxbPjTgW3mBdNl4dEp8ZPUS6kCWDV7+zPjA9qpsPNh+YPn60n5wSBZPZDI7c+cZIoL15QyxHflo9SXURpaNXv7MHibGV9l4sP3A8m1HvW1mJITCxHKhMHPi4UvAtysf0x2eNcOwaS9/Lpsg2lUuTnjXJX3JB4WJReNLuVCYWC4UZk48fAn4duZjqtI0smzm5c8UJgZq2XhQmFi+7ay3+M2YojCRB4WZEw9fAr7d+WhWmrYstQjShofKJoh2l4sT5mHSl3xQmGGRBAu+lAuFieVCYebEw5eAn4l8pEnTlaUWAYWJgdhpPChMLP+ZqLeYg2qKwnSoZHXmzoBHsL4E/EzlI0macbJUcp0miJkqF4xSf25vYfuBJeNLfFCYWC7sYebEw5eAn8l8uNJMkqUWAYWJgdhpPChMLP+ZrLd2TihMm0aGN4Qz4BGsLwE/0/kw0uz/3n/Ln17+bkm6daTTBDHT5WKi1Zd8sP0wJVKd+1IuFX1hqk6aoaRJbxpN+sysHx0dbbhN2jHKlo8LLrhADhw4kMik03gwPqL6ddNNN8n/+v2Xy+c//w+Mj1q7w/iI4kPbVLYfyMOX+GAPE09kOCSbEw9tBBr9dVqP6uDBg41wcEjWodNp8cEeJgaAL+0HhYnlQmHmxMOXgGc+sIDJw08eFKaf5UJhYrlQmDnxYMOMYMmDPJAApihM5OFLfaEwsVwozJx4+BLwzAcWMHn4yYPC9LNcKEwsFwozJx5smBEseZAHEsAUhYk8fKkvFCaWC4WZEw9fAp75wAImDz95UJh+lguFieVCYebEgw0zgiUP8kACmKIwkYcv9aUyMTEhOull20lTO14gXbZ8aMC38gLpsvFo9QWw5IH1kzzKzYPtB5avL+0He5h4IsMeZk48fDlDZD6wgMnDTx7sYfpZLhQmlktLwly9erVs27YtOKIJ+OHhYbnlllucb+GzQl0gnXZjOkWFEUAeImw/MCbslC/xQWHapdLis2QvueQSOfPMM2XevHlyzjnnyPz584P0+eef73wLhekCoTCRCHl0Hg+2H1jmdorCtGm0KCr7UDMJdseOHXL22WdLpVIJRKnzs846S9atW2dnMVhmg4hIyIM8kACmOiE+2H5gmdupmWzX7Xywh2nTyEDc2qtUUZrp8ssvd76hmuyEBsD+x30JeObDLhV/3v/IcqmWC9sPjE+T8iU+KExTIrV5qy+QHhoaCnuZSb1L/SoKE8GTB3kgAUx1Snyw/cByNykK05CozVsVlTmcD2CvvfbaoIeZ1LvUvHZKA+BTuWhefIgP5sNERTRnuUQs2H5ELMySL/FRmZycFJ2MsOLm4+PjDT/XffR9lnH7mnV635hZjpuXKR96pewZZ5wha9asSfyfO4mHljfj4zTEAnmQR1w7qOvYfmBs+NR+lE6Yf7vwU3LtvPmJ00c+/NHEz3S/j37k2mBqeIwPzWt4DN33A+/7YMNtipSPBX/5cWjs3YrOEyqs4ORRXB5sP7DtzKIdK1P7UarfMLdv3y5/cMHr5V//6f9xyojBZz/+JfmjP/wjMzISO08bXtadfBlSYT6wCMkj4sH2I/t2s2ztR6mE+bWvfU0Wzf+crB8c4pQRg+s+8mn51re+FbUqMUsUJkIhj2LyYPuRfbtZtvajVMKcc9Glsvzbt1OWGclSTzze8qaLZOfOndgCOikKAoGQRzF5sP3IXphlaz9KI0wdTrn0wrmUZYay/M9v9Mnlc98W/H6JTSCmKAjyQAKYKkJ8sP3IXpZlbD9KI8zqcMr1FGaGwjTDKXqRT6O/IjSIJv/8zc6QqM7Jo8qB7Uf2wixj+1EaYXI4JfuAN8MpFGYkGXOFcLSmfoknEMikCDzYfrD9aCZOSyFMDqdkH+w6nHLFZW8PbyfBJhBTzQQaezLIjDz84cH2g+2HRmMz7VhF7xnTSTdOmtrxAulW8nHDDTfw6tgMh2L1Yh8dTrnppm8GsVH0+LDjutUX0bYSp8xHchszk+XC9iN7YZa1/ShFD5PDKdkHvA7H7t69mz1M7AiRRwl5sP1g+9F0D7Pov8lwOCX7YDfDsRpERY8Pp33nAxQcIJ0+NMz2g+2HqRI6ApT2V/geJq9uyz7gdTjlO9/5ThA7FCZWIfIoFw+2H2w/TER3hDA5nJJ9wJvhWA0kCsJUp+qcPMrFg+0H2w8T0aUXJodTsg92ezhWA4mCMNWpOieP8vBg+8H2w47m0guTwynZB7w9HKvBREHYVYo8kEaxebD9YPthx3PphcnhlOwD3h6OpTDt6lRd5gkEMikyD7YfbD/saC61MDmckn2wu8OxGkxFbhDtymC16VhRAAAdN0lEQVSWO/2qUMPBzDuVB9sPth+mDph5U8LUN7/rpBUnadKbipM+M+tHR0cbbpN2jKnm44v/+EU+rCDjhxX81Yc/JTd85QYox6mWi4kHd97u+HC/36SZD6znncqD7Uf2wuyE9qOwt5VwOCX7gHeHY/XMiz1Mc/5ZnZNHOXiw/WD7gZHc5KPxitgAcDgl+2CPG47VgCpifLgVwU5rT7PRX9qwDHkgvSLyYPvB9gOjuJpKq/u6VSF7mLy6LfuAd6+ONQFVxAbR5D1uTmEilU7kwfaD7QfWgmqqtMLkcEr2AR83HKthRGFi1SKP4vNg+8H2A6O4miqlMDmckn2wJw3HahhREFi1yKPYPNh+sP3ACI5SpRTmtIdTbl4qcyoVqdhTV7foq6xw6pYFs5fKqrr10XarFi2VZc7ny7rmyuKbu2VBZWHw2bIu57sq+nl0DPzOtbJ4dnU/XJ+0va6v5XPJQqnE/h+N9sXPkoZjNZQoiKhCkQeyKCKPabcfYX3XuurW7bi6m16n49qRVYvmyoIluq9pT9zvqrRW37Ud7OoW/Z45i9Y6bR+2C822RZ3UfhTuN8xpD6fUAiUKAhOUUw2S+IpQFWb0WTXd7LGj/aL8pe1bE2bd/5W2X/3nScOxRWwQ65t0XNOJv9khAUx1Go9ptx8gTBTk9OQTX+erwhwSt/0w65tvH+rrebCvaS+WLMxMmJ3UflQmJiZEJ+2OJk3teIF0M/m49957Zc5b3jq9syITKBD41V5fEPCz50ol6AWaHqYG9FyZE55NViuJbhv0Up1eaPVsca0s7qr2Tt2ADwNd82H1chcs0cC2Ko/2GMPPTcXUnqs50zTr1sriRd2y/ualsqCFM0Udjr3srVckln0z5eJLfDAfWIfJA3m01H5Au2HqYFVKQfuhdVAlFLQjlVovMWozzHqt21rnk9qR9UuWBiNRy7rqv6PaVpj2otY2aTsE8jPt11CQn7AtCUehumVxLa/R8RLkGv7PyZ93WvtRqB5m9c3o109fmKF0qvIxQxJhwAcBYgJOJVYNbpWdDrHWya1BQLlDsuF3LemOhnvD4dRImHGijb57KBDkHEfWoYwb5Cdpm0bDKdoX4ZAs9sjIo7g8Wmo/wrpVbRdCEWmbYupjWJ+N1CJhhj+bhNtEdT6pbtrrtY2KBKf7Wj/xxAoz+nlIj4NtXLIA7e9sZrnT2o9CCfPiCy+R5d++ffrCDM+yMGAwGG1hRmd50TbNBXqc+KoB6FS4IE/WMaEHqt/vbB9IP8pXM0HdaJvZb7xIdu/eja2glaIgLBg8gUAYBePRUvsBwkyofyCuqE5HbUfthNet8+GxsV2y6y0cwx6R0n3he2vtF7QjtdGphPbP/p6pLnda+1EYYerVbdMejtWgqhuSjYITgzFfYYJIU842NV/aM4UeZhOVq9mgN8Mpda2gtYLCtGAUTBDNXPXXKb9httx+hPUuEmFdPQNxRdtB+xK2Q9HndccJvyupjXL2DdsRewQKe5jNfMdUt+nE9qMwwqxe3fa56fUuMxemnrElnGXWgh3EaFUArTzhcE7XwtoVuVEFwKFc8x32b5jWEJB13KkGu26vwyk33fRNNIKTojARCHkUk0fL7UdY16K6WlfnpizM9HbEfAdI1+1h6hXz5uem4LqL2lX+KlKzvlLJ7CIfk6dObD8KI8zWr26LztZMgXf6XK9u0zPvRn8UBNIhj2LyYPuRffvXie1HIYTJm42zD3YdTrnisrcHV8diE4gpCoI8kACmihAfbD/YfmQVp4UQZus3G2cfMEXvnZqr29J+58oq0DrltzLVSRpT3YY8ULx58mD7kX3716ntR2VyclJ0Mg1j3Hx8fLzh57qPvjcxbl+zTu/nM8tx80b5uOSiOdO/Ojb87SH7oCmyNHU4ZefOncE9uHHlYdY1KhezzUzHB/NxOrZusVyqXNh+ZN/2dWr74b0wt27dKpdeOM2HFVCWsRdJ6XDs5XPfFjSyrZzIUFQUle8nVGw/spdlJ7cf3g/Jcjgl+4A3wynNDB8aKeIAGqY4BEkeSABTMxkfbD/Yfmg0ZtWOeS9MXt2WfcDrcIp5WEFaY5ZVoOX5G5VpntP+F92O+TC0qvOy82D7wfZDIz2rdsxrYfLqtuyD3Vwda5rNNMlkFWhlb5gNT52nMdVtyMMmlg8Pth9sP0yUZdWOeS1MDqdkH/D2cGwzjXtWgUZBmKpbnZNH/jzYfrD9MFGWVTvmtTA5nJJ9wNvDsRpMab2hrAKNgjBVtzonj/x5sP1g+2GiLKt2zFthcjgl+2B3h2M1mChMU6Wqc/IoBw+2H2w/7EguvTA5nJJ9wLvDsRpQFIRdrcgDaRSXB9sPth92LGcmTL25WSdtOJOmdryI1s1HNq/iyT5oivywAn0Vj5552+WcVrZuudj7muW0Y+h2Y2Nj8L1mXzNPOwbzgfWTPBrzYPuRfdvH9uNZ8XJIlsMp2Qd73HAse5j2OWh1WQXe6C+rM1X+homUs+TB9oPtB0ZXyW8r4XBK9gEfNxyrQUVBYNUij+LzYPvB9gOjuOTC5NVt2Qe8e3WsCSgKwpCozsmj+DzYfrD9wCgusTA5nJJ9sCcNx2pQURBYtcij2DzYfrD9wAiuprL6KcW73zA5nJJ9wCcNx2ooURBYvcij2DzYfrD9wAiupkorTA6nZB/wScOxGkoUBFYv8ig2D7YfbD8wgqupUgqz+iqeubGvpCry7RwzmfdGw7EaShQEVi/yKC4Pth/Zy5LtB9YHr4Zkv7rkq7Jo/vUUZobv8fyrD39KvvOd72CpWykKwoLBEwiEUTAebD+yFybbD6wSlcOHD4tOeh9U0qQ3nSd9ZtaPjo423CbtGJqHP5j1ernskrfL1e+8Jna6KmG9vf1V73hv7L5mm2aOYbZNmjdzjLkXv03e9barE/PSzDGSvt+sb+YYrzr31fKLX/wisWyaKRdf4oP5iOqosiAP5MH2I77dNO2FO2f7EcWPeiytLdRtvOph3nPPPfKzn/0scVq9enXiZ2a/H/zgBw23STuG5iGLfLz85S+Xu+66KzEv7cqH8mj0xx4m0iGP4vLIot6y/cD2l+0H1gevhKk/zDb6S2vMdF89C2j0l3aMrH4cnjVrlpw8eTIxK+3Khy88mA8MBfIgDySAKbYfyMOX+kJhYrlk9mZuBjyC9SXgmQ+WCxLAlC/xwfbDz3KhMLFcKMycePjSEDEfWMDk4ScPCtPPcqEwsVwozJx4sGFGsORBHkgAUxQm8vClvlCYWC4UZk48fAl45gMLmDz85EFh+lkuFCaWC4WZEw82zAiWPMgDCWCKwkQevtSXysTEhOikV20mTWkv99X99B6WpP11fdoxypYPDfhjx44lMuk0HowPrF/kQR6N2ku2H37GB3uYeCLDHmZOPHw5Q2Q+sIDJw08e7GH6WS4UJpYLhZkTDzbMCJY8yAMJYIrCRB6+1BcKE8uFwsyJhy8Bz3xgAZOHnzwoTD/LhcLEcqEwc+LBhhnBkgd5IAFMUZjIw5f6QmFiuVCYOfHwJeCZDyxg8vCTB4XpZ7lQmFguFGZOPNgwI1jyIA8kgCkKE3n4Ul8oTCwXCjMnHr4EPPOBBUwefvKgMP0sl8rk5KToZN7SETcfHx9v+Lnuo+/mi9vXrNP7LM1y3Lxs+dCAP378eOL/3Gk8GB+nIRbIgzzi2kGzju2Hn/FBYZ7GgslK3Ax45EpBkIeRQdyc8YHxwfYDefgSHxySxZ5/2AtwVkNSn9CR9qcBz/dhRpQ49Bex0CXyIA8kgCm2H8jDl/pCYWK5UJg58fAl4JkPLGDy8JMHhelnuVCYWC4UZk482DAjWPIgDySAKQoTefhSXyhMLBcKMycevgQ884EFTB5+8qAw/SwXChPLhcLMiQcbZgRLHuSBBDBFYSIPX+oLhYnlQmHmxMOXgGc+sIDJw08eFKaf5UJhYrlQmDnxYMOMYMmDPJAApihM5OFLfanoQwl0avQy07SXHeu+rb4Qt2z50IBv5QXSZePB+Mj2hbiMD+RZNh5sP7B8fWk/2MPEExn2MHPi4csZIvOBBUwefvJgD9PPcqEwsVwozJx4sGFGsORBHkgAUxQm8vClvlCYWC4UZk48fAl45gMLmDz85EFh+lkuFCaWC4WZEw82zAiWPMgDCWCKwkQevtQXChPLhcLMiYcvAc98YAGTh588KEw/y4XCxHKhMHPiwYYZwZIHeSABTFGYyMOX+kJhYrlQmDnx8CXgmQ8sYPLwkweF6We5UJhYLhRmTjzYMCNY8iAPJIApChN5+FJfKvpiTp00Q0mT3jSa9JlZPzo62nCbtGOULR8XXHCBHDhwIJFJp/HotPg4cmhEHhtZI4eGbpVHNn1dHv759TK65pOy/64Py77/7pLhH18l++64JkiP/vQTcuDnn5VHNi6VQw/eIo8Nr5ZDB3Ykxo7WubLVl06LD9NuJs3ZfqCPfIkP9jDxRIY9zJx4aMPQ6C/tpdynT1ffwN7KMXTfPPJxauJROTHaL4/9z6dl9PZLZWT5K2Rk5R/Inr53ys6+a2V7z9/L1pU3yJae78jm3n+Xzb3/JZt6u2Vz761BekvPv8rWlUtkW89nZUffx2R335UyvPINMrLiFTL6w4tk7N6/lqf3LpfnT+wP/32feYSZrC2klW1e5VLkfLCHiaWXR73Fb5DgaXfuOjdNYTpEsmqIGPAI1peAzyof44/eIYfWfUL2rnylDPe8WXb2L5AtPf8iG/vvlPWDQ5lNG/p/KirUnf3XyXDvRbJ3xXny6JqPylP7+uTUcxMI2UlRVAikSDzYfmDZZVVv8aiYaiY+KExkxh5mTjx8CfhW8jFx6G45uPqDMrL8XHmo//2ByO4b2JqZHJsT7YOyuXeZ7OqfF+Tj4J3vkRMP3+6UWjXZTAPQCg/9lqxOMJkPLEIKE3n4Eh8UJpZLZg0AAx7B+hLwU83Hi6cm5OjWpbJ35atkz8DVsqX339osyMa91c29t8jugffL3hWvlCMbvySnn308BE9hhiiChSLxYPuBZTfVeot7Z3diR2E6ZLM6Y2bAI1hfAr7ZfLzw/NNyeP31MrLiPNkx8Bm5b+AXXonS7Y3eN7hVhvq/ICPLXymHfvbXcvrkWFO/yTTLA0szSmVVX5iPiKkusf1AHr7EB4WJ5cIeZk48fAn4ZvJxdMuSQJRDA1/wWpKuNE16+8ANMrLilfLovZ8V+fULTolishkeuAemKMx8eFCYyNWXOKUwsVwozJx4+BLwjfIx/ujdsrdnluwavE7WD24vpCyNNHU+NPD3wVDy0/v6nVKNko146FZpw5gUZsRSl7LiQWEiV1/itDIxMSE6acVImtrxAumy5UMDvpUXSJeNR6svgM2bxyPr/kb29F4sm/oGCy9KW5ob+lfLnr53yIHV8+SZk/Uvive9XEyblNYG5R0f7c4H2w/0kS9xyh4mnsjwDDEnHr6cIbr5ODX+sOz/wYWyc/BTpRKlLc2gtzn4RdnXO0smf7UNStjlAR+yh+niaFuPmz1MRO9LnFKYWC4UZk48fAl4Ox8Tj/08uLr0/oHvlVqWRp76wAT9bfPp/T8MS9nmEa60FrRn1egvqyFI5gMpU5jIw5f4oDCxXCjMnHj4EvAmH8cf/kkgj7INwRo5Js039K+RkZ4/lF89dEtQ0oaHU+xhksIMUQQL7eJBYSJ3X+KUwsRyoTBz4uFLwGs+ThxcLSMrXiUb+u/qiJ6lK8/7BjbISM+b5Mk9y3N5VKATQqnDmLq9T/Hh5t9OU5g2jc67KIzCxPKnMHPi4UuD+NjedcEtIxv7f9KRsjTy1PtKR1ZcIId2Djoljsl2CcKX+PAlH+xhYhz6Ui4UJpYLhZkTDx8C/te/fkGGV75WtvT/Z0fL0khzY98PZbj7XDn9bPKD8SlMrBDt4kFhIncf2g/NEYWJ5UJh5sTDh4B/9J6/lO39n6csrYfDP9D3dXn4J+9ySj1KtksQPsSH/te+5IPCjGLQp3KpTE5Oik7mare4+fj4eMPPdR99P1/cvmad3idlluPmZcuHBvzx48cT/+dO4zHT8fHU6I9luG8uZWnJ0vQ0dw9cI0/s+H5srDJOq6+VM21Wu3iw/UDuM91+mPKnMGvvWTRAshL3O97xDgrTYjvTAb+v7w2leyiBEV6r8w0D1d91TR2w5+0SxEzHh/mffckH2w9PhWkCBTvAmEoblvGpy+zLkMrrXve6hlcHpjFluWAMtsLjyeHlsnvgA+xdxvQujWx3DS6Uxx+4CaHzwQUzxuP888+XEydO1H2/WcH2w5CoztvFg79hIvdwWMpZDcm0wtGN58yZI4cOHYL97ETaMVoRhP09vpxAzGQ+9Ek+eoGLkQPn9a8M2zBwb/AybDt2dJlxikTaweP555+X1772tfjFTqod+dCvnMl6a//LvuSDwrRLJcOHJ3/4wx+We+65xzl6lGTARyx0KS8ezz29W4Z7L6QsG/QuzQnEnv53yzOH10HB5FUu8CVsmAHHjh075J3vfCescxMsFyTSLh4UJnLPrIf5L//yL7J48WLn6FGyXQXsy5nZTOXjiQeWyva+f6AwmxDm1p6bZOzev4mCNMcTGfgSChNwfPe735UvfOELsM5NsP1AIu3iQWEi98yEOTQ0JPo7xBNPPOF8QzXZrgKeKVG5/3Se+dAzcv2LY3pg1ds4HNuELLWXed/A/8i+vtdB0dlM9+3bB59pgj8dIJJWebzwwgty8cUXy89+9jM8sJOyy8X5KEi2mg9zzDzrrfmOtP9Ft/MlHxSmKbXaPMtA+/a3vy0LFy50vqGaTAuSLPMRm4HayqLnQ69qPO+88+QDH/iAbNmype5f3bviFe3vXd68VOZUKlKBaaEsa1JcqxbNlQVL6n9nNEOnec5Hlr9C5Ncvhhw1PlSU1113nZx99tmyc+fO8DNdYJwCjpZ5fOlLXxKdfBEE84HlS2Eij5YD3hzOBNrf/d3fycc//nE5cOCA+SiYF11U9j+T9r/otoaHvZ+9nHaMRg3zF7/4RXnJS14iL33pS2X+/PmivXv9+/XpZ2VkxfkzI8yu7ml/70wKc7h3jpw6MRrwU1Fq7P7O7/xOIP958+bZRRYsNyoXs3Fa2ep2ecZHEfKh/7+2FR/72MeC7HY6D1NmZu4Lj4o+lEAnDeqkKe3lrbpfqy/4LHM+9DeJ17/+9UHj8x//8R/BcMumTZvkgQceSJy0t6RTo202btzY8HPdd926dQ23STtGEfJx9913y2//9m////bON7aJOozjfQ/hBeENvBx/pol/MiLGYYwyBI0ijEWDe4MwgjGEmGjAkKBsiQoIGGMwUd8oSNdeewthiwEFdMg2NgYbZZSuGx04Bow/E3CDDdjc1/xuu67PrVvHwjp6913S3D236+X6+T13n9/zu+s1WtGpSmj58uWoKC1GqPCFUYtr1JWcqjCHEKaS4cuZ86P7Gq0kv1zbv2w+Vi8bvwoz6F2MmqMeIUpVKU+ePBmapg3KpVTID/MYSpTryTxeKioqcOTIEezatcsYhUpPT8fWrVuj52CeT6WPHhcerDDNLkz/dKx6zOqBCMXFxSgoKMDKlSuRnZ2NpUuXDvlS/0+0zuLFi4d8v7ltdbedOR9vmmgbqbIfEydOjEpIneBV/OGaPIQ8L42PMMVwrAuufoEqYZrzZUqSxvJfsNplDtkexqZM17gNyQa1HHyz+WPRAVE8J0yYEDePUiU/VO4nynW1TrKOlyVLlkBV7Gp0RNd1qKIk9u9xqai4H7GtwmfJShq8JpOSPEpLSzFlyhRDmGq6YMECo7Lu6byGes+c8RHmMBVmtKo0K1E1zdyC4v5rnOM5JBvS3sC9tlNQ1Vhubi6mTZtmcJ06dSqKiopSMj/MnebQsEmib0oeD8+DFaZk9sivYVo2Hw0TJetYVbrRHeifscN+ZGRkYNKkScjKyjJEGfsZ1U0sox5aHeFNOoO2b4owzvuFDKPrxVaYAXy/bPwqTNXBiP31EjVsqMSpOiJpaWmxaI155qlEQh725kFhyvalMFOQh7pRQl2rjSf/Rs+TKPdXJVeaSoTWIVnXfGz6IYD4wgzAGJ7tf4+6xhmtQuNId5CgH+E6xl2yMTlgMlXX3HNycmL+0zdLQUgk5GFvHhSmbF8K02Y8mg++hyrvj8kV5iMU2FjK0bpt9fjApn0LRQaYwhQLYwIKIgYGL+lIGDbkQWFampgnAAkk1XncaizEGf8qCnMEEg/4PsG1GvkAdgpTHg/k4WweFKZsf1aYNuNhfBdzz3QKcwTCDHtm40H7eZEBFITAEXfYP3aNVO9gxn4WNc+7ZCURClPyoDBtyKP5UB5OajsozWGkWeX9CU3Fgx/4TWHKA4I8nM3DpR4tpl6qJzHUS31pdKj/mcsjkciw6yTaBvdD8iePR8fjUsOfCLlnU5jDCDPoWYCWOt+gY5jHrcxD8nA2D1aYssPECtOmPJoP5qHW/wWlGUea1dp3aCpZZGn5vpAVlcRCHs7mQWHK9qcwbcpDPcQg7J6BCn8ppWmRZtj9BO7dDFpavi+kICQW8nA2DwpTtj+FaWMebcGfEfS+TmHGCLNOy8XV6q8srT4QUhADLNQceTibB4Up25/CtDmPxv2rcEZfS2nqAQT0jWjYt9TS4jKkIMhDEpCR0/KDwpTtT2E6gEdTyVsI6J85Wpq1+nac0+eitfWKpcVl6LQTorqJcbg/8pB0nMaDwpTtT2E6gUdvLyJ7sxDQNzlSmid929GoZaCn64ZxV6ylyUXotBMihSman/khcYDCtADhF48lENvy6O0xvndYp3/kKGkG9Hyc0zMNWaqWpiBkvpMHeUgCMnJ1dHRAvVRPcqhXMn5Amvsh+ZNHcnicP7ACZ33vOEKaZ/x5iJRko/PuwA/Gq+8VDnXcq+WJjn3maXLy1NpGbBfJPVk8WGHKDgSHZB3I4+qJHQgXPo0q725bilM9VD3snYvL5Z9aWpcVphUIK0xJhDwkDwpT8qAwHcqj83oVzvnnoM7/ga2keVpfhwZPOtqbf7O0bF/IE6LEQh7kIQnIiMKUPChMh/O4WJ6PsHsmavxbUlqcJ3zfot79FFqOrre0qAwpCPKQBGTE/JA8KEzJg8IkDzy4cxHNh1Yh7MnASW1bSomzWtuJeu+LuLB/Gf5trbW05uCQJ0TJhDzIQxKQEYUpeVCY5BElcP9WqE+c7lkI+Deg3F/2WMqzXD+BU/58hAufxYX976LrxgnjM6gbRRL9URCSEHmQhyQgIwpT8qAwycNCAOjuvIrW45+joXAWQtoiVHu+RpleO+7yPO7ZibO+t9HgnonL5Rse+rcs1QelIGRzkwd5SAIyojAlDwqTPCwEZNje8geaD3+ABvcMhLSFqNU24phWlBR5HvOVoEYrQMi3CGH3dPz9+wp0XDwgdzAmYoUZA2MEz4FVa1OYkhl5SB6urq4uqJf5BfV40/b29mH/r96jfr8x3nvNZer7WuZ8vCn3o1vwIY/Hn8edq9Vord6MyL7XEN6ThpD3FZzW3kd14RZUat5RD+GW+4+hUvOj2rMNp7U1CHlfNbYf2TsPlyvz0XGlzDhmedwO5AiPlwEW6vxKHmPDg8LsHhuw7EBIrk7gcbctiJuNHjT/tR7nf81Boy/DEF14z3TUFz6HkHceznrfRNCbjTpPtjFVccibhXrP86jfM9NYv1F7BpHiRbhUtg7/1O/G3eunRGeKJ0SZW+RBHskqyDgkKyvu6InJsliEHOoSOBL+5JFa29FDO709xnXQ+7cb0NVWi85rlWgJlRjTrhs1uH87jO67rej970EUbKIcM0dpom+IM5NoG45vlzjMHJ2n5BGHgFxEYUoeFCZ5WAjIkKIiD0lARswPe/OgMGX7UpjkYSEgQ54QyUMSkBHzw948KEzZvhQmeVgIyJAnRPKQBGTE/LA3D9e9+w/AFxkwB5gDzAHmAHNg+BygMNlhYIeJOcAcYA4wB0aQAxTmCCCx1zV8r4t8yIc5wBxwQg78D1REpnCncATRAAAAAElFTkSuQmCC)"
      ]
    },
    {
      "cell_type": "markdown",
      "metadata": {
        "id": "HQjpp42R5qAn"
      },
      "source": [
        "## Conclusion"
      ]
    },
    {
      "cell_type": "markdown",
      "metadata": {
        "id": "Tx0zyjMm5qAo"
      },
      "source": [
        "Therefore, In conclusion in conducting the lab experimentm Matrices are indeed helpful in solving certain mathematical equations like linear systems and other scientific calculations that is also beneficial in determining inverse and determinant matrices. In the conducted lab experimement, we students were able to learn and apply the fundamentals of matrices in python programming using an online application based program such as google collaboratory. Here we learned about transpositioning of matrices, and the dot product of matrices. Moreover, the usage of function numpy was also very helpful in prevention of executing the prgram with many loops. Thus, the students were able to understand and apply the discussion related to matrices as it would be used in future Laboratory Experiements. "
      ]
    }
  ]
}